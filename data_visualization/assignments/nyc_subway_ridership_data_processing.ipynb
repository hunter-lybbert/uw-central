{
 "cells": [
  {
   "cell_type": "code",
   "execution_count": 1,
   "id": "eae52fc9",
   "metadata": {},
   "outputs": [],
   "source": [
    "import os\n",
    "import sys\n",
    "from pathlib import Path\n",
    "from typing import Optional\n",
    "\n",
    "from sodapy import Socrata\n",
    "import pandas as pd\n",
    "import geopandas as gpd\n",
    "from shapely.geometry import shape\n",
    "\n",
    "sys.path.insert(0, str(Path(os.getcwd()).parent.parent))\n",
    "\n",
    "from src.common.secrets_helper import Secrets\n",
    "\n",
    "secrets = Secrets()\n",
    "\n",
    "\n",
    "def process_numeric_fields(mta_gdf: gpd.GeoDataFrame, numeric_columns: Optional[list] = None) -> None:\n",
    "    if not numeric_columns:\n",
    "        numeric_columns = ['station_complex_id', 'sum_ridership', 'sum_transfers']\n",
    "    for col in numeric_columns:\n",
    "        mta_gdf[col] = pd.to_numeric(mta_gdf[col], errors='coerce')\n",
    "    return mta_gdf\n",
    "\n",
    "\n",
    "def assign_one_geometry_per_station_complex(gdf: gpd.GeoDataFrame) -> gpd.GeoDataFrame:\n",
    "    \"\"\"\n",
    "    Assign one geometry per station complex by taking the first geometry for each station_complex_id.\n",
    "    \"\"\"\n",
    "    gdf = gdf.copy()\n",
    "    gdf[\"geometry\"] = gdf.groupby(\"station_complex_id\")[\"geometry\"].transform(lambda x: x.iloc[0])\n",
    "    return gdf"
   ]
  },
  {
   "cell_type": "code",
   "execution_count": 2,
   "id": "1ada7f2f",
   "metadata": {},
   "outputs": [],
   "source": [
    "# Optional: Add your App Token here if you have one\n",
    "headers = {\n",
    "    \"Accept\": \"application/json\",\n",
    "    \"X-App-Token\": secrets[\"MTA_X_APP_TOKEN\"]\n",
    "}"
   ]
  },
  {
   "cell_type": "code",
   "execution_count": 3,
   "id": "3186fb41",
   "metadata": {},
   "outputs": [],
   "source": [
    "client = Socrata(domain=\"data.ny.gov\", app_token=secrets[\"MTA_X_APP_TOKEN\"])  # Or include your app token"
   ]
  },
  {
   "cell_type": "code",
   "execution_count": null,
   "id": "6915c51e",
   "metadata": {},
   "outputs": [],
   "source": []
  },
  {
   "cell_type": "code",
   "execution_count": 4,
   "id": "7696d8a1",
   "metadata": {},
   "outputs": [
    {
     "name": "stdout",
     "output_type": "stream",
     "text": [
      "transit_timestamp >= '2024-01-01' AND transit_timestamp < '2024-02-01' AND transit_mode = 'subway'\n",
      "transit_timestamp >= '2024-02-01' AND transit_timestamp < '2024-03-01' AND transit_mode = 'subway'\n",
      "transit_timestamp >= '2024-03-01' AND transit_timestamp < '2024-04-01' AND transit_mode = 'subway'\n",
      "transit_timestamp >= '2024-04-01' AND transit_timestamp < '2024-05-01' AND transit_mode = 'subway'\n",
      "transit_timestamp >= '2024-05-01' AND transit_timestamp < '2024-06-01' AND transit_mode = 'subway'\n",
      "transit_timestamp >= '2024-06-01' AND transit_timestamp < '2024-07-01' AND transit_mode = 'subway'\n",
      "transit_timestamp >= '2024-07-01' AND transit_timestamp < '2024-08-01' AND transit_mode = 'subway'\n",
      "transit_timestamp >= '2024-08-01' AND transit_timestamp < '2024-09-01' AND transit_mode = 'subway'\n",
      "transit_timestamp >= '2024-09-01' AND transit_timestamp < '2024-10-01' AND transit_mode = 'subway'\n",
      "transit_timestamp >= '2024-10-01' AND transit_timestamp < '2024-11-01' AND transit_mode = 'subway'\n",
      "transit_timestamp >= '2024-11-01' AND transit_timestamp < '2024-12-01' AND transit_mode = 'subway'\n",
      "transit_timestamp >= '2024-12-01' AND transit_timestamp < '2025-01-01' AND transit_mode = 'subway'\n"
     ]
    },
    {
     "data": {
      "text/plain": [
       "1200"
      ]
     },
     "execution_count": 4,
     "metadata": {},
     "output_type": "execute_result"
    }
   ],
   "source": [
    "client.timeout = 120\n",
    "month_start_dates = pd.date_range(start=\"2024-01-01\", end=\"2025-01-01\", freq=\"MS\")\n",
    "\n",
    "total_results = []\n",
    "for i in range(12):\n",
    "    start_date = month_start_dates[i].strftime('%Y-%m-%d')\n",
    "    end_date = month_start_dates[i + 1].strftime('%Y-%m-%d')\n",
    "    where_clause = f\"transit_timestamp >= {start_date!r} AND transit_timestamp < {end_date!r}\"\n",
    "    where_clause += f\" AND transit_mode = 'subway'\"\n",
    "    print(where_clause)\n",
    "    results = client.get(\n",
    "        \"wujg-7c2s\",\n",
    "        select=\"transit_timestamp, station_complex_id, station_complex, borough, georeference, sum(ridership), sum(transfers)\",\n",
    "        where=where_clause,\n",
    "        group=\"transit_timestamp, station_complex_id, station_complex, borough, georeference\",\n",
    "        limit=100,\n",
    "    )\n",
    "    total_results.extend(results)\n",
    "\n",
    "len(total_results)"
   ]
  },
  {
   "cell_type": "code",
   "execution_count": 5,
   "id": "ef7899f7",
   "metadata": {},
   "outputs": [],
   "source": [
    "df = pd.DataFrame.from_records(total_results)\n",
    "\n",
    "df['geometry'] = df['georeference'].apply(lambda x: shape(x) if x else None)\n",
    "gdf = gpd.GeoDataFrame(df, geometry='geometry', crs=\"EPSG:4326\")\n",
    "\n",
    "gdf = process_numeric_fields(gdf)\n",
    "gdf = assign_one_geometry_per_station_complex(gdf)\n",
    "gdf[\"transit_timestamp\"] = pd.to_datetime(gdf[\"transit_timestamp\"])\n",
    "gdf[\"month\"] = gdf[\"transit_timestamp\"].dt.month"
   ]
  },
  {
   "cell_type": "code",
   "execution_count": 6,
   "id": "4ab8195e",
   "metadata": {},
   "outputs": [],
   "source": [
    "gdf = gdf.groupby(\n",
    "    [pd.Grouper(key=\"transit_timestamp\", freq=\"D\"), \"station_complex_id\", \"station_complex\", \"borough\", \"geometry\", \"month\"],\n",
    "    as_index=False\n",
    ").agg({\"sum_ridership\": \"sum\", \"sum_transfers\": \"sum\"})"
   ]
  },
  {
   "cell_type": "code",
   "execution_count": 7,
   "id": "93b0843e",
   "metadata": {},
   "outputs": [],
   "source": [
    "gdf = gdf.rename(\n",
    "    columns={\"sum_ridership\": \"total_daily_ridership\", \"sum_transfers\": \"total_daily_transfers\"},\n",
    ")"
   ]
  },
  {
   "cell_type": "code",
   "execution_count": 8,
   "id": "e02fdbf7",
   "metadata": {},
   "outputs": [],
   "source": [
    "gdf = gpd.GeoDataFrame(\n",
    "    gdf,\n",
    "    geometry=gdf.geometry,\n",
    "    crs=\"EPSG:4326\",\n",
    ")"
   ]
  },
  {
   "cell_type": "code",
   "execution_count": 9,
   "id": "ccb36b1a",
   "metadata": {},
   "outputs": [],
   "source": [
    "gdf.to_file(\n",
    "    \"../data/mta_subway_total_daily_ridership_by_station_2024-01-01_to_2025-01-01_1200_subset.geojson\",\n",
    "    driver=\"GeoJSON\",\n",
    ")"
   ]
  },
  {
   "cell_type": "code",
   "execution_count": null,
   "id": "942ee38b",
   "metadata": {},
   "outputs": [],
   "source": []
  }
 ],
 "metadata": {
  "kernelspec": {
   "display_name": "uw-dev-env",
   "language": "python",
   "name": "python3"
  },
  "language_info": {
   "codemirror_mode": {
    "name": "ipython",
    "version": 3
   },
   "file_extension": ".py",
   "mimetype": "text/x-python",
   "name": "python",
   "nbconvert_exporter": "python",
   "pygments_lexer": "ipython3",
   "version": "3.11.8"
  }
 },
 "nbformat": 4,
 "nbformat_minor": 5
}
