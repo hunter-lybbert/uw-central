{
 "cells": [
  {
   "cell_type": "code",
   "execution_count": 1,
   "id": "eae52fc9",
   "metadata": {},
   "outputs": [],
   "source": [
    "import requests\n",
    "import pandas as pd\n",
    "import geopandas as gpd\n",
    "from shapely.geometry import shape\n",
    "\n",
    "import os\n",
    "import sys\n",
    "from pathlib import Path\n",
    "\n",
    "sys.path.insert(0, str(Path(os.getcwd()).parent.parent))\n",
    "\n",
    "from src.common.secrets_helper import Secrets\n",
    "secrets = Secrets()\n",
    "\n",
    "# Full URL with SoQL query\n",
    "url = \"https://data.ny.gov/resource/wujg-7c2s.json?$query=SELECT%20transit_timestamp%2C%20transit_mode%2C%20station_complex_id%2C%20station_complex%2C%20borough%2C%20payment_method%2C%20fare_class_category%2C%20ridership%2C%20transfers%2C%20latitude%2C%20longitude%2C%20georeference%20WHERE%20%60transit_timestamp%60%20%3E%3D%20'2024-06-01'%20AND%20%60transit_timestamp%60%20%3C%20'2024-07-01'%20LIMIT%2050000\""
   ]
  },
  {
   "cell_type": "code",
   "execution_count": 2,
   "id": "1ada7f2f",
   "metadata": {},
   "outputs": [],
   "source": [
    "# Optional: Add your App Token here if you have one\n",
    "headers = {\n",
    "    \"Accept\": \"application/json\",\n",
    "    # TODO: edit this so the token is not displayed in raw text.\n",
    "    \"X-App-Token\": secrets[\"MTA_X_APP_TOKEN\"]\n",
    "}"
   ]
  },
  {
   "cell_type": "code",
   "execution_count": null,
   "id": "48d7a3ff",
   "metadata": {},
   "outputs": [],
   "source": [
    "offset = 0\n",
    "limit = 50000\n",
    "all_data = []\n",
    "\n",
    "while True:\n",
    "    paged_query = f\"\"\"\n",
    "    SELECT transit_timestamp, transit_mode, station_complex_id, ...\n",
    "    WHERE transit_timestamp >= '2024-06-01' AND transit_timestamp < '2024-07-01'\n",
    "    LIMIT {limit} OFFSET {offset}\n",
    "    \"\"\"\n",
    "    url = \"https://data.ny.gov/resource/wujg-7c2s.json?$query=\" + quote(paged_query)\n",
    "    response = requests.get(url, headers=headers)\n",
    "    chunk = response.json()\n",
    "    \n",
    "    if not chunk:\n",
    "        break\n",
    "    all_data.extend(chunk)\n",
    "    offset += limit\n"
   ]
  },
  {
   "cell_type": "code",
   "execution_count": 53,
   "id": "4b2ea3e5",
   "metadata": {},
   "outputs": [
    {
     "name": "stdout",
     "output_type": "stream",
     "text": [
      "Success!\n"
     ]
    }
   ],
   "source": [
    "# Send the request\n",
    "response = requests.get(url, headers=headers)\n",
    "\n",
    "# Check for successful response\n",
    "if response.status_code == 200:\n",
    "    data = response.json()\n",
    "    df = pd.DataFrame(data)\n",
    "    print(\"Success!\")\n",
    "else:\n",
    "    print(f\"Request failed with status code {response.status_code}\")\n",
    "\n",
    "# Convert the 'georeference' column to Shapely geometries\n",
    "df['geometry'] = df['georeference'].apply(lambda x: shape(x) if x else None)\n",
    "\n",
    "gdf = gpd.GeoDataFrame(df, geometry='geometry')"
   ]
  },
  {
   "cell_type": "code",
   "execution_count": 55,
   "id": "342247df",
   "metadata": {},
   "outputs": [
    {
     "data": {
      "text/plain": [
       "transit_timestamp        object\n",
       "transit_mode             object\n",
       "station_complex_id       object\n",
       "station_complex          object\n",
       "borough                  object\n",
       "payment_method           object\n",
       "fare_class_category      object\n",
       "ridership                object\n",
       "transfers                object\n",
       "latitude                 object\n",
       "longitude                object\n",
       "georeference             object\n",
       "geometry               geometry\n",
       "dtype: object"
      ]
     },
     "execution_count": 55,
     "metadata": {},
     "output_type": "execute_result"
    }
   ],
   "source": [
    "gdf.dtypes"
   ]
  },
  {
   "cell_type": "code",
   "execution_count": 56,
   "id": "67e538fc",
   "metadata": {},
   "outputs": [
    {
     "data": {
      "text/plain": [
       "(50000, 13)"
      ]
     },
     "execution_count": 56,
     "metadata": {},
     "output_type": "execute_result"
    }
   ],
   "source": [
    "gdf.shape"
   ]
  },
  {
   "cell_type": "code",
   "execution_count": null,
   "id": "6246cf28",
   "metadata": {},
   "outputs": [],
   "source": [
    "def api_query_string_to_sql_query(\n",
    "    api_query_string: str\n",
    " )-> str:\n",
    "    pass\n",
    "\n",
    "\n",
    "\n",
    "def sql_query_to_api_query_string():\n",
    "    \"\"\"\n",
    "    Converts a SQL query string to an API query string.\n",
    "    \"\"\"\n",
    "    # Example SQL query\n",
    "    sql_query = \"\"\"\n",
    "    SELECT\n",
    "        transit_timestamp,\n",
    "        transit_mode,\n",
    "        station_complex_id,\n",
    "        station_complex,\n",
    "        borough,\n",
    "        payment_method,\n",
    "        fare_class_category,\n",
    "        ridership,\n",
    "        transfers,\n",
    "        latitude,\n",
    "        longitude,\n",
    "        georeference\n",
    "    WHERE transit_timestamp >= '2024-06-01' AND transit_timestamp < '2024-07-01'\n",
    "    \"\"\"\n",
    "\n",
    "    # Convert SQL to API query string\n",
    "    api_query_string = sql_query.replace(\"SELECT\", \"$query=SELECT\").replace(\"WHERE\", \"WHERE\").replace(\" \", \"%20\").replace(\"'\", \"%27\")\n",
    "    \n",
    "    return api_query_string\n",
    "\n",
    "\n",
    "\"$query=SELECT%20transit_timestamp%2C%20transit_mode%2C%20station_complex_id%2C%20station_complex%2C%20borough%2C%20payment_method%2C%20fare_class_category%2C%20ridership%2C%20transfers%2C%20latitude%2C%20longitude%2C%20georeference%20WHERE%20%60transit_timestamp%60%20%3E%3D%20'2024-06-01'%20AND%20%60transit_timestamp%60%20%3C%20'2024-07-01'\""
   ]
  },
  {
   "cell_type": "code",
   "execution_count": 21,
   "id": "5b4243a8",
   "metadata": {},
   "outputs": [
    {
     "data": {
      "text/plain": [
       "False"
      ]
     },
     "execution_count": 21,
     "metadata": {},
     "output_type": "execute_result"
    }
   ],
   "source": [
    "from urllib.parse import quote\n",
    "\n",
    "soql = \"SELECT transit_timestamp, transit_mode, station_complex_id, station_complex, borough, payment_method, fare_class_category, ridership, transfers, latitude, longitude, georeference\\nWHERE `transit_timestamp` >= '2024-06-01' AND `transit_timestamp` < '2024-07-01'\"\n",
    "\n",
    "url_2 = \"https://data.ny.gov/resource/wujg-7c2s.json?$query=\" + quote(soql)\n",
    "url_2 == url"
   ]
  },
  {
   "cell_type": "code",
   "execution_count": 22,
   "id": "e55e5c4b",
   "metadata": {},
   "outputs": [
    {
     "data": {
      "text/plain": [
       "'https://data.ny.gov/resource/wujg-7c2s.json?$query=SELECT%20transit_timestamp%2C%20transit_mode%2C%20station_complex_id%2C%20station_complex%2C%20borough%2C%20payment_method%2C%20fare_class_category%2C%20ridership%2C%20transfers%2C%20latitude%2C%20longitude%2C%20georeference%0AWHERE%20%60transit_timestamp%60%20%3E%3D%20%272024-06-01%27%20AND%20%60transit_timestamp%60%20%3C%20%272024-07-01%27'"
      ]
     },
     "execution_count": 22,
     "metadata": {},
     "output_type": "execute_result"
    }
   ],
   "source": [
    "url_2"
   ]
  },
  {
   "cell_type": "code",
   "execution_count": 23,
   "id": "35c22d62",
   "metadata": {},
   "outputs": [
    {
     "data": {
      "text/plain": [
       "\"https://data.ny.gov/resource/wujg-7c2s.json?$query=SELECT%20transit_timestamp%2C%20transit_mode%2C%20station_complex_id%2C%20station_complex%2C%20borough%2C%20payment_method%2C%20fare_class_category%2C%20ridership%2C%20transfers%2C%20latitude%2C%20longitude%2C%20georeference%20WHERE%20%60transit_timestamp%60%20%3E%3D%20'2024-06-01'%20AND%20%60transit_timestamp%60%20%3C%20'2024-07-01'\""
      ]
     },
     "execution_count": 23,
     "metadata": {},
     "output_type": "execute_result"
    }
   ],
   "source": [
    "url"
   ]
  },
  {
   "cell_type": "code",
   "execution_count": 16,
   "id": "de4def47",
   "metadata": {},
   "outputs": [],
   "source": [
    "from sodapy import Socrata\n",
    "import json\n",
    "\n",
    "MTA_APP_TOKEN = \"ULqRMJBt2gpxxOgtGrRI3GXK9\""
   ]
  },
  {
   "cell_type": "code",
   "execution_count": 17,
   "id": "e5b0be8f",
   "metadata": {},
   "outputs": [],
   "source": [
    "# ridership_fields = []"
   ]
  },
  {
   "cell_type": "code",
   "execution_count": 18,
   "id": "3186fb41",
   "metadata": {},
   "outputs": [],
   "source": [
    "client = Socrata(domain=\"data.ny.gov\", app_token=MTA_APP_TOKEN)  # Or include your app token\n",
    "\n",
    "\n",
    "\n",
    "results = client.get(\n",
    "    \"wujg-7c2s\",\n",
    "    select=\"*\",\n",
    "    where=\"transit_timestamp >= '2024-06-01' AND transit_timestamp < '2024-07-01'\",\n",
    "    # where=\"transit_timestamp >= '2024-06-01' AND transit_timestamp < '2024-07-01' AND borough = 'Manhattan'\",\n",
    "    limit=10000000\n",
    ")\n",
    "\n",
    "with open(\"mta_ridership_all_boroughs_june_2024.json\", \"w\") as file:\n",
    "    json.dump(results, file)\n",
    "\n",
    "# You can convert to DataFrame\n",
    "import pandas as pd\n",
    "df = pd.DataFrame.from_records(results)\n"
   ]
  },
  {
   "cell_type": "code",
   "execution_count": 19,
   "id": "500b9164",
   "metadata": {},
   "outputs": [
    {
     "data": {
      "text/plain": [
       "(2152106, 12)"
      ]
     },
     "execution_count": 19,
     "metadata": {},
     "output_type": "execute_result"
    }
   ],
   "source": [
    "df.shape"
   ]
  },
  {
   "cell_type": "code",
   "execution_count": null,
   "id": "5c5495b6",
   "metadata": {},
   "outputs": [],
   "source": [
    "from shapely.geometry import shape\n",
    "import geopandas as gpd\n",
    "\n",
    "df['geometry'] = df['georeference'].apply(lambda x: shape(x) if x else None)\n",
    "\n",
    "gdf = gpd.GeoDataFrame(df, geometry='geometry', crs=\"EPSG:4326\")"
   ]
  },
  {
   "cell_type": "code",
   "execution_count": 25,
   "id": "d5ac52b5",
   "metadata": {},
   "outputs": [],
   "source": [
    "gdf = gdf.set_crs(\"EPSG:4326\")"
   ]
  },
  {
   "cell_type": "code",
   "execution_count": 26,
   "id": "859160f0",
   "metadata": {},
   "outputs": [],
   "source": [
    "gdf.to_file(\"mta_ridership_all_boroughs_june_2024.geojson\", driver=\"GeoJSON\")"
   ]
  },
  {
   "cell_type": "code",
   "execution_count": null,
   "id": "3389af9f",
   "metadata": {},
   "outputs": [],
   "source": []
  }
 ],
 "metadata": {
  "kernelspec": {
   "display_name": "uw-dev-env",
   "language": "python",
   "name": "python3"
  },
  "language_info": {
   "codemirror_mode": {
    "name": "ipython",
    "version": 3
   },
   "file_extension": ".py",
   "mimetype": "text/x-python",
   "name": "python",
   "nbconvert_exporter": "python",
   "pygments_lexer": "ipython3",
   "version": "3.11.8"
  }
 },
 "nbformat": 4,
 "nbformat_minor": 5
}
