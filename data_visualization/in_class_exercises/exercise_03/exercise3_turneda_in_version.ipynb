{
 "cells": [
  {
   "cell_type": "code",
   "execution_count": 1,
   "metadata": {},
   "outputs": [],
   "source": [
    "import altair as alt\n",
    "import pandas as pd"
   ]
  },
  {
   "cell_type": "code",
   "execution_count": 3,
   "metadata": {},
   "outputs": [],
   "source": [
    "d = pd.read_json(\"https://vega.github.io/vega-datasets/data/udistrict.json\")"
   ]
  },
  {
   "cell_type": "code",
   "execution_count": 4,
   "metadata": {},
   "outputs": [
    {
     "data": {
      "text/html": [
       "<div>\n",
       "<style scoped>\n",
       "    .dataframe tbody tr th:only-of-type {\n",
       "        vertical-align: middle;\n",
       "    }\n",
       "\n",
       "    .dataframe tbody tr th {\n",
       "        vertical-align: top;\n",
       "    }\n",
       "\n",
       "    .dataframe thead th {\n",
       "        text-align: right;\n",
       "    }\n",
       "</style>\n",
       "<table border=\"1\" class=\"dataframe\">\n",
       "  <thead>\n",
       "    <tr style=\"text-align: right;\">\n",
       "      <th></th>\n",
       "      <th>key</th>\n",
       "      <th>lat</th>\n",
       "    </tr>\n",
       "  </thead>\n",
       "  <tbody>\n",
       "    <tr>\n",
       "      <th>0</th>\n",
       "      <td>bakeries</td>\n",
       "      <td>47.668870</td>\n",
       "    </tr>\n",
       "    <tr>\n",
       "      <th>1</th>\n",
       "      <td>bakeries</td>\n",
       "      <td>47.661781</td>\n",
       "    </tr>\n",
       "    <tr>\n",
       "      <th>2</th>\n",
       "      <td>bakeries</td>\n",
       "      <td>47.659980</td>\n",
       "    </tr>\n",
       "    <tr>\n",
       "      <th>3</th>\n",
       "      <td>bakeries</td>\n",
       "      <td>47.663373</td>\n",
       "    </tr>\n",
       "    <tr>\n",
       "      <th>4</th>\n",
       "      <td>bakeries</td>\n",
       "      <td>47.658210</td>\n",
       "    </tr>\n",
       "  </tbody>\n",
       "</table>\n",
       "</div>"
      ],
      "text/plain": [
       "        key        lat\n",
       "0  bakeries  47.668870\n",
       "1  bakeries  47.661781\n",
       "2  bakeries  47.659980\n",
       "3  bakeries  47.663373\n",
       "4  bakeries  47.658210"
      ]
     },
     "execution_count": 4,
     "metadata": {},
     "output_type": "execute_result"
    }
   ],
   "source": [
    "d.head()"
   ]
  },
  {
   "cell_type": "markdown",
   "metadata": {},
   "source": [
    "**Part 1**"
   ]
  },
  {
   "cell_type": "code",
   "execution_count": 19,
   "metadata": {},
   "outputs": [
    {
     "name": "stderr",
     "output_type": "stream",
     "text": [
      "/opt/anaconda3/lib/python3.12/site-packages/altair/utils/core.py:395: FutureWarning: the convert_dtype parameter is deprecated and will be removed in a future version.  Do ``ser.astype(object).apply()`` instead if you want ``convert_dtype=False``.\n",
      "  col = df[col_name].apply(to_list_if_array, convert_dtype=False)\n"
     ]
    },
    {
     "data": {
      "text/html": [
       "\n",
       "<style>\n",
       "  #altair-viz-d7a5d9d482314bf4a7d3d665b9226175.vega-embed {\n",
       "    width: 100%;\n",
       "    display: flex;\n",
       "  }\n",
       "\n",
       "  #altair-viz-d7a5d9d482314bf4a7d3d665b9226175.vega-embed details,\n",
       "  #altair-viz-d7a5d9d482314bf4a7d3d665b9226175.vega-embed details summary {\n",
       "    position: relative;\n",
       "  }\n",
       "</style>\n",
       "<div id=\"altair-viz-d7a5d9d482314bf4a7d3d665b9226175\"></div>\n",
       "<script type=\"text/javascript\">\n",
       "  var VEGA_DEBUG = (typeof VEGA_DEBUG == \"undefined\") ? {} : VEGA_DEBUG;\n",
       "  (function(spec, embedOpt){\n",
       "    let outputDiv = document.currentScript.previousElementSibling;\n",
       "    if (outputDiv.id !== \"altair-viz-d7a5d9d482314bf4a7d3d665b9226175\") {\n",
       "      outputDiv = document.getElementById(\"altair-viz-d7a5d9d482314bf4a7d3d665b9226175\");\n",
       "    }\n",
       "    const paths = {\n",
       "      \"vega\": \"https://cdn.jsdelivr.net/npm/vega@5?noext\",\n",
       "      \"vega-lib\": \"https://cdn.jsdelivr.net/npm/vega-lib?noext\",\n",
       "      \"vega-lite\": \"https://cdn.jsdelivr.net/npm/vega-lite@5.8.0?noext\",\n",
       "      \"vega-embed\": \"https://cdn.jsdelivr.net/npm/vega-embed@6?noext\",\n",
       "    };\n",
       "\n",
       "    function maybeLoadScript(lib, version) {\n",
       "      var key = `${lib.replace(\"-\", \"\")}_version`;\n",
       "      return (VEGA_DEBUG[key] == version) ?\n",
       "        Promise.resolve(paths[lib]) :\n",
       "        new Promise(function(resolve, reject) {\n",
       "          var s = document.createElement('script');\n",
       "          document.getElementsByTagName(\"head\")[0].appendChild(s);\n",
       "          s.async = true;\n",
       "          s.onload = () => {\n",
       "            VEGA_DEBUG[key] = version;\n",
       "            return resolve(paths[lib]);\n",
       "          };\n",
       "          s.onerror = () => reject(`Error loading script: ${paths[lib]}`);\n",
       "          s.src = paths[lib];\n",
       "        });\n",
       "    }\n",
       "\n",
       "    function showError(err) {\n",
       "      outputDiv.innerHTML = `<div class=\"error\" style=\"color:red;\">${err}</div>`;\n",
       "      throw err;\n",
       "    }\n",
       "\n",
       "    function displayChart(vegaEmbed) {\n",
       "      vegaEmbed(outputDiv, spec, embedOpt)\n",
       "        .catch(err => showError(`Javascript Error: ${err.message}<br>This usually means there's a typo in your chart specification. See the javascript console for the full traceback.`));\n",
       "    }\n",
       "\n",
       "    if(typeof define === \"function\" && define.amd) {\n",
       "      requirejs.config({paths});\n",
       "      require([\"vega-embed\"], displayChart, err => showError(`Error loading script: ${err.message}`));\n",
       "    } else {\n",
       "      maybeLoadScript(\"vega\", \"5\")\n",
       "        .then(() => maybeLoadScript(\"vega-lite\", \"5.8.0\"))\n",
       "        .then(() => maybeLoadScript(\"vega-embed\", \"6\"))\n",
       "        .catch(showError)\n",
       "        .then(() => displayChart(vegaEmbed));\n",
       "    }\n",
       "  })({\"config\": {\"view\": {\"continuousWidth\": 300, \"continuousHeight\": 300}}, \"data\": {\"name\": \"data-6dfcc2d045bece6fe69863e2539333af\"}, \"mark\": {\"type\": \"tick\", \"height\": 50}, \"encoding\": {\"x\": {\"field\": \"lat\", \"scale\": {\"domain\": [47.65061, 47.670872283935495]}, \"type\": \"quantitative\"}}, \"height\": 100, \"width\": 600, \"$schema\": \"https://vega.github.io/schema/vega-lite/v5.8.0.json\", \"datasets\": {\"data-6dfcc2d045bece6fe69863e2539333af\": [{\"key\": \"bakeries\", \"lat\": 47.66887}, {\"key\": \"bakeries\", \"lat\": 47.6617813110352}, {\"key\": \"bakeries\", \"lat\": 47.65998}, {\"key\": \"bakeries\", \"lat\": 47.6633732020855}, {\"key\": \"bakeries\", \"lat\": 47.6582099}, {\"key\": \"bakeries\", \"lat\": 47.66105}, {\"key\": \"indian\", \"lat\": 47.669083}, {\"key\": \"indian\", \"lat\": 47.6647397425756}, {\"key\": \"indian\", \"lat\": 47.65898}, {\"key\": \"indian\", \"lat\": 47.6641}, {\"key\": \"indian\", \"lat\": 47.6587699}, {\"key\": \"indian\", \"lat\": 47.6623521}, {\"key\": \"hawaiian\", \"lat\": 47.664349}, {\"key\": \"hawaiian\", \"lat\": 47.6627388}, {\"key\": \"hawaiian\", \"lat\": 47.66359}, {\"key\": \"korean\", \"lat\": 47.658201}, {\"key\": \"korean\", \"lat\": 47.664349}, {\"key\": \"korean\", \"lat\": 47.65714}, {\"key\": \"korean\", \"lat\": 47.66671}, {\"key\": \"korean\", \"lat\": 47.65847}, {\"key\": \"korean\", \"lat\": 47.667652}, {\"key\": \"korean\", \"lat\": 47.66208}, {\"key\": \"korean\", \"lat\": 47.6577399}, {\"key\": \"korean\", \"lat\": 47.6571884155273}, {\"key\": \"korean\", \"lat\": 47.6577399}, {\"key\": \"burgers\", \"lat\": 47.6616432}, {\"key\": \"burgers\", \"lat\": 47.659244}, {\"key\": \"burgers\", \"lat\": 47.66464}, {\"key\": \"burgers\", \"lat\": 47.6616201}, {\"key\": \"burgers\", \"lat\": 47.66171}, {\"key\": \"burgers\", \"lat\": 47.6582099}, {\"key\": \"burgers\", \"lat\": 47.6614373897426}, {\"key\": \"burgers\", \"lat\": 47.66476}, {\"key\": \"burgers\", \"lat\": 47.655889079095}, {\"key\": \"bubbletea\", \"lat\": 47.661484}, {\"key\": \"bubbletea\", \"lat\": 47.664773}, {\"key\": \"bubbletea\", \"lat\": 47.6638174140586}, {\"key\": \"bubbletea\", \"lat\": 47.6628435}, {\"key\": \"bubbletea\", \"lat\": 47.6608}, {\"key\": \"bubbletea\", \"lat\": 47.65714}, {\"key\": \"bubbletea\", \"lat\": 47.664073559291}, {\"key\": \"bubbletea\", \"lat\": 47.66325}, {\"key\": \"bubbletea\", \"lat\": 47.66105}, {\"key\": \"bubbletea\", \"lat\": 47.661621}, {\"key\": \"bubbletea\", \"lat\": 47.66325}, {\"key\": \"bubbletea\", \"lat\": 47.6568748203069}, {\"key\": \"seafood\", \"lat\": 47.66015}, {\"key\": \"seafood\", \"lat\": 47.66464}, {\"key\": \"seafood\", \"lat\": 47.6616432}, {\"key\": \"veg\", \"lat\": 47.66838}, {\"key\": \"veg\", \"lat\": 47.664773}, {\"key\": \"veg\", \"lat\": 47.6675671}, {\"key\": \"veg\", \"lat\": 47.6686016}, {\"key\": \"vietnamese\", \"lat\": 47.65822}, {\"key\": \"vietnamese\", \"lat\": 47.65919}, {\"key\": \"vietnamese\", \"lat\": 47.6581344604492}, {\"key\": \"vietnamese\", \"lat\": 47.6594222814143}, {\"key\": \"vietnamese\", \"lat\": 47.6577}, {\"key\": \"vietnamese\", \"lat\": 47.65547}, {\"key\": \"vietnamese\", \"lat\": 47.6584999}, {\"key\": \"vietnamese\", \"lat\": 47.65878}, {\"key\": \"latin\", \"lat\": 47.6647592219734}, {\"key\": \"latin\", \"lat\": 47.65714}, {\"key\": \"latin\", \"lat\": 47.6659099}, {\"key\": \"latin\", \"lat\": 47.65923}, {\"key\": \"latin\", \"lat\": 47.65161}, {\"key\": \"latin\", \"lat\": 47.6643199}, {\"key\": \"latin\", \"lat\": 47.6595391}, {\"key\": \"latin\", \"lat\": 47.6614673237322}, {\"key\": \"japanese\", \"lat\": 47.66671}, {\"key\": \"japanese\", \"lat\": 47.664349}, {\"key\": \"japanese\", \"lat\": 47.6617467}, {\"key\": \"japanese\", \"lat\": 47.6599989831448}, {\"key\": \"japanese\", \"lat\": 47.6580970623725}, {\"key\": \"japanese\", \"lat\": 47.6610565185547}, {\"key\": \"japanese\", \"lat\": 47.657078}, {\"key\": \"japanese\", \"lat\": 47.65964}, {\"key\": \"japanese\", \"lat\": 47.6667608320713}, {\"key\": \"japanese\", \"lat\": 47.65799}, {\"key\": \"japanese\", \"lat\": 47.66359}, {\"key\": \"japanese\", \"lat\": 47.6577399}, {\"key\": \"japanese\", \"lat\": 47.6571884155273}, {\"key\": \"japanese\", \"lat\": 47.65902}, {\"key\": \"breakfast\", \"lat\": 47.6646650792784}, {\"key\": \"breakfast\", \"lat\": 47.6597958}, {\"key\": \"breakfast\", \"lat\": 47.657772}, {\"key\": \"breakfast\", \"lat\": 47.66295}, {\"key\": \"breakfast\", \"lat\": 47.65651}, {\"key\": \"breakfast\", \"lat\": 47.65851}, {\"key\": \"breakfast\", \"lat\": 47.6595172}, {\"key\": \"breakfast\", \"lat\": 47.6565299}, {\"key\": \"thai\", \"lat\": 47.66679}, {\"key\": \"thai\", \"lat\": 47.6581344604492}, {\"key\": \"thai\", \"lat\": 47.6675671}, {\"key\": \"thai\", \"lat\": 47.662455}, {\"key\": \"thai\", \"lat\": 47.6588020473719}, {\"key\": \"thai\", \"lat\": 47.6642113}, {\"key\": \"thai\", \"lat\": 47.65928}, {\"key\": \"thai\", \"lat\": 47.6587699}, {\"key\": \"thai\", \"lat\": 47.65547}, {\"key\": \"american\", \"lat\": 47.6680599}, {\"key\": \"american\", \"lat\": 47.657772}, {\"key\": \"american\", \"lat\": 47.6616432}, {\"key\": \"american\", \"lat\": 47.65651}, {\"key\": \"american\", \"lat\": 47.6616201}, {\"key\": \"american\", \"lat\": 47.6608123779297}, {\"key\": \"chinese\", \"lat\": 47.6651010477427}, {\"key\": \"chinese\", \"lat\": 47.66815}, {\"key\": \"chinese\", \"lat\": 47.6581344604492}, {\"key\": \"chinese\", \"lat\": 47.66144}, {\"key\": \"chinese\", \"lat\": 47.66389}, {\"key\": \"chinese\", \"lat\": 47.66236}, {\"key\": \"chinese\", \"lat\": 47.65714}, {\"key\": \"chinese\", \"lat\": 47.66105}, {\"key\": \"chinese\", \"lat\": 47.6568856156391}, {\"key\": \"chinese\", \"lat\": 47.662628}, {\"key\": \"chinese\", \"lat\": 47.6594399}, {\"key\": \"chinese\", \"lat\": 47.66174}, {\"key\": \"chinese\", \"lat\": 47.6571884155273}, {\"key\": \"chinese\", \"lat\": 47.6643}, {\"key\": \"mideastern\", \"lat\": 47.66244}, {\"key\": \"mideastern\", \"lat\": 47.66093}, {\"key\": \"mideastern\", \"lat\": 47.65805}, {\"key\": \"mideastern\", \"lat\": 47.65991}, {\"key\": \"mideastern\", \"lat\": 47.6590045}, {\"key\": \"mideastern\", \"lat\": 47.6647397425756}, {\"key\": \"mideastern\", \"lat\": 47.6691895}, {\"key\": \"mideastern\", \"lat\": 47.6587699}, {\"key\": \"mideastern\", \"lat\": 47.6623521}, {\"key\": \"mideastern\", \"lat\": 47.66295}, {\"key\": \"mideastern\", \"lat\": 47.65867}, {\"key\": \"mideastern\", \"lat\": 47.6679654176159}, {\"key\": \"pizza\", \"lat\": 47.65847}, {\"key\": \"pizza\", \"lat\": 47.662201}, {\"key\": \"pizza\", \"lat\": 47.6686016}, {\"key\": \"pizza\", \"lat\": 47.66671}, {\"key\": \"pizza\", \"lat\": 47.65784}, {\"key\": \"pizza\", \"lat\": 47.66729}, {\"key\": \"pizza\", \"lat\": 47.667652}, {\"key\": \"pizza\", \"lat\": 47.658947}, {\"key\": \"pizza\", \"lat\": 47.6558651}, {\"key\": \"drinks\", \"lat\": 47.6680599}, {\"key\": \"drinks\", \"lat\": 47.6617813110352}, {\"key\": \"drinks\", \"lat\": 47.66479}, {\"key\": \"drinks\", \"lat\": 47.65553}, {\"key\": \"drinks\", \"lat\": 47.65784}, {\"key\": \"drinks\", \"lat\": 47.65735}, {\"key\": \"drinks\", \"lat\": 47.6614427887238}, {\"key\": \"drinks\", \"lat\": 47.6614373897426}, {\"key\": \"drinks\", \"lat\": 47.6608123779297}, {\"key\": \"drinks\", \"lat\": 47.658947}, {\"key\": \"drinks\", \"lat\": 47.66171}, {\"key\": \"drinks\", \"lat\": 47.667652}, {\"key\": \"coffee\", \"lat\": 47.6597958}, {\"key\": \"coffee\", \"lat\": 47.6620911}, {\"key\": \"coffee\", \"lat\": 47.6698722839355}, {\"key\": \"coffee\", \"lat\": 47.6646650792784}, {\"key\": \"coffee\", \"lat\": 47.6617813110352}, {\"key\": \"coffee\", \"lat\": 47.657406}, {\"key\": \"coffee\", \"lat\": 47.6587736}, {\"key\": \"coffee\", \"lat\": 47.6638174140586}, {\"key\": \"coffee\", \"lat\": 47.66148}, {\"key\": \"coffee\", \"lat\": 47.66114}, {\"key\": \"coffee\", \"lat\": 47.661484}, {\"key\": \"coffee\", \"lat\": 47.66325}, {\"key\": \"coffee\", \"lat\": 47.658561989665}, {\"key\": \"coffee\", \"lat\": 47.664073559291}, {\"key\": \"coffee\", \"lat\": 47.65998}, {\"key\": \"coffee\", \"lat\": 47.6633732020855}, {\"key\": \"coffee\", \"lat\": 47.6610565185547}, {\"key\": \"coffee\", \"lat\": 47.66003}, {\"key\": \"coffee\", \"lat\": 47.65851}, {\"key\": \"coffee\", \"lat\": 47.6628435}, {\"key\": \"coffee\", \"lat\": 47.6533553}, {\"key\": \"coffee\", \"lat\": 47.6553802192211}, {\"key\": \"coffee\", \"lat\": 47.6595772057772}, {\"key\": \"coffee\", \"lat\": 47.65818}, {\"key\": \"coffee\", \"lat\": 47.6546670937183}, {\"key\": \"coffee\", \"lat\": 47.661621}, {\"key\": \"coffee\", \"lat\": 47.66279}, {\"key\": \"coffee\", \"lat\": 47.6563760338137}, {\"key\": \"coffee\", \"lat\": 47.6568332490467}]}}, {\"mode\": \"vega-lite\"});\n",
       "</script>"
      ],
      "text/plain": [
       "alt.Chart(...)"
      ]
     },
     "execution_count": 19,
     "metadata": {},
     "output_type": "execute_result"
    }
   ],
   "source": [
    "alt.Chart(d).mark_tick(height=50).encode(\n",
    "    x=alt.X(\"lat:Q\", scale=alt.Scale(domain=[d[\"lat\"].min() - 1e-3, d[\"lat\"].max() + 1e-3])),\n",
    ").properties(\n",
    "    width=600,\n",
    "    height=100,\n",
    ")"
   ]
  },
  {
   "cell_type": "markdown",
   "metadata": {},
   "source": [
    "1. We see that all of the latitude points are right on top of each other in a very small range around 47 degrees. \n",
    "It would be nice to know perhaps what is at 47 degrees latitude and perhaps also their longitude. We would also be aided with more data about each restaurant more than just a simple label. Perhaps other information like opening hours or price points, etc. would be helpful."
   ]
  },
  {
   "cell_type": "markdown",
   "metadata": {},
   "source": [
    "**Part 2**"
   ]
  },
  {
   "cell_type": "code",
   "execution_count": 14,
   "metadata": {},
   "outputs": [
    {
     "name": "stderr",
     "output_type": "stream",
     "text": [
      "/opt/anaconda3/lib/python3.12/site-packages/altair/utils/core.py:395: FutureWarning: the convert_dtype parameter is deprecated and will be removed in a future version.  Do ``ser.astype(object).apply()`` instead if you want ``convert_dtype=False``.\n",
      "  col = df[col_name].apply(to_list_if_array, convert_dtype=False)\n"
     ]
    },
    {
     "data": {
      "text/html": [
       "\n",
       "<style>\n",
       "  #altair-viz-86c400e8a32e41c8bf3c652ec389306b.vega-embed {\n",
       "    width: 100%;\n",
       "    display: flex;\n",
       "  }\n",
       "\n",
       "  #altair-viz-86c400e8a32e41c8bf3c652ec389306b.vega-embed details,\n",
       "  #altair-viz-86c400e8a32e41c8bf3c652ec389306b.vega-embed details summary {\n",
       "    position: relative;\n",
       "  }\n",
       "</style>\n",
       "<div id=\"altair-viz-86c400e8a32e41c8bf3c652ec389306b\"></div>\n",
       "<script type=\"text/javascript\">\n",
       "  var VEGA_DEBUG = (typeof VEGA_DEBUG == \"undefined\") ? {} : VEGA_DEBUG;\n",
       "  (function(spec, embedOpt){\n",
       "    let outputDiv = document.currentScript.previousElementSibling;\n",
       "    if (outputDiv.id !== \"altair-viz-86c400e8a32e41c8bf3c652ec389306b\") {\n",
       "      outputDiv = document.getElementById(\"altair-viz-86c400e8a32e41c8bf3c652ec389306b\");\n",
       "    }\n",
       "    const paths = {\n",
       "      \"vega\": \"https://cdn.jsdelivr.net/npm/vega@5?noext\",\n",
       "      \"vega-lib\": \"https://cdn.jsdelivr.net/npm/vega-lib?noext\",\n",
       "      \"vega-lite\": \"https://cdn.jsdelivr.net/npm/vega-lite@5.8.0?noext\",\n",
       "      \"vega-embed\": \"https://cdn.jsdelivr.net/npm/vega-embed@6?noext\",\n",
       "    };\n",
       "\n",
       "    function maybeLoadScript(lib, version) {\n",
       "      var key = `${lib.replace(\"-\", \"\")}_version`;\n",
       "      return (VEGA_DEBUG[key] == version) ?\n",
       "        Promise.resolve(paths[lib]) :\n",
       "        new Promise(function(resolve, reject) {\n",
       "          var s = document.createElement('script');\n",
       "          document.getElementsByTagName(\"head\")[0].appendChild(s);\n",
       "          s.async = true;\n",
       "          s.onload = () => {\n",
       "            VEGA_DEBUG[key] = version;\n",
       "            return resolve(paths[lib]);\n",
       "          };\n",
       "          s.onerror = () => reject(`Error loading script: ${paths[lib]}`);\n",
       "          s.src = paths[lib];\n",
       "        });\n",
       "    }\n",
       "\n",
       "    function showError(err) {\n",
       "      outputDiv.innerHTML = `<div class=\"error\" style=\"color:red;\">${err}</div>`;\n",
       "      throw err;\n",
       "    }\n",
       "\n",
       "    function displayChart(vegaEmbed) {\n",
       "      vegaEmbed(outputDiv, spec, embedOpt)\n",
       "        .catch(err => showError(`Javascript Error: ${err.message}<br>This usually means there's a typo in your chart specification. See the javascript console for the full traceback.`));\n",
       "    }\n",
       "\n",
       "    if(typeof define === \"function\" && define.amd) {\n",
       "      requirejs.config({paths});\n",
       "      require([\"vega-embed\"], displayChart, err => showError(`Error loading script: ${err.message}`));\n",
       "    } else {\n",
       "      maybeLoadScript(\"vega\", \"5\")\n",
       "        .then(() => maybeLoadScript(\"vega-lite\", \"5.8.0\"))\n",
       "        .then(() => maybeLoadScript(\"vega-embed\", \"6\"))\n",
       "        .catch(showError)\n",
       "        .then(() => displayChart(vegaEmbed));\n",
       "    }\n",
       "  })({\"config\": {\"view\": {\"continuousWidth\": 300, \"continuousHeight\": 300}}, \"layer\": [{\"mark\": {\"type\": \"tick\"}, \"encoding\": {\"x\": {\"aggregate\": \"mean\", \"axis\": {\"grid\": false}, \"field\": \"lat\", \"scale\": {\"domain\": [47.64, 47.68]}, \"type\": \"quantitative\"}}, \"title\": \"Mean, Min, Max, and St Dev Bars of Latitude\"}, {\"mark\": {\"type\": \"tick\"}, \"encoding\": {\"x\": {\"aggregate\": \"min\", \"field\": \"lat\", \"type\": \"quantitative\"}}}, {\"mark\": {\"type\": \"tick\"}, \"encoding\": {\"x\": {\"aggregate\": \"max\", \"field\": \"lat\", \"type\": \"quantitative\"}}}, {\"mark\": {\"type\": \"errorbar\", \"extent\": \"stdev\"}, \"encoding\": {\"x\": {\"field\": \"lat\", \"type\": \"quantitative\"}}}], \"data\": {\"name\": \"data-6dfcc2d045bece6fe69863e2539333af\"}, \"$schema\": \"https://vega.github.io/schema/vega-lite/v5.8.0.json\", \"datasets\": {\"data-6dfcc2d045bece6fe69863e2539333af\": [{\"key\": \"bakeries\", \"lat\": 47.66887}, {\"key\": \"bakeries\", \"lat\": 47.6617813110352}, {\"key\": \"bakeries\", \"lat\": 47.65998}, {\"key\": \"bakeries\", \"lat\": 47.6633732020855}, {\"key\": \"bakeries\", \"lat\": 47.6582099}, {\"key\": \"bakeries\", \"lat\": 47.66105}, {\"key\": \"indian\", \"lat\": 47.669083}, {\"key\": \"indian\", \"lat\": 47.6647397425756}, {\"key\": \"indian\", \"lat\": 47.65898}, {\"key\": \"indian\", \"lat\": 47.6641}, {\"key\": \"indian\", \"lat\": 47.6587699}, {\"key\": \"indian\", \"lat\": 47.6623521}, {\"key\": \"hawaiian\", \"lat\": 47.664349}, {\"key\": \"hawaiian\", \"lat\": 47.6627388}, {\"key\": \"hawaiian\", \"lat\": 47.66359}, {\"key\": \"korean\", \"lat\": 47.658201}, {\"key\": \"korean\", \"lat\": 47.664349}, {\"key\": \"korean\", \"lat\": 47.65714}, {\"key\": \"korean\", \"lat\": 47.66671}, {\"key\": \"korean\", \"lat\": 47.65847}, {\"key\": \"korean\", \"lat\": 47.667652}, {\"key\": \"korean\", \"lat\": 47.66208}, {\"key\": \"korean\", \"lat\": 47.6577399}, {\"key\": \"korean\", \"lat\": 47.6571884155273}, {\"key\": \"korean\", \"lat\": 47.6577399}, {\"key\": \"burgers\", \"lat\": 47.6616432}, {\"key\": \"burgers\", \"lat\": 47.659244}, {\"key\": \"burgers\", \"lat\": 47.66464}, {\"key\": \"burgers\", \"lat\": 47.6616201}, {\"key\": \"burgers\", \"lat\": 47.66171}, {\"key\": \"burgers\", \"lat\": 47.6582099}, {\"key\": \"burgers\", \"lat\": 47.6614373897426}, {\"key\": \"burgers\", \"lat\": 47.66476}, {\"key\": \"burgers\", \"lat\": 47.655889079095}, {\"key\": \"bubbletea\", \"lat\": 47.661484}, {\"key\": \"bubbletea\", \"lat\": 47.664773}, {\"key\": \"bubbletea\", \"lat\": 47.6638174140586}, {\"key\": \"bubbletea\", \"lat\": 47.6628435}, {\"key\": \"bubbletea\", \"lat\": 47.6608}, {\"key\": \"bubbletea\", \"lat\": 47.65714}, {\"key\": \"bubbletea\", \"lat\": 47.664073559291}, {\"key\": \"bubbletea\", \"lat\": 47.66325}, {\"key\": \"bubbletea\", \"lat\": 47.66105}, {\"key\": \"bubbletea\", \"lat\": 47.661621}, {\"key\": \"bubbletea\", \"lat\": 47.66325}, {\"key\": \"bubbletea\", \"lat\": 47.6568748203069}, {\"key\": \"seafood\", \"lat\": 47.66015}, {\"key\": \"seafood\", \"lat\": 47.66464}, {\"key\": \"seafood\", \"lat\": 47.6616432}, {\"key\": \"veg\", \"lat\": 47.66838}, {\"key\": \"veg\", \"lat\": 47.664773}, {\"key\": \"veg\", \"lat\": 47.6675671}, {\"key\": \"veg\", \"lat\": 47.6686016}, {\"key\": \"vietnamese\", \"lat\": 47.65822}, {\"key\": \"vietnamese\", \"lat\": 47.65919}, {\"key\": \"vietnamese\", \"lat\": 47.6581344604492}, {\"key\": \"vietnamese\", \"lat\": 47.6594222814143}, {\"key\": \"vietnamese\", \"lat\": 47.6577}, {\"key\": \"vietnamese\", \"lat\": 47.65547}, {\"key\": \"vietnamese\", \"lat\": 47.6584999}, {\"key\": \"vietnamese\", \"lat\": 47.65878}, {\"key\": \"latin\", \"lat\": 47.6647592219734}, {\"key\": \"latin\", \"lat\": 47.65714}, {\"key\": \"latin\", \"lat\": 47.6659099}, {\"key\": \"latin\", \"lat\": 47.65923}, {\"key\": \"latin\", \"lat\": 47.65161}, {\"key\": \"latin\", \"lat\": 47.6643199}, {\"key\": \"latin\", \"lat\": 47.6595391}, {\"key\": \"latin\", \"lat\": 47.6614673237322}, {\"key\": \"japanese\", \"lat\": 47.66671}, {\"key\": \"japanese\", \"lat\": 47.664349}, {\"key\": \"japanese\", \"lat\": 47.6617467}, {\"key\": \"japanese\", \"lat\": 47.6599989831448}, {\"key\": \"japanese\", \"lat\": 47.6580970623725}, {\"key\": \"japanese\", \"lat\": 47.6610565185547}, {\"key\": \"japanese\", \"lat\": 47.657078}, {\"key\": \"japanese\", \"lat\": 47.65964}, {\"key\": \"japanese\", \"lat\": 47.6667608320713}, {\"key\": \"japanese\", \"lat\": 47.65799}, {\"key\": \"japanese\", \"lat\": 47.66359}, {\"key\": \"japanese\", \"lat\": 47.6577399}, {\"key\": \"japanese\", \"lat\": 47.6571884155273}, {\"key\": \"japanese\", \"lat\": 47.65902}, {\"key\": \"breakfast\", \"lat\": 47.6646650792784}, {\"key\": \"breakfast\", \"lat\": 47.6597958}, {\"key\": \"breakfast\", \"lat\": 47.657772}, {\"key\": \"breakfast\", \"lat\": 47.66295}, {\"key\": \"breakfast\", \"lat\": 47.65651}, {\"key\": \"breakfast\", \"lat\": 47.65851}, {\"key\": \"breakfast\", \"lat\": 47.6595172}, {\"key\": \"breakfast\", \"lat\": 47.6565299}, {\"key\": \"thai\", \"lat\": 47.66679}, {\"key\": \"thai\", \"lat\": 47.6581344604492}, {\"key\": \"thai\", \"lat\": 47.6675671}, {\"key\": \"thai\", \"lat\": 47.662455}, {\"key\": \"thai\", \"lat\": 47.6588020473719}, {\"key\": \"thai\", \"lat\": 47.6642113}, {\"key\": \"thai\", \"lat\": 47.65928}, {\"key\": \"thai\", \"lat\": 47.6587699}, {\"key\": \"thai\", \"lat\": 47.65547}, {\"key\": \"american\", \"lat\": 47.6680599}, {\"key\": \"american\", \"lat\": 47.657772}, {\"key\": \"american\", \"lat\": 47.6616432}, {\"key\": \"american\", \"lat\": 47.65651}, {\"key\": \"american\", \"lat\": 47.6616201}, {\"key\": \"american\", \"lat\": 47.6608123779297}, {\"key\": \"chinese\", \"lat\": 47.6651010477427}, {\"key\": \"chinese\", \"lat\": 47.66815}, {\"key\": \"chinese\", \"lat\": 47.6581344604492}, {\"key\": \"chinese\", \"lat\": 47.66144}, {\"key\": \"chinese\", \"lat\": 47.66389}, {\"key\": \"chinese\", \"lat\": 47.66236}, {\"key\": \"chinese\", \"lat\": 47.65714}, {\"key\": \"chinese\", \"lat\": 47.66105}, {\"key\": \"chinese\", \"lat\": 47.6568856156391}, {\"key\": \"chinese\", \"lat\": 47.662628}, {\"key\": \"chinese\", \"lat\": 47.6594399}, {\"key\": \"chinese\", \"lat\": 47.66174}, {\"key\": \"chinese\", \"lat\": 47.6571884155273}, {\"key\": \"chinese\", \"lat\": 47.6643}, {\"key\": \"mideastern\", \"lat\": 47.66244}, {\"key\": \"mideastern\", \"lat\": 47.66093}, {\"key\": \"mideastern\", \"lat\": 47.65805}, {\"key\": \"mideastern\", \"lat\": 47.65991}, {\"key\": \"mideastern\", \"lat\": 47.6590045}, {\"key\": \"mideastern\", \"lat\": 47.6647397425756}, {\"key\": \"mideastern\", \"lat\": 47.6691895}, {\"key\": \"mideastern\", \"lat\": 47.6587699}, {\"key\": \"mideastern\", \"lat\": 47.6623521}, {\"key\": \"mideastern\", \"lat\": 47.66295}, {\"key\": \"mideastern\", \"lat\": 47.65867}, {\"key\": \"mideastern\", \"lat\": 47.6679654176159}, {\"key\": \"pizza\", \"lat\": 47.65847}, {\"key\": \"pizza\", \"lat\": 47.662201}, {\"key\": \"pizza\", \"lat\": 47.6686016}, {\"key\": \"pizza\", \"lat\": 47.66671}, {\"key\": \"pizza\", \"lat\": 47.65784}, {\"key\": \"pizza\", \"lat\": 47.66729}, {\"key\": \"pizza\", \"lat\": 47.667652}, {\"key\": \"pizza\", \"lat\": 47.658947}, {\"key\": \"pizza\", \"lat\": 47.6558651}, {\"key\": \"drinks\", \"lat\": 47.6680599}, {\"key\": \"drinks\", \"lat\": 47.6617813110352}, {\"key\": \"drinks\", \"lat\": 47.66479}, {\"key\": \"drinks\", \"lat\": 47.65553}, {\"key\": \"drinks\", \"lat\": 47.65784}, {\"key\": \"drinks\", \"lat\": 47.65735}, {\"key\": \"drinks\", \"lat\": 47.6614427887238}, {\"key\": \"drinks\", \"lat\": 47.6614373897426}, {\"key\": \"drinks\", \"lat\": 47.6608123779297}, {\"key\": \"drinks\", \"lat\": 47.658947}, {\"key\": \"drinks\", \"lat\": 47.66171}, {\"key\": \"drinks\", \"lat\": 47.667652}, {\"key\": \"coffee\", \"lat\": 47.6597958}, {\"key\": \"coffee\", \"lat\": 47.6620911}, {\"key\": \"coffee\", \"lat\": 47.6698722839355}, {\"key\": \"coffee\", \"lat\": 47.6646650792784}, {\"key\": \"coffee\", \"lat\": 47.6617813110352}, {\"key\": \"coffee\", \"lat\": 47.657406}, {\"key\": \"coffee\", \"lat\": 47.6587736}, {\"key\": \"coffee\", \"lat\": 47.6638174140586}, {\"key\": \"coffee\", \"lat\": 47.66148}, {\"key\": \"coffee\", \"lat\": 47.66114}, {\"key\": \"coffee\", \"lat\": 47.661484}, {\"key\": \"coffee\", \"lat\": 47.66325}, {\"key\": \"coffee\", \"lat\": 47.658561989665}, {\"key\": \"coffee\", \"lat\": 47.664073559291}, {\"key\": \"coffee\", \"lat\": 47.65998}, {\"key\": \"coffee\", \"lat\": 47.6633732020855}, {\"key\": \"coffee\", \"lat\": 47.6610565185547}, {\"key\": \"coffee\", \"lat\": 47.66003}, {\"key\": \"coffee\", \"lat\": 47.65851}, {\"key\": \"coffee\", \"lat\": 47.6628435}, {\"key\": \"coffee\", \"lat\": 47.6533553}, {\"key\": \"coffee\", \"lat\": 47.6553802192211}, {\"key\": \"coffee\", \"lat\": 47.6595772057772}, {\"key\": \"coffee\", \"lat\": 47.65818}, {\"key\": \"coffee\", \"lat\": 47.6546670937183}, {\"key\": \"coffee\", \"lat\": 47.661621}, {\"key\": \"coffee\", \"lat\": 47.66279}, {\"key\": \"coffee\", \"lat\": 47.6563760338137}, {\"key\": \"coffee\", \"lat\": 47.6568332490467}]}}, {\"mode\": \"vega-lite\"});\n",
       "</script>"
      ],
      "text/plain": [
       "alt.LayerChart(...)"
      ]
     },
     "execution_count": 14,
     "metadata": {},
     "output_type": "execute_result"
    }
   ],
   "source": [
    "mean = alt.Chart(d).mark_tick().encode(\n",
    "    alt.X('lat', aggregate='mean', scale=alt.Scale(domain=(47.64,47.68)), axis = alt.Axis(grid=False))\n",
    ").properties(\n",
    "    title='Mean, Min, Max, and St Dev Bars of Latitude'\n",
    ")\n",
    "min = alt.Chart(d).mark_tick().encode(\n",
    "    alt.X('lat', aggregate='min')\n",
    ")\n",
    "max = alt.Chart(d).mark_tick().encode(\n",
    "    alt.X('lat', aggregate='max')\n",
    ")\n",
    "stdev = alt.Chart(d).mark_errorbar(extent='stdev').encode(\n",
    "    alt.X('lat')\n",
    ")\n",
    "\n",
    "mean+min+max+stdev"
   ]
  },
  {
   "cell_type": "code",
   "execution_count": 15,
   "metadata": {},
   "outputs": [
    {
     "name": "stderr",
     "output_type": "stream",
     "text": [
      "/opt/anaconda3/lib/python3.12/site-packages/altair/utils/core.py:395: FutureWarning: the convert_dtype parameter is deprecated and will be removed in a future version.  Do ``ser.astype(object).apply()`` instead if you want ``convert_dtype=False``.\n",
      "  col = df[col_name].apply(to_list_if_array, convert_dtype=False)\n"
     ]
    },
    {
     "data": {
      "text/html": [
       "\n",
       "<style>\n",
       "  #altair-viz-6e8f51fbeadc412c9358fa50957dac2d.vega-embed {\n",
       "    width: 100%;\n",
       "    display: flex;\n",
       "  }\n",
       "\n",
       "  #altair-viz-6e8f51fbeadc412c9358fa50957dac2d.vega-embed details,\n",
       "  #altair-viz-6e8f51fbeadc412c9358fa50957dac2d.vega-embed details summary {\n",
       "    position: relative;\n",
       "  }\n",
       "</style>\n",
       "<div id=\"altair-viz-6e8f51fbeadc412c9358fa50957dac2d\"></div>\n",
       "<script type=\"text/javascript\">\n",
       "  var VEGA_DEBUG = (typeof VEGA_DEBUG == \"undefined\") ? {} : VEGA_DEBUG;\n",
       "  (function(spec, embedOpt){\n",
       "    let outputDiv = document.currentScript.previousElementSibling;\n",
       "    if (outputDiv.id !== \"altair-viz-6e8f51fbeadc412c9358fa50957dac2d\") {\n",
       "      outputDiv = document.getElementById(\"altair-viz-6e8f51fbeadc412c9358fa50957dac2d\");\n",
       "    }\n",
       "    const paths = {\n",
       "      \"vega\": \"https://cdn.jsdelivr.net/npm/vega@5?noext\",\n",
       "      \"vega-lib\": \"https://cdn.jsdelivr.net/npm/vega-lib?noext\",\n",
       "      \"vega-lite\": \"https://cdn.jsdelivr.net/npm/vega-lite@5.8.0?noext\",\n",
       "      \"vega-embed\": \"https://cdn.jsdelivr.net/npm/vega-embed@6?noext\",\n",
       "    };\n",
       "\n",
       "    function maybeLoadScript(lib, version) {\n",
       "      var key = `${lib.replace(\"-\", \"\")}_version`;\n",
       "      return (VEGA_DEBUG[key] == version) ?\n",
       "        Promise.resolve(paths[lib]) :\n",
       "        new Promise(function(resolve, reject) {\n",
       "          var s = document.createElement('script');\n",
       "          document.getElementsByTagName(\"head\")[0].appendChild(s);\n",
       "          s.async = true;\n",
       "          s.onload = () => {\n",
       "            VEGA_DEBUG[key] = version;\n",
       "            return resolve(paths[lib]);\n",
       "          };\n",
       "          s.onerror = () => reject(`Error loading script: ${paths[lib]}`);\n",
       "          s.src = paths[lib];\n",
       "        });\n",
       "    }\n",
       "\n",
       "    function showError(err) {\n",
       "      outputDiv.innerHTML = `<div class=\"error\" style=\"color:red;\">${err}</div>`;\n",
       "      throw err;\n",
       "    }\n",
       "\n",
       "    function displayChart(vegaEmbed) {\n",
       "      vegaEmbed(outputDiv, spec, embedOpt)\n",
       "        .catch(err => showError(`Javascript Error: ${err.message}<br>This usually means there's a typo in your chart specification. See the javascript console for the full traceback.`));\n",
       "    }\n",
       "\n",
       "    if(typeof define === \"function\" && define.amd) {\n",
       "      requirejs.config({paths});\n",
       "      require([\"vega-embed\"], displayChart, err => showError(`Error loading script: ${err.message}`));\n",
       "    } else {\n",
       "      maybeLoadScript(\"vega\", \"5\")\n",
       "        .then(() => maybeLoadScript(\"vega-lite\", \"5.8.0\"))\n",
       "        .then(() => maybeLoadScript(\"vega-embed\", \"6\"))\n",
       "        .catch(showError)\n",
       "        .then(() => displayChart(vegaEmbed));\n",
       "    }\n",
       "  })({\"config\": {\"view\": {\"continuousWidth\": 300, \"continuousHeight\": 300}}, \"layer\": [{\"mark\": {\"type\": \"tick\"}, \"encoding\": {\"x\": {\"aggregate\": \"mean\", \"axis\": {\"grid\": false}, \"field\": \"lat\", \"scale\": {\"domain\": [47.64, 47.68]}, \"type\": \"quantitative\"}}, \"title\": \"Mean, Min, Max, and IQR Bars of Latitude\"}, {\"mark\": {\"type\": \"tick\"}, \"encoding\": {\"x\": {\"aggregate\": \"min\", \"field\": \"lat\", \"type\": \"quantitative\"}}}, {\"mark\": {\"type\": \"tick\"}, \"encoding\": {\"x\": {\"aggregate\": \"max\", \"field\": \"lat\", \"type\": \"quantitative\"}}}, {\"mark\": {\"type\": \"errorbar\", \"extent\": \"iqr\"}, \"encoding\": {\"x\": {\"field\": \"lat\", \"type\": \"quantitative\"}}}], \"data\": {\"name\": \"data-6dfcc2d045bece6fe69863e2539333af\"}, \"$schema\": \"https://vega.github.io/schema/vega-lite/v5.8.0.json\", \"datasets\": {\"data-6dfcc2d045bece6fe69863e2539333af\": [{\"key\": \"bakeries\", \"lat\": 47.66887}, {\"key\": \"bakeries\", \"lat\": 47.6617813110352}, {\"key\": \"bakeries\", \"lat\": 47.65998}, {\"key\": \"bakeries\", \"lat\": 47.6633732020855}, {\"key\": \"bakeries\", \"lat\": 47.6582099}, {\"key\": \"bakeries\", \"lat\": 47.66105}, {\"key\": \"indian\", \"lat\": 47.669083}, {\"key\": \"indian\", \"lat\": 47.6647397425756}, {\"key\": \"indian\", \"lat\": 47.65898}, {\"key\": \"indian\", \"lat\": 47.6641}, {\"key\": \"indian\", \"lat\": 47.6587699}, {\"key\": \"indian\", \"lat\": 47.6623521}, {\"key\": \"hawaiian\", \"lat\": 47.664349}, {\"key\": \"hawaiian\", \"lat\": 47.6627388}, {\"key\": \"hawaiian\", \"lat\": 47.66359}, {\"key\": \"korean\", \"lat\": 47.658201}, {\"key\": \"korean\", \"lat\": 47.664349}, {\"key\": \"korean\", \"lat\": 47.65714}, {\"key\": \"korean\", \"lat\": 47.66671}, {\"key\": \"korean\", \"lat\": 47.65847}, {\"key\": \"korean\", \"lat\": 47.667652}, {\"key\": \"korean\", \"lat\": 47.66208}, {\"key\": \"korean\", \"lat\": 47.6577399}, {\"key\": \"korean\", \"lat\": 47.6571884155273}, {\"key\": \"korean\", \"lat\": 47.6577399}, {\"key\": \"burgers\", \"lat\": 47.6616432}, {\"key\": \"burgers\", \"lat\": 47.659244}, {\"key\": \"burgers\", \"lat\": 47.66464}, {\"key\": \"burgers\", \"lat\": 47.6616201}, {\"key\": \"burgers\", \"lat\": 47.66171}, {\"key\": \"burgers\", \"lat\": 47.6582099}, {\"key\": \"burgers\", \"lat\": 47.6614373897426}, {\"key\": \"burgers\", \"lat\": 47.66476}, {\"key\": \"burgers\", \"lat\": 47.655889079095}, {\"key\": \"bubbletea\", \"lat\": 47.661484}, {\"key\": \"bubbletea\", \"lat\": 47.664773}, {\"key\": \"bubbletea\", \"lat\": 47.6638174140586}, {\"key\": \"bubbletea\", \"lat\": 47.6628435}, {\"key\": \"bubbletea\", \"lat\": 47.6608}, {\"key\": \"bubbletea\", \"lat\": 47.65714}, {\"key\": \"bubbletea\", \"lat\": 47.664073559291}, {\"key\": \"bubbletea\", \"lat\": 47.66325}, {\"key\": \"bubbletea\", \"lat\": 47.66105}, {\"key\": \"bubbletea\", \"lat\": 47.661621}, {\"key\": \"bubbletea\", \"lat\": 47.66325}, {\"key\": \"bubbletea\", \"lat\": 47.6568748203069}, {\"key\": \"seafood\", \"lat\": 47.66015}, {\"key\": \"seafood\", \"lat\": 47.66464}, {\"key\": \"seafood\", \"lat\": 47.6616432}, {\"key\": \"veg\", \"lat\": 47.66838}, {\"key\": \"veg\", \"lat\": 47.664773}, {\"key\": \"veg\", \"lat\": 47.6675671}, {\"key\": \"veg\", \"lat\": 47.6686016}, {\"key\": \"vietnamese\", \"lat\": 47.65822}, {\"key\": \"vietnamese\", \"lat\": 47.65919}, {\"key\": \"vietnamese\", \"lat\": 47.6581344604492}, {\"key\": \"vietnamese\", \"lat\": 47.6594222814143}, {\"key\": \"vietnamese\", \"lat\": 47.6577}, {\"key\": \"vietnamese\", \"lat\": 47.65547}, {\"key\": \"vietnamese\", \"lat\": 47.6584999}, {\"key\": \"vietnamese\", \"lat\": 47.65878}, {\"key\": \"latin\", \"lat\": 47.6647592219734}, {\"key\": \"latin\", \"lat\": 47.65714}, {\"key\": \"latin\", \"lat\": 47.6659099}, {\"key\": \"latin\", \"lat\": 47.65923}, {\"key\": \"latin\", \"lat\": 47.65161}, {\"key\": \"latin\", \"lat\": 47.6643199}, {\"key\": \"latin\", \"lat\": 47.6595391}, {\"key\": \"latin\", \"lat\": 47.6614673237322}, {\"key\": \"japanese\", \"lat\": 47.66671}, {\"key\": \"japanese\", \"lat\": 47.664349}, {\"key\": \"japanese\", \"lat\": 47.6617467}, {\"key\": \"japanese\", \"lat\": 47.6599989831448}, {\"key\": \"japanese\", \"lat\": 47.6580970623725}, {\"key\": \"japanese\", \"lat\": 47.6610565185547}, {\"key\": \"japanese\", \"lat\": 47.657078}, {\"key\": \"japanese\", \"lat\": 47.65964}, {\"key\": \"japanese\", \"lat\": 47.6667608320713}, {\"key\": \"japanese\", \"lat\": 47.65799}, {\"key\": \"japanese\", \"lat\": 47.66359}, {\"key\": \"japanese\", \"lat\": 47.6577399}, {\"key\": \"japanese\", \"lat\": 47.6571884155273}, {\"key\": \"japanese\", \"lat\": 47.65902}, {\"key\": \"breakfast\", \"lat\": 47.6646650792784}, {\"key\": \"breakfast\", \"lat\": 47.6597958}, {\"key\": \"breakfast\", \"lat\": 47.657772}, {\"key\": \"breakfast\", \"lat\": 47.66295}, {\"key\": \"breakfast\", \"lat\": 47.65651}, {\"key\": \"breakfast\", \"lat\": 47.65851}, {\"key\": \"breakfast\", \"lat\": 47.6595172}, {\"key\": \"breakfast\", \"lat\": 47.6565299}, {\"key\": \"thai\", \"lat\": 47.66679}, {\"key\": \"thai\", \"lat\": 47.6581344604492}, {\"key\": \"thai\", \"lat\": 47.6675671}, {\"key\": \"thai\", \"lat\": 47.662455}, {\"key\": \"thai\", \"lat\": 47.6588020473719}, {\"key\": \"thai\", \"lat\": 47.6642113}, {\"key\": \"thai\", \"lat\": 47.65928}, {\"key\": \"thai\", \"lat\": 47.6587699}, {\"key\": \"thai\", \"lat\": 47.65547}, {\"key\": \"american\", \"lat\": 47.6680599}, {\"key\": \"american\", \"lat\": 47.657772}, {\"key\": \"american\", \"lat\": 47.6616432}, {\"key\": \"american\", \"lat\": 47.65651}, {\"key\": \"american\", \"lat\": 47.6616201}, {\"key\": \"american\", \"lat\": 47.6608123779297}, {\"key\": \"chinese\", \"lat\": 47.6651010477427}, {\"key\": \"chinese\", \"lat\": 47.66815}, {\"key\": \"chinese\", \"lat\": 47.6581344604492}, {\"key\": \"chinese\", \"lat\": 47.66144}, {\"key\": \"chinese\", \"lat\": 47.66389}, {\"key\": \"chinese\", \"lat\": 47.66236}, {\"key\": \"chinese\", \"lat\": 47.65714}, {\"key\": \"chinese\", \"lat\": 47.66105}, {\"key\": \"chinese\", \"lat\": 47.6568856156391}, {\"key\": \"chinese\", \"lat\": 47.662628}, {\"key\": \"chinese\", \"lat\": 47.6594399}, {\"key\": \"chinese\", \"lat\": 47.66174}, {\"key\": \"chinese\", \"lat\": 47.6571884155273}, {\"key\": \"chinese\", \"lat\": 47.6643}, {\"key\": \"mideastern\", \"lat\": 47.66244}, {\"key\": \"mideastern\", \"lat\": 47.66093}, {\"key\": \"mideastern\", \"lat\": 47.65805}, {\"key\": \"mideastern\", \"lat\": 47.65991}, {\"key\": \"mideastern\", \"lat\": 47.6590045}, {\"key\": \"mideastern\", \"lat\": 47.6647397425756}, {\"key\": \"mideastern\", \"lat\": 47.6691895}, {\"key\": \"mideastern\", \"lat\": 47.6587699}, {\"key\": \"mideastern\", \"lat\": 47.6623521}, {\"key\": \"mideastern\", \"lat\": 47.66295}, {\"key\": \"mideastern\", \"lat\": 47.65867}, {\"key\": \"mideastern\", \"lat\": 47.6679654176159}, {\"key\": \"pizza\", \"lat\": 47.65847}, {\"key\": \"pizza\", \"lat\": 47.662201}, {\"key\": \"pizza\", \"lat\": 47.6686016}, {\"key\": \"pizza\", \"lat\": 47.66671}, {\"key\": \"pizza\", \"lat\": 47.65784}, {\"key\": \"pizza\", \"lat\": 47.66729}, {\"key\": \"pizza\", \"lat\": 47.667652}, {\"key\": \"pizza\", \"lat\": 47.658947}, {\"key\": \"pizza\", \"lat\": 47.6558651}, {\"key\": \"drinks\", \"lat\": 47.6680599}, {\"key\": \"drinks\", \"lat\": 47.6617813110352}, {\"key\": \"drinks\", \"lat\": 47.66479}, {\"key\": \"drinks\", \"lat\": 47.65553}, {\"key\": \"drinks\", \"lat\": 47.65784}, {\"key\": \"drinks\", \"lat\": 47.65735}, {\"key\": \"drinks\", \"lat\": 47.6614427887238}, {\"key\": \"drinks\", \"lat\": 47.6614373897426}, {\"key\": \"drinks\", \"lat\": 47.6608123779297}, {\"key\": \"drinks\", \"lat\": 47.658947}, {\"key\": \"drinks\", \"lat\": 47.66171}, {\"key\": \"drinks\", \"lat\": 47.667652}, {\"key\": \"coffee\", \"lat\": 47.6597958}, {\"key\": \"coffee\", \"lat\": 47.6620911}, {\"key\": \"coffee\", \"lat\": 47.6698722839355}, {\"key\": \"coffee\", \"lat\": 47.6646650792784}, {\"key\": \"coffee\", \"lat\": 47.6617813110352}, {\"key\": \"coffee\", \"lat\": 47.657406}, {\"key\": \"coffee\", \"lat\": 47.6587736}, {\"key\": \"coffee\", \"lat\": 47.6638174140586}, {\"key\": \"coffee\", \"lat\": 47.66148}, {\"key\": \"coffee\", \"lat\": 47.66114}, {\"key\": \"coffee\", \"lat\": 47.661484}, {\"key\": \"coffee\", \"lat\": 47.66325}, {\"key\": \"coffee\", \"lat\": 47.658561989665}, {\"key\": \"coffee\", \"lat\": 47.664073559291}, {\"key\": \"coffee\", \"lat\": 47.65998}, {\"key\": \"coffee\", \"lat\": 47.6633732020855}, {\"key\": \"coffee\", \"lat\": 47.6610565185547}, {\"key\": \"coffee\", \"lat\": 47.66003}, {\"key\": \"coffee\", \"lat\": 47.65851}, {\"key\": \"coffee\", \"lat\": 47.6628435}, {\"key\": \"coffee\", \"lat\": 47.6533553}, {\"key\": \"coffee\", \"lat\": 47.6553802192211}, {\"key\": \"coffee\", \"lat\": 47.6595772057772}, {\"key\": \"coffee\", \"lat\": 47.65818}, {\"key\": \"coffee\", \"lat\": 47.6546670937183}, {\"key\": \"coffee\", \"lat\": 47.661621}, {\"key\": \"coffee\", \"lat\": 47.66279}, {\"key\": \"coffee\", \"lat\": 47.6563760338137}, {\"key\": \"coffee\", \"lat\": 47.6568332490467}]}}, {\"mode\": \"vega-lite\"});\n",
       "</script>"
      ],
      "text/plain": [
       "alt.LayerChart(...)"
      ]
     },
     "execution_count": 15,
     "metadata": {},
     "output_type": "execute_result"
    }
   ],
   "source": [
    "mean = alt.Chart(d).mark_tick().encode(\n",
    "    alt.X('lat', aggregate='mean', scale=alt.Scale(domain=(47.64,47.68)), axis = alt.Axis(grid=False))\n",
    ").properties(\n",
    "    title='Mean, Min, Max, and IQR Bars of Latitude'\n",
    ")\n",
    "min = alt.Chart(d).mark_tick().encode(\n",
    "    alt.X('lat', aggregate='min')\n",
    ")\n",
    "max = alt.Chart(d).mark_tick().encode(\n",
    "    alt.X('lat', aggregate='max')\n",
    ")\n",
    "stdev = alt.Chart(d).mark_errorbar(extent='iqr').encode(\n",
    "    alt.X('lat')\n",
    ")\n",
    "\n",
    "mean+min+max+stdev"
   ]
  },
  {
   "cell_type": "markdown",
   "metadata": {},
   "source": [
    "**Part 3**"
   ]
  },
  {
   "cell_type": "code",
   "execution_count": 24,
   "metadata": {},
   "outputs": [
    {
     "name": "stderr",
     "output_type": "stream",
     "text": [
      "/opt/anaconda3/lib/python3.12/site-packages/altair/utils/core.py:395: FutureWarning: the convert_dtype parameter is deprecated and will be removed in a future version.  Do ``ser.astype(object).apply()`` instead if you want ``convert_dtype=False``.\n",
      "  col = df[col_name].apply(to_list_if_array, convert_dtype=False)\n"
     ]
    },
    {
     "data": {
      "text/html": [
       "\n",
       "<style>\n",
       "  #altair-viz-f1d06cd286134a4cb48e972b44fa09f1.vega-embed {\n",
       "    width: 100%;\n",
       "    display: flex;\n",
       "  }\n",
       "\n",
       "  #altair-viz-f1d06cd286134a4cb48e972b44fa09f1.vega-embed details,\n",
       "  #altair-viz-f1d06cd286134a4cb48e972b44fa09f1.vega-embed details summary {\n",
       "    position: relative;\n",
       "  }\n",
       "</style>\n",
       "<div id=\"altair-viz-f1d06cd286134a4cb48e972b44fa09f1\"></div>\n",
       "<script type=\"text/javascript\">\n",
       "  var VEGA_DEBUG = (typeof VEGA_DEBUG == \"undefined\") ? {} : VEGA_DEBUG;\n",
       "  (function(spec, embedOpt){\n",
       "    let outputDiv = document.currentScript.previousElementSibling;\n",
       "    if (outputDiv.id !== \"altair-viz-f1d06cd286134a4cb48e972b44fa09f1\") {\n",
       "      outputDiv = document.getElementById(\"altair-viz-f1d06cd286134a4cb48e972b44fa09f1\");\n",
       "    }\n",
       "    const paths = {\n",
       "      \"vega\": \"https://cdn.jsdelivr.net/npm/vega@5?noext\",\n",
       "      \"vega-lib\": \"https://cdn.jsdelivr.net/npm/vega-lib?noext\",\n",
       "      \"vega-lite\": \"https://cdn.jsdelivr.net/npm/vega-lite@5.8.0?noext\",\n",
       "      \"vega-embed\": \"https://cdn.jsdelivr.net/npm/vega-embed@6?noext\",\n",
       "    };\n",
       "\n",
       "    function maybeLoadScript(lib, version) {\n",
       "      var key = `${lib.replace(\"-\", \"\")}_version`;\n",
       "      return (VEGA_DEBUG[key] == version) ?\n",
       "        Promise.resolve(paths[lib]) :\n",
       "        new Promise(function(resolve, reject) {\n",
       "          var s = document.createElement('script');\n",
       "          document.getElementsByTagName(\"head\")[0].appendChild(s);\n",
       "          s.async = true;\n",
       "          s.onload = () => {\n",
       "            VEGA_DEBUG[key] = version;\n",
       "            return resolve(paths[lib]);\n",
       "          };\n",
       "          s.onerror = () => reject(`Error loading script: ${paths[lib]}`);\n",
       "          s.src = paths[lib];\n",
       "        });\n",
       "    }\n",
       "\n",
       "    function showError(err) {\n",
       "      outputDiv.innerHTML = `<div class=\"error\" style=\"color:red;\">${err}</div>`;\n",
       "      throw err;\n",
       "    }\n",
       "\n",
       "    function displayChart(vegaEmbed) {\n",
       "      vegaEmbed(outputDiv, spec, embedOpt)\n",
       "        .catch(err => showError(`Javascript Error: ${err.message}<br>This usually means there's a typo in your chart specification. See the javascript console for the full traceback.`));\n",
       "    }\n",
       "\n",
       "    if(typeof define === \"function\" && define.amd) {\n",
       "      requirejs.config({paths});\n",
       "      require([\"vega-embed\"], displayChart, err => showError(`Error loading script: ${err.message}`));\n",
       "    } else {\n",
       "      maybeLoadScript(\"vega\", \"5\")\n",
       "        .then(() => maybeLoadScript(\"vega-lite\", \"5.8.0\"))\n",
       "        .then(() => maybeLoadScript(\"vega-embed\", \"6\"))\n",
       "        .catch(showError)\n",
       "        .then(() => displayChart(vegaEmbed));\n",
       "    }\n",
       "  })({\"config\": {\"view\": {\"continuousWidth\": 300, \"continuousHeight\": 300}}, \"data\": {\"name\": \"data-6dfcc2d045bece6fe69863e2539333af\"}, \"mark\": {\"type\": \"area\"}, \"encoding\": {\"x\": {\"field\": \"lat\", \"type\": \"quantitative\"}, \"y\": {\"field\": \"density\", \"type\": \"quantitative\"}}, \"transform\": [{\"density\": \"lat\", \"as\": [\"lat\", \"density\"]}], \"$schema\": \"https://vega.github.io/schema/vega-lite/v5.8.0.json\", \"datasets\": {\"data-6dfcc2d045bece6fe69863e2539333af\": [{\"key\": \"bakeries\", \"lat\": 47.66887}, {\"key\": \"bakeries\", \"lat\": 47.6617813110352}, {\"key\": \"bakeries\", \"lat\": 47.65998}, {\"key\": \"bakeries\", \"lat\": 47.6633732020855}, {\"key\": \"bakeries\", \"lat\": 47.6582099}, {\"key\": \"bakeries\", \"lat\": 47.66105}, {\"key\": \"indian\", \"lat\": 47.669083}, {\"key\": \"indian\", \"lat\": 47.6647397425756}, {\"key\": \"indian\", \"lat\": 47.65898}, {\"key\": \"indian\", \"lat\": 47.6641}, {\"key\": \"indian\", \"lat\": 47.6587699}, {\"key\": \"indian\", \"lat\": 47.6623521}, {\"key\": \"hawaiian\", \"lat\": 47.664349}, {\"key\": \"hawaiian\", \"lat\": 47.6627388}, {\"key\": \"hawaiian\", \"lat\": 47.66359}, {\"key\": \"korean\", \"lat\": 47.658201}, {\"key\": \"korean\", \"lat\": 47.664349}, {\"key\": \"korean\", \"lat\": 47.65714}, {\"key\": \"korean\", \"lat\": 47.66671}, {\"key\": \"korean\", \"lat\": 47.65847}, {\"key\": \"korean\", \"lat\": 47.667652}, {\"key\": \"korean\", \"lat\": 47.66208}, {\"key\": \"korean\", \"lat\": 47.6577399}, {\"key\": \"korean\", \"lat\": 47.6571884155273}, {\"key\": \"korean\", \"lat\": 47.6577399}, {\"key\": \"burgers\", \"lat\": 47.6616432}, {\"key\": \"burgers\", \"lat\": 47.659244}, {\"key\": \"burgers\", \"lat\": 47.66464}, {\"key\": \"burgers\", \"lat\": 47.6616201}, {\"key\": \"burgers\", \"lat\": 47.66171}, {\"key\": \"burgers\", \"lat\": 47.6582099}, {\"key\": \"burgers\", \"lat\": 47.6614373897426}, {\"key\": \"burgers\", \"lat\": 47.66476}, {\"key\": \"burgers\", \"lat\": 47.655889079095}, {\"key\": \"bubbletea\", \"lat\": 47.661484}, {\"key\": \"bubbletea\", \"lat\": 47.664773}, {\"key\": \"bubbletea\", \"lat\": 47.6638174140586}, {\"key\": \"bubbletea\", \"lat\": 47.6628435}, {\"key\": \"bubbletea\", \"lat\": 47.6608}, {\"key\": \"bubbletea\", \"lat\": 47.65714}, {\"key\": \"bubbletea\", \"lat\": 47.664073559291}, {\"key\": \"bubbletea\", \"lat\": 47.66325}, {\"key\": \"bubbletea\", \"lat\": 47.66105}, {\"key\": \"bubbletea\", \"lat\": 47.661621}, {\"key\": \"bubbletea\", \"lat\": 47.66325}, {\"key\": \"bubbletea\", \"lat\": 47.6568748203069}, {\"key\": \"seafood\", \"lat\": 47.66015}, {\"key\": \"seafood\", \"lat\": 47.66464}, {\"key\": \"seafood\", \"lat\": 47.6616432}, {\"key\": \"veg\", \"lat\": 47.66838}, {\"key\": \"veg\", \"lat\": 47.664773}, {\"key\": \"veg\", \"lat\": 47.6675671}, {\"key\": \"veg\", \"lat\": 47.6686016}, {\"key\": \"vietnamese\", \"lat\": 47.65822}, {\"key\": \"vietnamese\", \"lat\": 47.65919}, {\"key\": \"vietnamese\", \"lat\": 47.6581344604492}, {\"key\": \"vietnamese\", \"lat\": 47.6594222814143}, {\"key\": \"vietnamese\", \"lat\": 47.6577}, {\"key\": \"vietnamese\", \"lat\": 47.65547}, {\"key\": \"vietnamese\", \"lat\": 47.6584999}, {\"key\": \"vietnamese\", \"lat\": 47.65878}, {\"key\": \"latin\", \"lat\": 47.6647592219734}, {\"key\": \"latin\", \"lat\": 47.65714}, {\"key\": \"latin\", \"lat\": 47.6659099}, {\"key\": \"latin\", \"lat\": 47.65923}, {\"key\": \"latin\", \"lat\": 47.65161}, {\"key\": \"latin\", \"lat\": 47.6643199}, {\"key\": \"latin\", \"lat\": 47.6595391}, {\"key\": \"latin\", \"lat\": 47.6614673237322}, {\"key\": \"japanese\", \"lat\": 47.66671}, {\"key\": \"japanese\", \"lat\": 47.664349}, {\"key\": \"japanese\", \"lat\": 47.6617467}, {\"key\": \"japanese\", \"lat\": 47.6599989831448}, {\"key\": \"japanese\", \"lat\": 47.6580970623725}, {\"key\": \"japanese\", \"lat\": 47.6610565185547}, {\"key\": \"japanese\", \"lat\": 47.657078}, {\"key\": \"japanese\", \"lat\": 47.65964}, {\"key\": \"japanese\", \"lat\": 47.6667608320713}, {\"key\": \"japanese\", \"lat\": 47.65799}, {\"key\": \"japanese\", \"lat\": 47.66359}, {\"key\": \"japanese\", \"lat\": 47.6577399}, {\"key\": \"japanese\", \"lat\": 47.6571884155273}, {\"key\": \"japanese\", \"lat\": 47.65902}, {\"key\": \"breakfast\", \"lat\": 47.6646650792784}, {\"key\": \"breakfast\", \"lat\": 47.6597958}, {\"key\": \"breakfast\", \"lat\": 47.657772}, {\"key\": \"breakfast\", \"lat\": 47.66295}, {\"key\": \"breakfast\", \"lat\": 47.65651}, {\"key\": \"breakfast\", \"lat\": 47.65851}, {\"key\": \"breakfast\", \"lat\": 47.6595172}, {\"key\": \"breakfast\", \"lat\": 47.6565299}, {\"key\": \"thai\", \"lat\": 47.66679}, {\"key\": \"thai\", \"lat\": 47.6581344604492}, {\"key\": \"thai\", \"lat\": 47.6675671}, {\"key\": \"thai\", \"lat\": 47.662455}, {\"key\": \"thai\", \"lat\": 47.6588020473719}, {\"key\": \"thai\", \"lat\": 47.6642113}, {\"key\": \"thai\", \"lat\": 47.65928}, {\"key\": \"thai\", \"lat\": 47.6587699}, {\"key\": \"thai\", \"lat\": 47.65547}, {\"key\": \"american\", \"lat\": 47.6680599}, {\"key\": \"american\", \"lat\": 47.657772}, {\"key\": \"american\", \"lat\": 47.6616432}, {\"key\": \"american\", \"lat\": 47.65651}, {\"key\": \"american\", \"lat\": 47.6616201}, {\"key\": \"american\", \"lat\": 47.6608123779297}, {\"key\": \"chinese\", \"lat\": 47.6651010477427}, {\"key\": \"chinese\", \"lat\": 47.66815}, {\"key\": \"chinese\", \"lat\": 47.6581344604492}, {\"key\": \"chinese\", \"lat\": 47.66144}, {\"key\": \"chinese\", \"lat\": 47.66389}, {\"key\": \"chinese\", \"lat\": 47.66236}, {\"key\": \"chinese\", \"lat\": 47.65714}, {\"key\": \"chinese\", \"lat\": 47.66105}, {\"key\": \"chinese\", \"lat\": 47.6568856156391}, {\"key\": \"chinese\", \"lat\": 47.662628}, {\"key\": \"chinese\", \"lat\": 47.6594399}, {\"key\": \"chinese\", \"lat\": 47.66174}, {\"key\": \"chinese\", \"lat\": 47.6571884155273}, {\"key\": \"chinese\", \"lat\": 47.6643}, {\"key\": \"mideastern\", \"lat\": 47.66244}, {\"key\": \"mideastern\", \"lat\": 47.66093}, {\"key\": \"mideastern\", \"lat\": 47.65805}, {\"key\": \"mideastern\", \"lat\": 47.65991}, {\"key\": \"mideastern\", \"lat\": 47.6590045}, {\"key\": \"mideastern\", \"lat\": 47.6647397425756}, {\"key\": \"mideastern\", \"lat\": 47.6691895}, {\"key\": \"mideastern\", \"lat\": 47.6587699}, {\"key\": \"mideastern\", \"lat\": 47.6623521}, {\"key\": \"mideastern\", \"lat\": 47.66295}, {\"key\": \"mideastern\", \"lat\": 47.65867}, {\"key\": \"mideastern\", \"lat\": 47.6679654176159}, {\"key\": \"pizza\", \"lat\": 47.65847}, {\"key\": \"pizza\", \"lat\": 47.662201}, {\"key\": \"pizza\", \"lat\": 47.6686016}, {\"key\": \"pizza\", \"lat\": 47.66671}, {\"key\": \"pizza\", \"lat\": 47.65784}, {\"key\": \"pizza\", \"lat\": 47.66729}, {\"key\": \"pizza\", \"lat\": 47.667652}, {\"key\": \"pizza\", \"lat\": 47.658947}, {\"key\": \"pizza\", \"lat\": 47.6558651}, {\"key\": \"drinks\", \"lat\": 47.6680599}, {\"key\": \"drinks\", \"lat\": 47.6617813110352}, {\"key\": \"drinks\", \"lat\": 47.66479}, {\"key\": \"drinks\", \"lat\": 47.65553}, {\"key\": \"drinks\", \"lat\": 47.65784}, {\"key\": \"drinks\", \"lat\": 47.65735}, {\"key\": \"drinks\", \"lat\": 47.6614427887238}, {\"key\": \"drinks\", \"lat\": 47.6614373897426}, {\"key\": \"drinks\", \"lat\": 47.6608123779297}, {\"key\": \"drinks\", \"lat\": 47.658947}, {\"key\": \"drinks\", \"lat\": 47.66171}, {\"key\": \"drinks\", \"lat\": 47.667652}, {\"key\": \"coffee\", \"lat\": 47.6597958}, {\"key\": \"coffee\", \"lat\": 47.6620911}, {\"key\": \"coffee\", \"lat\": 47.6698722839355}, {\"key\": \"coffee\", \"lat\": 47.6646650792784}, {\"key\": \"coffee\", \"lat\": 47.6617813110352}, {\"key\": \"coffee\", \"lat\": 47.657406}, {\"key\": \"coffee\", \"lat\": 47.6587736}, {\"key\": \"coffee\", \"lat\": 47.6638174140586}, {\"key\": \"coffee\", \"lat\": 47.66148}, {\"key\": \"coffee\", \"lat\": 47.66114}, {\"key\": \"coffee\", \"lat\": 47.661484}, {\"key\": \"coffee\", \"lat\": 47.66325}, {\"key\": \"coffee\", \"lat\": 47.658561989665}, {\"key\": \"coffee\", \"lat\": 47.664073559291}, {\"key\": \"coffee\", \"lat\": 47.65998}, {\"key\": \"coffee\", \"lat\": 47.6633732020855}, {\"key\": \"coffee\", \"lat\": 47.6610565185547}, {\"key\": \"coffee\", \"lat\": 47.66003}, {\"key\": \"coffee\", \"lat\": 47.65851}, {\"key\": \"coffee\", \"lat\": 47.6628435}, {\"key\": \"coffee\", \"lat\": 47.6533553}, {\"key\": \"coffee\", \"lat\": 47.6553802192211}, {\"key\": \"coffee\", \"lat\": 47.6595772057772}, {\"key\": \"coffee\", \"lat\": 47.65818}, {\"key\": \"coffee\", \"lat\": 47.6546670937183}, {\"key\": \"coffee\", \"lat\": 47.661621}, {\"key\": \"coffee\", \"lat\": 47.66279}, {\"key\": \"coffee\", \"lat\": 47.6563760338137}, {\"key\": \"coffee\", \"lat\": 47.6568332490467}]}}, {\"mode\": \"vega-lite\"});\n",
       "</script>"
      ],
      "text/plain": [
       "alt.Chart(...)"
      ]
     },
     "execution_count": 24,
     "metadata": {},
     "output_type": "execute_result"
    }
   ],
   "source": [
    "alt.Chart(d).transform_density(\n",
    "    'lat',\n",
    "    as_=['lat','density']\n",
    ").mark_area().encode(\n",
    "    alt.X('lat:Q'),\n",
    "    alt.Y('density:Q')\n",
    ")"
   ]
  },
  {
   "cell_type": "markdown",
   "metadata": {},
   "source": [
    "Features of Interest: \n",
    "We see a large concentration around 47.657 and 47.663 with tapering on both sides of those spikes."
   ]
  },
  {
   "cell_type": "code",
   "execution_count": 30,
   "metadata": {},
   "outputs": [
    {
     "name": "stderr",
     "output_type": "stream",
     "text": [
      "/opt/anaconda3/lib/python3.12/site-packages/altair/utils/core.py:395: FutureWarning: the convert_dtype parameter is deprecated and will be removed in a future version.  Do ``ser.astype(object).apply()`` instead if you want ``convert_dtype=False``.\n",
      "  col = df[col_name].apply(to_list_if_array, convert_dtype=False)\n"
     ]
    },
    {
     "data": {
      "text/html": [
       "\n",
       "<style>\n",
       "  #altair-viz-02071845ceb64b7e9d8c01c9501de6bc.vega-embed {\n",
       "    width: 100%;\n",
       "    display: flex;\n",
       "  }\n",
       "\n",
       "  #altair-viz-02071845ceb64b7e9d8c01c9501de6bc.vega-embed details,\n",
       "  #altair-viz-02071845ceb64b7e9d8c01c9501de6bc.vega-embed details summary {\n",
       "    position: relative;\n",
       "  }\n",
       "</style>\n",
       "<div id=\"altair-viz-02071845ceb64b7e9d8c01c9501de6bc\"></div>\n",
       "<script type=\"text/javascript\">\n",
       "  var VEGA_DEBUG = (typeof VEGA_DEBUG == \"undefined\") ? {} : VEGA_DEBUG;\n",
       "  (function(spec, embedOpt){\n",
       "    let outputDiv = document.currentScript.previousElementSibling;\n",
       "    if (outputDiv.id !== \"altair-viz-02071845ceb64b7e9d8c01c9501de6bc\") {\n",
       "      outputDiv = document.getElementById(\"altair-viz-02071845ceb64b7e9d8c01c9501de6bc\");\n",
       "    }\n",
       "    const paths = {\n",
       "      \"vega\": \"https://cdn.jsdelivr.net/npm/vega@5?noext\",\n",
       "      \"vega-lib\": \"https://cdn.jsdelivr.net/npm/vega-lib?noext\",\n",
       "      \"vega-lite\": \"https://cdn.jsdelivr.net/npm/vega-lite@5.8.0?noext\",\n",
       "      \"vega-embed\": \"https://cdn.jsdelivr.net/npm/vega-embed@6?noext\",\n",
       "    };\n",
       "\n",
       "    function maybeLoadScript(lib, version) {\n",
       "      var key = `${lib.replace(\"-\", \"\")}_version`;\n",
       "      return (VEGA_DEBUG[key] == version) ?\n",
       "        Promise.resolve(paths[lib]) :\n",
       "        new Promise(function(resolve, reject) {\n",
       "          var s = document.createElement('script');\n",
       "          document.getElementsByTagName(\"head\")[0].appendChild(s);\n",
       "          s.async = true;\n",
       "          s.onload = () => {\n",
       "            VEGA_DEBUG[key] = version;\n",
       "            return resolve(paths[lib]);\n",
       "          };\n",
       "          s.onerror = () => reject(`Error loading script: ${paths[lib]}`);\n",
       "          s.src = paths[lib];\n",
       "        });\n",
       "    }\n",
       "\n",
       "    function showError(err) {\n",
       "      outputDiv.innerHTML = `<div class=\"error\" style=\"color:red;\">${err}</div>`;\n",
       "      throw err;\n",
       "    }\n",
       "\n",
       "    function displayChart(vegaEmbed) {\n",
       "      vegaEmbed(outputDiv, spec, embedOpt)\n",
       "        .catch(err => showError(`Javascript Error: ${err.message}<br>This usually means there's a typo in your chart specification. See the javascript console for the full traceback.`));\n",
       "    }\n",
       "\n",
       "    if(typeof define === \"function\" && define.amd) {\n",
       "      requirejs.config({paths});\n",
       "      require([\"vega-embed\"], displayChart, err => showError(`Error loading script: ${err.message}`));\n",
       "    } else {\n",
       "      maybeLoadScript(\"vega\", \"5\")\n",
       "        .then(() => maybeLoadScript(\"vega-lite\", \"5.8.0\"))\n",
       "        .then(() => maybeLoadScript(\"vega-embed\", \"6\"))\n",
       "        .catch(showError)\n",
       "        .then(() => displayChart(vegaEmbed));\n",
       "    }\n",
       "  })({\"config\": {\"view\": {\"continuousWidth\": 300, \"continuousHeight\": 300}}, \"data\": {\"name\": \"data-6dfcc2d045bece6fe69863e2539333af\"}, \"mark\": {\"type\": \"area\"}, \"encoding\": {\"x\": {\"field\": \"lat\", \"type\": \"quantitative\"}, \"y\": {\"field\": \"density\", \"type\": \"quantitative\"}}, \"transform\": [{\"density\": \"lat\", \"bandwidth\": 0.0001, \"as\": [\"lat\", \"density\"]}], \"$schema\": \"https://vega.github.io/schema/vega-lite/v5.8.0.json\", \"datasets\": {\"data-6dfcc2d045bece6fe69863e2539333af\": [{\"key\": \"bakeries\", \"lat\": 47.66887}, {\"key\": \"bakeries\", \"lat\": 47.6617813110352}, {\"key\": \"bakeries\", \"lat\": 47.65998}, {\"key\": \"bakeries\", \"lat\": 47.6633732020855}, {\"key\": \"bakeries\", \"lat\": 47.6582099}, {\"key\": \"bakeries\", \"lat\": 47.66105}, {\"key\": \"indian\", \"lat\": 47.669083}, {\"key\": \"indian\", \"lat\": 47.6647397425756}, {\"key\": \"indian\", \"lat\": 47.65898}, {\"key\": \"indian\", \"lat\": 47.6641}, {\"key\": \"indian\", \"lat\": 47.6587699}, {\"key\": \"indian\", \"lat\": 47.6623521}, {\"key\": \"hawaiian\", \"lat\": 47.664349}, {\"key\": \"hawaiian\", \"lat\": 47.6627388}, {\"key\": \"hawaiian\", \"lat\": 47.66359}, {\"key\": \"korean\", \"lat\": 47.658201}, {\"key\": \"korean\", \"lat\": 47.664349}, {\"key\": \"korean\", \"lat\": 47.65714}, {\"key\": \"korean\", \"lat\": 47.66671}, {\"key\": \"korean\", \"lat\": 47.65847}, {\"key\": \"korean\", \"lat\": 47.667652}, {\"key\": \"korean\", \"lat\": 47.66208}, {\"key\": \"korean\", \"lat\": 47.6577399}, {\"key\": \"korean\", \"lat\": 47.6571884155273}, {\"key\": \"korean\", \"lat\": 47.6577399}, {\"key\": \"burgers\", \"lat\": 47.6616432}, {\"key\": \"burgers\", \"lat\": 47.659244}, {\"key\": \"burgers\", \"lat\": 47.66464}, {\"key\": \"burgers\", \"lat\": 47.6616201}, {\"key\": \"burgers\", \"lat\": 47.66171}, {\"key\": \"burgers\", \"lat\": 47.6582099}, {\"key\": \"burgers\", \"lat\": 47.6614373897426}, {\"key\": \"burgers\", \"lat\": 47.66476}, {\"key\": \"burgers\", \"lat\": 47.655889079095}, {\"key\": \"bubbletea\", \"lat\": 47.661484}, {\"key\": \"bubbletea\", \"lat\": 47.664773}, {\"key\": \"bubbletea\", \"lat\": 47.6638174140586}, {\"key\": \"bubbletea\", \"lat\": 47.6628435}, {\"key\": \"bubbletea\", \"lat\": 47.6608}, {\"key\": \"bubbletea\", \"lat\": 47.65714}, {\"key\": \"bubbletea\", \"lat\": 47.664073559291}, {\"key\": \"bubbletea\", \"lat\": 47.66325}, {\"key\": \"bubbletea\", \"lat\": 47.66105}, {\"key\": \"bubbletea\", \"lat\": 47.661621}, {\"key\": \"bubbletea\", \"lat\": 47.66325}, {\"key\": \"bubbletea\", \"lat\": 47.6568748203069}, {\"key\": \"seafood\", \"lat\": 47.66015}, {\"key\": \"seafood\", \"lat\": 47.66464}, {\"key\": \"seafood\", \"lat\": 47.6616432}, {\"key\": \"veg\", \"lat\": 47.66838}, {\"key\": \"veg\", \"lat\": 47.664773}, {\"key\": \"veg\", \"lat\": 47.6675671}, {\"key\": \"veg\", \"lat\": 47.6686016}, {\"key\": \"vietnamese\", \"lat\": 47.65822}, {\"key\": \"vietnamese\", \"lat\": 47.65919}, {\"key\": \"vietnamese\", \"lat\": 47.6581344604492}, {\"key\": \"vietnamese\", \"lat\": 47.6594222814143}, {\"key\": \"vietnamese\", \"lat\": 47.6577}, {\"key\": \"vietnamese\", \"lat\": 47.65547}, {\"key\": \"vietnamese\", \"lat\": 47.6584999}, {\"key\": \"vietnamese\", \"lat\": 47.65878}, {\"key\": \"latin\", \"lat\": 47.6647592219734}, {\"key\": \"latin\", \"lat\": 47.65714}, {\"key\": \"latin\", \"lat\": 47.6659099}, {\"key\": \"latin\", \"lat\": 47.65923}, {\"key\": \"latin\", \"lat\": 47.65161}, {\"key\": \"latin\", \"lat\": 47.6643199}, {\"key\": \"latin\", \"lat\": 47.6595391}, {\"key\": \"latin\", \"lat\": 47.6614673237322}, {\"key\": \"japanese\", \"lat\": 47.66671}, {\"key\": \"japanese\", \"lat\": 47.664349}, {\"key\": \"japanese\", \"lat\": 47.6617467}, {\"key\": \"japanese\", \"lat\": 47.6599989831448}, {\"key\": \"japanese\", \"lat\": 47.6580970623725}, {\"key\": \"japanese\", \"lat\": 47.6610565185547}, {\"key\": \"japanese\", \"lat\": 47.657078}, {\"key\": \"japanese\", \"lat\": 47.65964}, {\"key\": \"japanese\", \"lat\": 47.6667608320713}, {\"key\": \"japanese\", \"lat\": 47.65799}, {\"key\": \"japanese\", \"lat\": 47.66359}, {\"key\": \"japanese\", \"lat\": 47.6577399}, {\"key\": \"japanese\", \"lat\": 47.6571884155273}, {\"key\": \"japanese\", \"lat\": 47.65902}, {\"key\": \"breakfast\", \"lat\": 47.6646650792784}, {\"key\": \"breakfast\", \"lat\": 47.6597958}, {\"key\": \"breakfast\", \"lat\": 47.657772}, {\"key\": \"breakfast\", \"lat\": 47.66295}, {\"key\": \"breakfast\", \"lat\": 47.65651}, {\"key\": \"breakfast\", \"lat\": 47.65851}, {\"key\": \"breakfast\", \"lat\": 47.6595172}, {\"key\": \"breakfast\", \"lat\": 47.6565299}, {\"key\": \"thai\", \"lat\": 47.66679}, {\"key\": \"thai\", \"lat\": 47.6581344604492}, {\"key\": \"thai\", \"lat\": 47.6675671}, {\"key\": \"thai\", \"lat\": 47.662455}, {\"key\": \"thai\", \"lat\": 47.6588020473719}, {\"key\": \"thai\", \"lat\": 47.6642113}, {\"key\": \"thai\", \"lat\": 47.65928}, {\"key\": \"thai\", \"lat\": 47.6587699}, {\"key\": \"thai\", \"lat\": 47.65547}, {\"key\": \"american\", \"lat\": 47.6680599}, {\"key\": \"american\", \"lat\": 47.657772}, {\"key\": \"american\", \"lat\": 47.6616432}, {\"key\": \"american\", \"lat\": 47.65651}, {\"key\": \"american\", \"lat\": 47.6616201}, {\"key\": \"american\", \"lat\": 47.6608123779297}, {\"key\": \"chinese\", \"lat\": 47.6651010477427}, {\"key\": \"chinese\", \"lat\": 47.66815}, {\"key\": \"chinese\", \"lat\": 47.6581344604492}, {\"key\": \"chinese\", \"lat\": 47.66144}, {\"key\": \"chinese\", \"lat\": 47.66389}, {\"key\": \"chinese\", \"lat\": 47.66236}, {\"key\": \"chinese\", \"lat\": 47.65714}, {\"key\": \"chinese\", \"lat\": 47.66105}, {\"key\": \"chinese\", \"lat\": 47.6568856156391}, {\"key\": \"chinese\", \"lat\": 47.662628}, {\"key\": \"chinese\", \"lat\": 47.6594399}, {\"key\": \"chinese\", \"lat\": 47.66174}, {\"key\": \"chinese\", \"lat\": 47.6571884155273}, {\"key\": \"chinese\", \"lat\": 47.6643}, {\"key\": \"mideastern\", \"lat\": 47.66244}, {\"key\": \"mideastern\", \"lat\": 47.66093}, {\"key\": \"mideastern\", \"lat\": 47.65805}, {\"key\": \"mideastern\", \"lat\": 47.65991}, {\"key\": \"mideastern\", \"lat\": 47.6590045}, {\"key\": \"mideastern\", \"lat\": 47.6647397425756}, {\"key\": \"mideastern\", \"lat\": 47.6691895}, {\"key\": \"mideastern\", \"lat\": 47.6587699}, {\"key\": \"mideastern\", \"lat\": 47.6623521}, {\"key\": \"mideastern\", \"lat\": 47.66295}, {\"key\": \"mideastern\", \"lat\": 47.65867}, {\"key\": \"mideastern\", \"lat\": 47.6679654176159}, {\"key\": \"pizza\", \"lat\": 47.65847}, {\"key\": \"pizza\", \"lat\": 47.662201}, {\"key\": \"pizza\", \"lat\": 47.6686016}, {\"key\": \"pizza\", \"lat\": 47.66671}, {\"key\": \"pizza\", \"lat\": 47.65784}, {\"key\": \"pizza\", \"lat\": 47.66729}, {\"key\": \"pizza\", \"lat\": 47.667652}, {\"key\": \"pizza\", \"lat\": 47.658947}, {\"key\": \"pizza\", \"lat\": 47.6558651}, {\"key\": \"drinks\", \"lat\": 47.6680599}, {\"key\": \"drinks\", \"lat\": 47.6617813110352}, {\"key\": \"drinks\", \"lat\": 47.66479}, {\"key\": \"drinks\", \"lat\": 47.65553}, {\"key\": \"drinks\", \"lat\": 47.65784}, {\"key\": \"drinks\", \"lat\": 47.65735}, {\"key\": \"drinks\", \"lat\": 47.6614427887238}, {\"key\": \"drinks\", \"lat\": 47.6614373897426}, {\"key\": \"drinks\", \"lat\": 47.6608123779297}, {\"key\": \"drinks\", \"lat\": 47.658947}, {\"key\": \"drinks\", \"lat\": 47.66171}, {\"key\": \"drinks\", \"lat\": 47.667652}, {\"key\": \"coffee\", \"lat\": 47.6597958}, {\"key\": \"coffee\", \"lat\": 47.6620911}, {\"key\": \"coffee\", \"lat\": 47.6698722839355}, {\"key\": \"coffee\", \"lat\": 47.6646650792784}, {\"key\": \"coffee\", \"lat\": 47.6617813110352}, {\"key\": \"coffee\", \"lat\": 47.657406}, {\"key\": \"coffee\", \"lat\": 47.6587736}, {\"key\": \"coffee\", \"lat\": 47.6638174140586}, {\"key\": \"coffee\", \"lat\": 47.66148}, {\"key\": \"coffee\", \"lat\": 47.66114}, {\"key\": \"coffee\", \"lat\": 47.661484}, {\"key\": \"coffee\", \"lat\": 47.66325}, {\"key\": \"coffee\", \"lat\": 47.658561989665}, {\"key\": \"coffee\", \"lat\": 47.664073559291}, {\"key\": \"coffee\", \"lat\": 47.65998}, {\"key\": \"coffee\", \"lat\": 47.6633732020855}, {\"key\": \"coffee\", \"lat\": 47.6610565185547}, {\"key\": \"coffee\", \"lat\": 47.66003}, {\"key\": \"coffee\", \"lat\": 47.65851}, {\"key\": \"coffee\", \"lat\": 47.6628435}, {\"key\": \"coffee\", \"lat\": 47.6533553}, {\"key\": \"coffee\", \"lat\": 47.6553802192211}, {\"key\": \"coffee\", \"lat\": 47.6595772057772}, {\"key\": \"coffee\", \"lat\": 47.65818}, {\"key\": \"coffee\", \"lat\": 47.6546670937183}, {\"key\": \"coffee\", \"lat\": 47.661621}, {\"key\": \"coffee\", \"lat\": 47.66279}, {\"key\": \"coffee\", \"lat\": 47.6563760338137}, {\"key\": \"coffee\", \"lat\": 47.6568332490467}]}}, {\"mode\": \"vega-lite\"});\n",
       "</script>"
      ],
      "text/plain": [
       "alt.Chart(...)"
      ]
     },
     "execution_count": 30,
     "metadata": {},
     "output_type": "execute_result"
    }
   ],
   "source": [
    "alt.Chart(d).transform_density(\n",
    "    'lat',\n",
    "    as_=['lat','density'],\n",
    "    bandwidth=1e-4\n",
    ").mark_area().encode(\n",
    "    alt.X('lat:Q'),\n",
    "    alt.Y('density:Q')\n",
    ")"
   ]
  },
  {
   "cell_type": "code",
   "execution_count": 32,
   "metadata": {},
   "outputs": [
    {
     "name": "stderr",
     "output_type": "stream",
     "text": [
      "/opt/anaconda3/lib/python3.12/site-packages/altair/utils/core.py:395: FutureWarning: the convert_dtype parameter is deprecated and will be removed in a future version.  Do ``ser.astype(object).apply()`` instead if you want ``convert_dtype=False``.\n",
      "  col = df[col_name].apply(to_list_if_array, convert_dtype=False)\n"
     ]
    },
    {
     "data": {
      "text/html": [
       "\n",
       "<style>\n",
       "  #altair-viz-c5b5aa70158d430facf6101e4e0dfda2.vega-embed {\n",
       "    width: 100%;\n",
       "    display: flex;\n",
       "  }\n",
       "\n",
       "  #altair-viz-c5b5aa70158d430facf6101e4e0dfda2.vega-embed details,\n",
       "  #altair-viz-c5b5aa70158d430facf6101e4e0dfda2.vega-embed details summary {\n",
       "    position: relative;\n",
       "  }\n",
       "</style>\n",
       "<div id=\"altair-viz-c5b5aa70158d430facf6101e4e0dfda2\"></div>\n",
       "<script type=\"text/javascript\">\n",
       "  var VEGA_DEBUG = (typeof VEGA_DEBUG == \"undefined\") ? {} : VEGA_DEBUG;\n",
       "  (function(spec, embedOpt){\n",
       "    let outputDiv = document.currentScript.previousElementSibling;\n",
       "    if (outputDiv.id !== \"altair-viz-c5b5aa70158d430facf6101e4e0dfda2\") {\n",
       "      outputDiv = document.getElementById(\"altair-viz-c5b5aa70158d430facf6101e4e0dfda2\");\n",
       "    }\n",
       "    const paths = {\n",
       "      \"vega\": \"https://cdn.jsdelivr.net/npm/vega@5?noext\",\n",
       "      \"vega-lib\": \"https://cdn.jsdelivr.net/npm/vega-lib?noext\",\n",
       "      \"vega-lite\": \"https://cdn.jsdelivr.net/npm/vega-lite@5.8.0?noext\",\n",
       "      \"vega-embed\": \"https://cdn.jsdelivr.net/npm/vega-embed@6?noext\",\n",
       "    };\n",
       "\n",
       "    function maybeLoadScript(lib, version) {\n",
       "      var key = `${lib.replace(\"-\", \"\")}_version`;\n",
       "      return (VEGA_DEBUG[key] == version) ?\n",
       "        Promise.resolve(paths[lib]) :\n",
       "        new Promise(function(resolve, reject) {\n",
       "          var s = document.createElement('script');\n",
       "          document.getElementsByTagName(\"head\")[0].appendChild(s);\n",
       "          s.async = true;\n",
       "          s.onload = () => {\n",
       "            VEGA_DEBUG[key] = version;\n",
       "            return resolve(paths[lib]);\n",
       "          };\n",
       "          s.onerror = () => reject(`Error loading script: ${paths[lib]}`);\n",
       "          s.src = paths[lib];\n",
       "        });\n",
       "    }\n",
       "\n",
       "    function showError(err) {\n",
       "      outputDiv.innerHTML = `<div class=\"error\" style=\"color:red;\">${err}</div>`;\n",
       "      throw err;\n",
       "    }\n",
       "\n",
       "    function displayChart(vegaEmbed) {\n",
       "      vegaEmbed(outputDiv, spec, embedOpt)\n",
       "        .catch(err => showError(`Javascript Error: ${err.message}<br>This usually means there's a typo in your chart specification. See the javascript console for the full traceback.`));\n",
       "    }\n",
       "\n",
       "    if(typeof define === \"function\" && define.amd) {\n",
       "      requirejs.config({paths});\n",
       "      require([\"vega-embed\"], displayChart, err => showError(`Error loading script: ${err.message}`));\n",
       "    } else {\n",
       "      maybeLoadScript(\"vega\", \"5\")\n",
       "        .then(() => maybeLoadScript(\"vega-lite\", \"5.8.0\"))\n",
       "        .then(() => maybeLoadScript(\"vega-embed\", \"6\"))\n",
       "        .catch(showError)\n",
       "        .then(() => displayChart(vegaEmbed));\n",
       "    }\n",
       "  })({\"config\": {\"view\": {\"continuousWidth\": 300, \"continuousHeight\": 300}}, \"data\": {\"name\": \"data-6dfcc2d045bece6fe69863e2539333af\"}, \"mark\": {\"type\": \"area\"}, \"encoding\": {\"x\": {\"field\": \"lat\", \"type\": \"quantitative\"}, \"y\": {\"field\": \"density\", \"type\": \"quantitative\"}}, \"transform\": [{\"density\": \"lat\", \"extent\": [47.64161, 47.679872283935495], \"as\": [\"lat\", \"density\"]}], \"$schema\": \"https://vega.github.io/schema/vega-lite/v5.8.0.json\", \"datasets\": {\"data-6dfcc2d045bece6fe69863e2539333af\": [{\"key\": \"bakeries\", \"lat\": 47.66887}, {\"key\": \"bakeries\", \"lat\": 47.6617813110352}, {\"key\": \"bakeries\", \"lat\": 47.65998}, {\"key\": \"bakeries\", \"lat\": 47.6633732020855}, {\"key\": \"bakeries\", \"lat\": 47.6582099}, {\"key\": \"bakeries\", \"lat\": 47.66105}, {\"key\": \"indian\", \"lat\": 47.669083}, {\"key\": \"indian\", \"lat\": 47.6647397425756}, {\"key\": \"indian\", \"lat\": 47.65898}, {\"key\": \"indian\", \"lat\": 47.6641}, {\"key\": \"indian\", \"lat\": 47.6587699}, {\"key\": \"indian\", \"lat\": 47.6623521}, {\"key\": \"hawaiian\", \"lat\": 47.664349}, {\"key\": \"hawaiian\", \"lat\": 47.6627388}, {\"key\": \"hawaiian\", \"lat\": 47.66359}, {\"key\": \"korean\", \"lat\": 47.658201}, {\"key\": \"korean\", \"lat\": 47.664349}, {\"key\": \"korean\", \"lat\": 47.65714}, {\"key\": \"korean\", \"lat\": 47.66671}, {\"key\": \"korean\", \"lat\": 47.65847}, {\"key\": \"korean\", \"lat\": 47.667652}, {\"key\": \"korean\", \"lat\": 47.66208}, {\"key\": \"korean\", \"lat\": 47.6577399}, {\"key\": \"korean\", \"lat\": 47.6571884155273}, {\"key\": \"korean\", \"lat\": 47.6577399}, {\"key\": \"burgers\", \"lat\": 47.6616432}, {\"key\": \"burgers\", \"lat\": 47.659244}, {\"key\": \"burgers\", \"lat\": 47.66464}, {\"key\": \"burgers\", \"lat\": 47.6616201}, {\"key\": \"burgers\", \"lat\": 47.66171}, {\"key\": \"burgers\", \"lat\": 47.6582099}, {\"key\": \"burgers\", \"lat\": 47.6614373897426}, {\"key\": \"burgers\", \"lat\": 47.66476}, {\"key\": \"burgers\", \"lat\": 47.655889079095}, {\"key\": \"bubbletea\", \"lat\": 47.661484}, {\"key\": \"bubbletea\", \"lat\": 47.664773}, {\"key\": \"bubbletea\", \"lat\": 47.6638174140586}, {\"key\": \"bubbletea\", \"lat\": 47.6628435}, {\"key\": \"bubbletea\", \"lat\": 47.6608}, {\"key\": \"bubbletea\", \"lat\": 47.65714}, {\"key\": \"bubbletea\", \"lat\": 47.664073559291}, {\"key\": \"bubbletea\", \"lat\": 47.66325}, {\"key\": \"bubbletea\", \"lat\": 47.66105}, {\"key\": \"bubbletea\", \"lat\": 47.661621}, {\"key\": \"bubbletea\", \"lat\": 47.66325}, {\"key\": \"bubbletea\", \"lat\": 47.6568748203069}, {\"key\": \"seafood\", \"lat\": 47.66015}, {\"key\": \"seafood\", \"lat\": 47.66464}, {\"key\": \"seafood\", \"lat\": 47.6616432}, {\"key\": \"veg\", \"lat\": 47.66838}, {\"key\": \"veg\", \"lat\": 47.664773}, {\"key\": \"veg\", \"lat\": 47.6675671}, {\"key\": \"veg\", \"lat\": 47.6686016}, {\"key\": \"vietnamese\", \"lat\": 47.65822}, {\"key\": \"vietnamese\", \"lat\": 47.65919}, {\"key\": \"vietnamese\", \"lat\": 47.6581344604492}, {\"key\": \"vietnamese\", \"lat\": 47.6594222814143}, {\"key\": \"vietnamese\", \"lat\": 47.6577}, {\"key\": \"vietnamese\", \"lat\": 47.65547}, {\"key\": \"vietnamese\", \"lat\": 47.6584999}, {\"key\": \"vietnamese\", \"lat\": 47.65878}, {\"key\": \"latin\", \"lat\": 47.6647592219734}, {\"key\": \"latin\", \"lat\": 47.65714}, {\"key\": \"latin\", \"lat\": 47.6659099}, {\"key\": \"latin\", \"lat\": 47.65923}, {\"key\": \"latin\", \"lat\": 47.65161}, {\"key\": \"latin\", \"lat\": 47.6643199}, {\"key\": \"latin\", \"lat\": 47.6595391}, {\"key\": \"latin\", \"lat\": 47.6614673237322}, {\"key\": \"japanese\", \"lat\": 47.66671}, {\"key\": \"japanese\", \"lat\": 47.664349}, {\"key\": \"japanese\", \"lat\": 47.6617467}, {\"key\": \"japanese\", \"lat\": 47.6599989831448}, {\"key\": \"japanese\", \"lat\": 47.6580970623725}, {\"key\": \"japanese\", \"lat\": 47.6610565185547}, {\"key\": \"japanese\", \"lat\": 47.657078}, {\"key\": \"japanese\", \"lat\": 47.65964}, {\"key\": \"japanese\", \"lat\": 47.6667608320713}, {\"key\": \"japanese\", \"lat\": 47.65799}, {\"key\": \"japanese\", \"lat\": 47.66359}, {\"key\": \"japanese\", \"lat\": 47.6577399}, {\"key\": \"japanese\", \"lat\": 47.6571884155273}, {\"key\": \"japanese\", \"lat\": 47.65902}, {\"key\": \"breakfast\", \"lat\": 47.6646650792784}, {\"key\": \"breakfast\", \"lat\": 47.6597958}, {\"key\": \"breakfast\", \"lat\": 47.657772}, {\"key\": \"breakfast\", \"lat\": 47.66295}, {\"key\": \"breakfast\", \"lat\": 47.65651}, {\"key\": \"breakfast\", \"lat\": 47.65851}, {\"key\": \"breakfast\", \"lat\": 47.6595172}, {\"key\": \"breakfast\", \"lat\": 47.6565299}, {\"key\": \"thai\", \"lat\": 47.66679}, {\"key\": \"thai\", \"lat\": 47.6581344604492}, {\"key\": \"thai\", \"lat\": 47.6675671}, {\"key\": \"thai\", \"lat\": 47.662455}, {\"key\": \"thai\", \"lat\": 47.6588020473719}, {\"key\": \"thai\", \"lat\": 47.6642113}, {\"key\": \"thai\", \"lat\": 47.65928}, {\"key\": \"thai\", \"lat\": 47.6587699}, {\"key\": \"thai\", \"lat\": 47.65547}, {\"key\": \"american\", \"lat\": 47.6680599}, {\"key\": \"american\", \"lat\": 47.657772}, {\"key\": \"american\", \"lat\": 47.6616432}, {\"key\": \"american\", \"lat\": 47.65651}, {\"key\": \"american\", \"lat\": 47.6616201}, {\"key\": \"american\", \"lat\": 47.6608123779297}, {\"key\": \"chinese\", \"lat\": 47.6651010477427}, {\"key\": \"chinese\", \"lat\": 47.66815}, {\"key\": \"chinese\", \"lat\": 47.6581344604492}, {\"key\": \"chinese\", \"lat\": 47.66144}, {\"key\": \"chinese\", \"lat\": 47.66389}, {\"key\": \"chinese\", \"lat\": 47.66236}, {\"key\": \"chinese\", \"lat\": 47.65714}, {\"key\": \"chinese\", \"lat\": 47.66105}, {\"key\": \"chinese\", \"lat\": 47.6568856156391}, {\"key\": \"chinese\", \"lat\": 47.662628}, {\"key\": \"chinese\", \"lat\": 47.6594399}, {\"key\": \"chinese\", \"lat\": 47.66174}, {\"key\": \"chinese\", \"lat\": 47.6571884155273}, {\"key\": \"chinese\", \"lat\": 47.6643}, {\"key\": \"mideastern\", \"lat\": 47.66244}, {\"key\": \"mideastern\", \"lat\": 47.66093}, {\"key\": \"mideastern\", \"lat\": 47.65805}, {\"key\": \"mideastern\", \"lat\": 47.65991}, {\"key\": \"mideastern\", \"lat\": 47.6590045}, {\"key\": \"mideastern\", \"lat\": 47.6647397425756}, {\"key\": \"mideastern\", \"lat\": 47.6691895}, {\"key\": \"mideastern\", \"lat\": 47.6587699}, {\"key\": \"mideastern\", \"lat\": 47.6623521}, {\"key\": \"mideastern\", \"lat\": 47.66295}, {\"key\": \"mideastern\", \"lat\": 47.65867}, {\"key\": \"mideastern\", \"lat\": 47.6679654176159}, {\"key\": \"pizza\", \"lat\": 47.65847}, {\"key\": \"pizza\", \"lat\": 47.662201}, {\"key\": \"pizza\", \"lat\": 47.6686016}, {\"key\": \"pizza\", \"lat\": 47.66671}, {\"key\": \"pizza\", \"lat\": 47.65784}, {\"key\": \"pizza\", \"lat\": 47.66729}, {\"key\": \"pizza\", \"lat\": 47.667652}, {\"key\": \"pizza\", \"lat\": 47.658947}, {\"key\": \"pizza\", \"lat\": 47.6558651}, {\"key\": \"drinks\", \"lat\": 47.6680599}, {\"key\": \"drinks\", \"lat\": 47.6617813110352}, {\"key\": \"drinks\", \"lat\": 47.66479}, {\"key\": \"drinks\", \"lat\": 47.65553}, {\"key\": \"drinks\", \"lat\": 47.65784}, {\"key\": \"drinks\", \"lat\": 47.65735}, {\"key\": \"drinks\", \"lat\": 47.6614427887238}, {\"key\": \"drinks\", \"lat\": 47.6614373897426}, {\"key\": \"drinks\", \"lat\": 47.6608123779297}, {\"key\": \"drinks\", \"lat\": 47.658947}, {\"key\": \"drinks\", \"lat\": 47.66171}, {\"key\": \"drinks\", \"lat\": 47.667652}, {\"key\": \"coffee\", \"lat\": 47.6597958}, {\"key\": \"coffee\", \"lat\": 47.6620911}, {\"key\": \"coffee\", \"lat\": 47.6698722839355}, {\"key\": \"coffee\", \"lat\": 47.6646650792784}, {\"key\": \"coffee\", \"lat\": 47.6617813110352}, {\"key\": \"coffee\", \"lat\": 47.657406}, {\"key\": \"coffee\", \"lat\": 47.6587736}, {\"key\": \"coffee\", \"lat\": 47.6638174140586}, {\"key\": \"coffee\", \"lat\": 47.66148}, {\"key\": \"coffee\", \"lat\": 47.66114}, {\"key\": \"coffee\", \"lat\": 47.661484}, {\"key\": \"coffee\", \"lat\": 47.66325}, {\"key\": \"coffee\", \"lat\": 47.658561989665}, {\"key\": \"coffee\", \"lat\": 47.664073559291}, {\"key\": \"coffee\", \"lat\": 47.65998}, {\"key\": \"coffee\", \"lat\": 47.6633732020855}, {\"key\": \"coffee\", \"lat\": 47.6610565185547}, {\"key\": \"coffee\", \"lat\": 47.66003}, {\"key\": \"coffee\", \"lat\": 47.65851}, {\"key\": \"coffee\", \"lat\": 47.6628435}, {\"key\": \"coffee\", \"lat\": 47.6533553}, {\"key\": \"coffee\", \"lat\": 47.6553802192211}, {\"key\": \"coffee\", \"lat\": 47.6595772057772}, {\"key\": \"coffee\", \"lat\": 47.65818}, {\"key\": \"coffee\", \"lat\": 47.6546670937183}, {\"key\": \"coffee\", \"lat\": 47.661621}, {\"key\": \"coffee\", \"lat\": 47.66279}, {\"key\": \"coffee\", \"lat\": 47.6563760338137}, {\"key\": \"coffee\", \"lat\": 47.6568332490467}]}}, {\"mode\": \"vega-lite\"});\n",
       "</script>"
      ],
      "text/plain": [
       "alt.Chart(...)"
      ]
     },
     "execution_count": 32,
     "metadata": {},
     "output_type": "execute_result"
    }
   ],
   "source": [
    "alt.Chart(d).transform_density(\n",
    "    'lat',\n",
    "    as_=['lat','density'],\n",
    "    extent=[d['lat'].min()-1e-2,d['lat'].max()+1e-2]\n",
    ").mark_area().encode(\n",
    "    alt.X('lat:Q'),\n",
    "    alt.Y('density:Q')\n",
    ")"
   ]
  },
  {
   "cell_type": "markdown",
   "metadata": {},
   "source": [
    "If we change the bandwidth, we get massive changes in the readability of the graph. The smaller the bandwidth (standard deviation), the more detailed and jagged, whereas, a large bandwidth smooths it out until it becomes a rectangle (uniform distribution). \n",
    "\n",
    "If we change the extent, we can see smoother endpoints, but it doesn't change anything else in the plot, just the \"niceness\" of it."
   ]
  },
  {
   "cell_type": "markdown",
   "metadata": {},
   "source": [
    "**Part 4**"
   ]
  },
  {
   "cell_type": "code",
   "execution_count": 35,
   "metadata": {},
   "outputs": [
    {
     "name": "stderr",
     "output_type": "stream",
     "text": [
      "/opt/anaconda3/lib/python3.12/site-packages/altair/utils/core.py:395: FutureWarning: the convert_dtype parameter is deprecated and will be removed in a future version.  Do ``ser.astype(object).apply()`` instead if you want ``convert_dtype=False``.\n",
      "  col = df[col_name].apply(to_list_if_array, convert_dtype=False)\n"
     ]
    },
    {
     "data": {
      "text/html": [
       "\n",
       "<style>\n",
       "  #altair-viz-55876ec4ab17472e9df5dced0d5e4ff5.vega-embed {\n",
       "    width: 100%;\n",
       "    display: flex;\n",
       "  }\n",
       "\n",
       "  #altair-viz-55876ec4ab17472e9df5dced0d5e4ff5.vega-embed details,\n",
       "  #altair-viz-55876ec4ab17472e9df5dced0d5e4ff5.vega-embed details summary {\n",
       "    position: relative;\n",
       "  }\n",
       "</style>\n",
       "<div id=\"altair-viz-55876ec4ab17472e9df5dced0d5e4ff5\"></div>\n",
       "<script type=\"text/javascript\">\n",
       "  var VEGA_DEBUG = (typeof VEGA_DEBUG == \"undefined\") ? {} : VEGA_DEBUG;\n",
       "  (function(spec, embedOpt){\n",
       "    let outputDiv = document.currentScript.previousElementSibling;\n",
       "    if (outputDiv.id !== \"altair-viz-55876ec4ab17472e9df5dced0d5e4ff5\") {\n",
       "      outputDiv = document.getElementById(\"altair-viz-55876ec4ab17472e9df5dced0d5e4ff5\");\n",
       "    }\n",
       "    const paths = {\n",
       "      \"vega\": \"https://cdn.jsdelivr.net/npm/vega@5?noext\",\n",
       "      \"vega-lib\": \"https://cdn.jsdelivr.net/npm/vega-lib?noext\",\n",
       "      \"vega-lite\": \"https://cdn.jsdelivr.net/npm/vega-lite@5.8.0?noext\",\n",
       "      \"vega-embed\": \"https://cdn.jsdelivr.net/npm/vega-embed@6?noext\",\n",
       "    };\n",
       "\n",
       "    function maybeLoadScript(lib, version) {\n",
       "      var key = `${lib.replace(\"-\", \"\")}_version`;\n",
       "      return (VEGA_DEBUG[key] == version) ?\n",
       "        Promise.resolve(paths[lib]) :\n",
       "        new Promise(function(resolve, reject) {\n",
       "          var s = document.createElement('script');\n",
       "          document.getElementsByTagName(\"head\")[0].appendChild(s);\n",
       "          s.async = true;\n",
       "          s.onload = () => {\n",
       "            VEGA_DEBUG[key] = version;\n",
       "            return resolve(paths[lib]);\n",
       "          };\n",
       "          s.onerror = () => reject(`Error loading script: ${paths[lib]}`);\n",
       "          s.src = paths[lib];\n",
       "        });\n",
       "    }\n",
       "\n",
       "    function showError(err) {\n",
       "      outputDiv.innerHTML = `<div class=\"error\" style=\"color:red;\">${err}</div>`;\n",
       "      throw err;\n",
       "    }\n",
       "\n",
       "    function displayChart(vegaEmbed) {\n",
       "      vegaEmbed(outputDiv, spec, embedOpt)\n",
       "        .catch(err => showError(`Javascript Error: ${err.message}<br>This usually means there's a typo in your chart specification. See the javascript console for the full traceback.`));\n",
       "    }\n",
       "\n",
       "    if(typeof define === \"function\" && define.amd) {\n",
       "      requirejs.config({paths});\n",
       "      require([\"vega-embed\"], displayChart, err => showError(`Error loading script: ${err.message}`));\n",
       "    } else {\n",
       "      maybeLoadScript(\"vega\", \"5\")\n",
       "        .then(() => maybeLoadScript(\"vega-lite\", \"5.8.0\"))\n",
       "        .then(() => maybeLoadScript(\"vega-embed\", \"6\"))\n",
       "        .catch(showError)\n",
       "        .then(() => displayChart(vegaEmbed));\n",
       "    }\n",
       "  })({\"config\": {\"view\": {\"continuousWidth\": 300, \"continuousHeight\": 300}}, \"data\": {\"name\": \"data-6dfcc2d045bece6fe69863e2539333af\"}, \"mark\": {\"type\": \"tick\", \"height\": 50}, \"encoding\": {\"color\": {\"field\": \"key\", \"type\": \"nominal\"}, \"x\": {\"field\": \"lat\", \"scale\": {\"domain\": [47.65061, 47.670872283935495]}, \"type\": \"quantitative\"}}, \"height\": 100, \"title\": \"UNREADABLE\", \"width\": 600, \"$schema\": \"https://vega.github.io/schema/vega-lite/v5.8.0.json\", \"datasets\": {\"data-6dfcc2d045bece6fe69863e2539333af\": [{\"key\": \"bakeries\", \"lat\": 47.66887}, {\"key\": \"bakeries\", \"lat\": 47.6617813110352}, {\"key\": \"bakeries\", \"lat\": 47.65998}, {\"key\": \"bakeries\", \"lat\": 47.6633732020855}, {\"key\": \"bakeries\", \"lat\": 47.6582099}, {\"key\": \"bakeries\", \"lat\": 47.66105}, {\"key\": \"indian\", \"lat\": 47.669083}, {\"key\": \"indian\", \"lat\": 47.6647397425756}, {\"key\": \"indian\", \"lat\": 47.65898}, {\"key\": \"indian\", \"lat\": 47.6641}, {\"key\": \"indian\", \"lat\": 47.6587699}, {\"key\": \"indian\", \"lat\": 47.6623521}, {\"key\": \"hawaiian\", \"lat\": 47.664349}, {\"key\": \"hawaiian\", \"lat\": 47.6627388}, {\"key\": \"hawaiian\", \"lat\": 47.66359}, {\"key\": \"korean\", \"lat\": 47.658201}, {\"key\": \"korean\", \"lat\": 47.664349}, {\"key\": \"korean\", \"lat\": 47.65714}, {\"key\": \"korean\", \"lat\": 47.66671}, {\"key\": \"korean\", \"lat\": 47.65847}, {\"key\": \"korean\", \"lat\": 47.667652}, {\"key\": \"korean\", \"lat\": 47.66208}, {\"key\": \"korean\", \"lat\": 47.6577399}, {\"key\": \"korean\", \"lat\": 47.6571884155273}, {\"key\": \"korean\", \"lat\": 47.6577399}, {\"key\": \"burgers\", \"lat\": 47.6616432}, {\"key\": \"burgers\", \"lat\": 47.659244}, {\"key\": \"burgers\", \"lat\": 47.66464}, {\"key\": \"burgers\", \"lat\": 47.6616201}, {\"key\": \"burgers\", \"lat\": 47.66171}, {\"key\": \"burgers\", \"lat\": 47.6582099}, {\"key\": \"burgers\", \"lat\": 47.6614373897426}, {\"key\": \"burgers\", \"lat\": 47.66476}, {\"key\": \"burgers\", \"lat\": 47.655889079095}, {\"key\": \"bubbletea\", \"lat\": 47.661484}, {\"key\": \"bubbletea\", \"lat\": 47.664773}, {\"key\": \"bubbletea\", \"lat\": 47.6638174140586}, {\"key\": \"bubbletea\", \"lat\": 47.6628435}, {\"key\": \"bubbletea\", \"lat\": 47.6608}, {\"key\": \"bubbletea\", \"lat\": 47.65714}, {\"key\": \"bubbletea\", \"lat\": 47.664073559291}, {\"key\": \"bubbletea\", \"lat\": 47.66325}, {\"key\": \"bubbletea\", \"lat\": 47.66105}, {\"key\": \"bubbletea\", \"lat\": 47.661621}, {\"key\": \"bubbletea\", \"lat\": 47.66325}, {\"key\": \"bubbletea\", \"lat\": 47.6568748203069}, {\"key\": \"seafood\", \"lat\": 47.66015}, {\"key\": \"seafood\", \"lat\": 47.66464}, {\"key\": \"seafood\", \"lat\": 47.6616432}, {\"key\": \"veg\", \"lat\": 47.66838}, {\"key\": \"veg\", \"lat\": 47.664773}, {\"key\": \"veg\", \"lat\": 47.6675671}, {\"key\": \"veg\", \"lat\": 47.6686016}, {\"key\": \"vietnamese\", \"lat\": 47.65822}, {\"key\": \"vietnamese\", \"lat\": 47.65919}, {\"key\": \"vietnamese\", \"lat\": 47.6581344604492}, {\"key\": \"vietnamese\", \"lat\": 47.6594222814143}, {\"key\": \"vietnamese\", \"lat\": 47.6577}, {\"key\": \"vietnamese\", \"lat\": 47.65547}, {\"key\": \"vietnamese\", \"lat\": 47.6584999}, {\"key\": \"vietnamese\", \"lat\": 47.65878}, {\"key\": \"latin\", \"lat\": 47.6647592219734}, {\"key\": \"latin\", \"lat\": 47.65714}, {\"key\": \"latin\", \"lat\": 47.6659099}, {\"key\": \"latin\", \"lat\": 47.65923}, {\"key\": \"latin\", \"lat\": 47.65161}, {\"key\": \"latin\", \"lat\": 47.6643199}, {\"key\": \"latin\", \"lat\": 47.6595391}, {\"key\": \"latin\", \"lat\": 47.6614673237322}, {\"key\": \"japanese\", \"lat\": 47.66671}, {\"key\": \"japanese\", \"lat\": 47.664349}, {\"key\": \"japanese\", \"lat\": 47.6617467}, {\"key\": \"japanese\", \"lat\": 47.6599989831448}, {\"key\": \"japanese\", \"lat\": 47.6580970623725}, {\"key\": \"japanese\", \"lat\": 47.6610565185547}, {\"key\": \"japanese\", \"lat\": 47.657078}, {\"key\": \"japanese\", \"lat\": 47.65964}, {\"key\": \"japanese\", \"lat\": 47.6667608320713}, {\"key\": \"japanese\", \"lat\": 47.65799}, {\"key\": \"japanese\", \"lat\": 47.66359}, {\"key\": \"japanese\", \"lat\": 47.6577399}, {\"key\": \"japanese\", \"lat\": 47.6571884155273}, {\"key\": \"japanese\", \"lat\": 47.65902}, {\"key\": \"breakfast\", \"lat\": 47.6646650792784}, {\"key\": \"breakfast\", \"lat\": 47.6597958}, {\"key\": \"breakfast\", \"lat\": 47.657772}, {\"key\": \"breakfast\", \"lat\": 47.66295}, {\"key\": \"breakfast\", \"lat\": 47.65651}, {\"key\": \"breakfast\", \"lat\": 47.65851}, {\"key\": \"breakfast\", \"lat\": 47.6595172}, {\"key\": \"breakfast\", \"lat\": 47.6565299}, {\"key\": \"thai\", \"lat\": 47.66679}, {\"key\": \"thai\", \"lat\": 47.6581344604492}, {\"key\": \"thai\", \"lat\": 47.6675671}, {\"key\": \"thai\", \"lat\": 47.662455}, {\"key\": \"thai\", \"lat\": 47.6588020473719}, {\"key\": \"thai\", \"lat\": 47.6642113}, {\"key\": \"thai\", \"lat\": 47.65928}, {\"key\": \"thai\", \"lat\": 47.6587699}, {\"key\": \"thai\", \"lat\": 47.65547}, {\"key\": \"american\", \"lat\": 47.6680599}, {\"key\": \"american\", \"lat\": 47.657772}, {\"key\": \"american\", \"lat\": 47.6616432}, {\"key\": \"american\", \"lat\": 47.65651}, {\"key\": \"american\", \"lat\": 47.6616201}, {\"key\": \"american\", \"lat\": 47.6608123779297}, {\"key\": \"chinese\", \"lat\": 47.6651010477427}, {\"key\": \"chinese\", \"lat\": 47.66815}, {\"key\": \"chinese\", \"lat\": 47.6581344604492}, {\"key\": \"chinese\", \"lat\": 47.66144}, {\"key\": \"chinese\", \"lat\": 47.66389}, {\"key\": \"chinese\", \"lat\": 47.66236}, {\"key\": \"chinese\", \"lat\": 47.65714}, {\"key\": \"chinese\", \"lat\": 47.66105}, {\"key\": \"chinese\", \"lat\": 47.6568856156391}, {\"key\": \"chinese\", \"lat\": 47.662628}, {\"key\": \"chinese\", \"lat\": 47.6594399}, {\"key\": \"chinese\", \"lat\": 47.66174}, {\"key\": \"chinese\", \"lat\": 47.6571884155273}, {\"key\": \"chinese\", \"lat\": 47.6643}, {\"key\": \"mideastern\", \"lat\": 47.66244}, {\"key\": \"mideastern\", \"lat\": 47.66093}, {\"key\": \"mideastern\", \"lat\": 47.65805}, {\"key\": \"mideastern\", \"lat\": 47.65991}, {\"key\": \"mideastern\", \"lat\": 47.6590045}, {\"key\": \"mideastern\", \"lat\": 47.6647397425756}, {\"key\": \"mideastern\", \"lat\": 47.6691895}, {\"key\": \"mideastern\", \"lat\": 47.6587699}, {\"key\": \"mideastern\", \"lat\": 47.6623521}, {\"key\": \"mideastern\", \"lat\": 47.66295}, {\"key\": \"mideastern\", \"lat\": 47.65867}, {\"key\": \"mideastern\", \"lat\": 47.6679654176159}, {\"key\": \"pizza\", \"lat\": 47.65847}, {\"key\": \"pizza\", \"lat\": 47.662201}, {\"key\": \"pizza\", \"lat\": 47.6686016}, {\"key\": \"pizza\", \"lat\": 47.66671}, {\"key\": \"pizza\", \"lat\": 47.65784}, {\"key\": \"pizza\", \"lat\": 47.66729}, {\"key\": \"pizza\", \"lat\": 47.667652}, {\"key\": \"pizza\", \"lat\": 47.658947}, {\"key\": \"pizza\", \"lat\": 47.6558651}, {\"key\": \"drinks\", \"lat\": 47.6680599}, {\"key\": \"drinks\", \"lat\": 47.6617813110352}, {\"key\": \"drinks\", \"lat\": 47.66479}, {\"key\": \"drinks\", \"lat\": 47.65553}, {\"key\": \"drinks\", \"lat\": 47.65784}, {\"key\": \"drinks\", \"lat\": 47.65735}, {\"key\": \"drinks\", \"lat\": 47.6614427887238}, {\"key\": \"drinks\", \"lat\": 47.6614373897426}, {\"key\": \"drinks\", \"lat\": 47.6608123779297}, {\"key\": \"drinks\", \"lat\": 47.658947}, {\"key\": \"drinks\", \"lat\": 47.66171}, {\"key\": \"drinks\", \"lat\": 47.667652}, {\"key\": \"coffee\", \"lat\": 47.6597958}, {\"key\": \"coffee\", \"lat\": 47.6620911}, {\"key\": \"coffee\", \"lat\": 47.6698722839355}, {\"key\": \"coffee\", \"lat\": 47.6646650792784}, {\"key\": \"coffee\", \"lat\": 47.6617813110352}, {\"key\": \"coffee\", \"lat\": 47.657406}, {\"key\": \"coffee\", \"lat\": 47.6587736}, {\"key\": \"coffee\", \"lat\": 47.6638174140586}, {\"key\": \"coffee\", \"lat\": 47.66148}, {\"key\": \"coffee\", \"lat\": 47.66114}, {\"key\": \"coffee\", \"lat\": 47.661484}, {\"key\": \"coffee\", \"lat\": 47.66325}, {\"key\": \"coffee\", \"lat\": 47.658561989665}, {\"key\": \"coffee\", \"lat\": 47.664073559291}, {\"key\": \"coffee\", \"lat\": 47.65998}, {\"key\": \"coffee\", \"lat\": 47.6633732020855}, {\"key\": \"coffee\", \"lat\": 47.6610565185547}, {\"key\": \"coffee\", \"lat\": 47.66003}, {\"key\": \"coffee\", \"lat\": 47.65851}, {\"key\": \"coffee\", \"lat\": 47.6628435}, {\"key\": \"coffee\", \"lat\": 47.6533553}, {\"key\": \"coffee\", \"lat\": 47.6553802192211}, {\"key\": \"coffee\", \"lat\": 47.6595772057772}, {\"key\": \"coffee\", \"lat\": 47.65818}, {\"key\": \"coffee\", \"lat\": 47.6546670937183}, {\"key\": \"coffee\", \"lat\": 47.661621}, {\"key\": \"coffee\", \"lat\": 47.66279}, {\"key\": \"coffee\", \"lat\": 47.6563760338137}, {\"key\": \"coffee\", \"lat\": 47.6568332490467}]}}, {\"mode\": \"vega-lite\"});\n",
       "</script>"
      ],
      "text/plain": [
       "alt.Chart(...)"
      ]
     },
     "execution_count": 35,
     "metadata": {},
     "output_type": "execute_result"
    }
   ],
   "source": [
    "alt.Chart(d).mark_tick(height=50).encode(\n",
    "    x=alt.X(\"lat:Q\", scale=alt.Scale(domain=[d[\"lat\"].min() - 1e-3, d[\"lat\"].max() + 1e-3])),\n",
    "    color=alt.Color('key')\n",
    ").properties(\n",
    "    width=600,\n",
    "    height=100,\n",
    "    title='UNREADABLE'\n",
    ")"
   ]
  },
  {
   "cell_type": "code",
   "execution_count": 38,
   "metadata": {},
   "outputs": [
    {
     "name": "stderr",
     "output_type": "stream",
     "text": [
      "/opt/anaconda3/lib/python3.12/site-packages/altair/utils/core.py:395: FutureWarning: the convert_dtype parameter is deprecated and will be removed in a future version.  Do ``ser.astype(object).apply()`` instead if you want ``convert_dtype=False``.\n",
      "  col = df[col_name].apply(to_list_if_array, convert_dtype=False)\n"
     ]
    },
    {
     "data": {
      "text/html": [
       "\n",
       "<style>\n",
       "  #altair-viz-a2f6b672f4b6409087b347fc3d9d6627.vega-embed {\n",
       "    width: 100%;\n",
       "    display: flex;\n",
       "  }\n",
       "\n",
       "  #altair-viz-a2f6b672f4b6409087b347fc3d9d6627.vega-embed details,\n",
       "  #altair-viz-a2f6b672f4b6409087b347fc3d9d6627.vega-embed details summary {\n",
       "    position: relative;\n",
       "  }\n",
       "</style>\n",
       "<div id=\"altair-viz-a2f6b672f4b6409087b347fc3d9d6627\"></div>\n",
       "<script type=\"text/javascript\">\n",
       "  var VEGA_DEBUG = (typeof VEGA_DEBUG == \"undefined\") ? {} : VEGA_DEBUG;\n",
       "  (function(spec, embedOpt){\n",
       "    let outputDiv = document.currentScript.previousElementSibling;\n",
       "    if (outputDiv.id !== \"altair-viz-a2f6b672f4b6409087b347fc3d9d6627\") {\n",
       "      outputDiv = document.getElementById(\"altair-viz-a2f6b672f4b6409087b347fc3d9d6627\");\n",
       "    }\n",
       "    const paths = {\n",
       "      \"vega\": \"https://cdn.jsdelivr.net/npm/vega@5?noext\",\n",
       "      \"vega-lib\": \"https://cdn.jsdelivr.net/npm/vega-lib?noext\",\n",
       "      \"vega-lite\": \"https://cdn.jsdelivr.net/npm/vega-lite@5.8.0?noext\",\n",
       "      \"vega-embed\": \"https://cdn.jsdelivr.net/npm/vega-embed@6?noext\",\n",
       "    };\n",
       "\n",
       "    function maybeLoadScript(lib, version) {\n",
       "      var key = `${lib.replace(\"-\", \"\")}_version`;\n",
       "      return (VEGA_DEBUG[key] == version) ?\n",
       "        Promise.resolve(paths[lib]) :\n",
       "        new Promise(function(resolve, reject) {\n",
       "          var s = document.createElement('script');\n",
       "          document.getElementsByTagName(\"head\")[0].appendChild(s);\n",
       "          s.async = true;\n",
       "          s.onload = () => {\n",
       "            VEGA_DEBUG[key] = version;\n",
       "            return resolve(paths[lib]);\n",
       "          };\n",
       "          s.onerror = () => reject(`Error loading script: ${paths[lib]}`);\n",
       "          s.src = paths[lib];\n",
       "        });\n",
       "    }\n",
       "\n",
       "    function showError(err) {\n",
       "      outputDiv.innerHTML = `<div class=\"error\" style=\"color:red;\">${err}</div>`;\n",
       "      throw err;\n",
       "    }\n",
       "\n",
       "    function displayChart(vegaEmbed) {\n",
       "      vegaEmbed(outputDiv, spec, embedOpt)\n",
       "        .catch(err => showError(`Javascript Error: ${err.message}<br>This usually means there's a typo in your chart specification. See the javascript console for the full traceback.`));\n",
       "    }\n",
       "\n",
       "    if(typeof define === \"function\" && define.amd) {\n",
       "      requirejs.config({paths});\n",
       "      require([\"vega-embed\"], displayChart, err => showError(`Error loading script: ${err.message}`));\n",
       "    } else {\n",
       "      maybeLoadScript(\"vega\", \"5\")\n",
       "        .then(() => maybeLoadScript(\"vega-lite\", \"5.8.0\"))\n",
       "        .then(() => maybeLoadScript(\"vega-embed\", \"6\"))\n",
       "        .catch(showError)\n",
       "        .then(() => displayChart(vegaEmbed));\n",
       "    }\n",
       "  })({\"config\": {\"view\": {\"continuousWidth\": 300, \"continuousHeight\": 300}}, \"data\": {\"name\": \"data-6dfcc2d045bece6fe69863e2539333af\"}, \"facet\": {\"field\": \"key\", \"type\": \"nominal\"}, \"spec\": {\"mark\": {\"type\": \"area\"}, \"encoding\": {\"x\": {\"field\": \"lat\", \"type\": \"quantitative\"}, \"y\": {\"field\": \"density\", \"type\": \"quantitative\"}}, \"height\": 100, \"transform\": [{\"density\": \"lat\", \"bandwidth\": 0.001, \"extent\": [47.64161, 47.679872283935495], \"groupby\": [\"key\"], \"as\": [\"lat\", \"density\"]}], \"width\": 200}, \"columns\": 5, \"$schema\": \"https://vega.github.io/schema/vega-lite/v5.8.0.json\", \"datasets\": {\"data-6dfcc2d045bece6fe69863e2539333af\": [{\"key\": \"bakeries\", \"lat\": 47.66887}, {\"key\": \"bakeries\", \"lat\": 47.6617813110352}, {\"key\": \"bakeries\", \"lat\": 47.65998}, {\"key\": \"bakeries\", \"lat\": 47.6633732020855}, {\"key\": \"bakeries\", \"lat\": 47.6582099}, {\"key\": \"bakeries\", \"lat\": 47.66105}, {\"key\": \"indian\", \"lat\": 47.669083}, {\"key\": \"indian\", \"lat\": 47.6647397425756}, {\"key\": \"indian\", \"lat\": 47.65898}, {\"key\": \"indian\", \"lat\": 47.6641}, {\"key\": \"indian\", \"lat\": 47.6587699}, {\"key\": \"indian\", \"lat\": 47.6623521}, {\"key\": \"hawaiian\", \"lat\": 47.664349}, {\"key\": \"hawaiian\", \"lat\": 47.6627388}, {\"key\": \"hawaiian\", \"lat\": 47.66359}, {\"key\": \"korean\", \"lat\": 47.658201}, {\"key\": \"korean\", \"lat\": 47.664349}, {\"key\": \"korean\", \"lat\": 47.65714}, {\"key\": \"korean\", \"lat\": 47.66671}, {\"key\": \"korean\", \"lat\": 47.65847}, {\"key\": \"korean\", \"lat\": 47.667652}, {\"key\": \"korean\", \"lat\": 47.66208}, {\"key\": \"korean\", \"lat\": 47.6577399}, {\"key\": \"korean\", \"lat\": 47.6571884155273}, {\"key\": \"korean\", \"lat\": 47.6577399}, {\"key\": \"burgers\", \"lat\": 47.6616432}, {\"key\": \"burgers\", \"lat\": 47.659244}, {\"key\": \"burgers\", \"lat\": 47.66464}, {\"key\": \"burgers\", \"lat\": 47.6616201}, {\"key\": \"burgers\", \"lat\": 47.66171}, {\"key\": \"burgers\", \"lat\": 47.6582099}, {\"key\": \"burgers\", \"lat\": 47.6614373897426}, {\"key\": \"burgers\", \"lat\": 47.66476}, {\"key\": \"burgers\", \"lat\": 47.655889079095}, {\"key\": \"bubbletea\", \"lat\": 47.661484}, {\"key\": \"bubbletea\", \"lat\": 47.664773}, {\"key\": \"bubbletea\", \"lat\": 47.6638174140586}, {\"key\": \"bubbletea\", \"lat\": 47.6628435}, {\"key\": \"bubbletea\", \"lat\": 47.6608}, {\"key\": \"bubbletea\", \"lat\": 47.65714}, {\"key\": \"bubbletea\", \"lat\": 47.664073559291}, {\"key\": \"bubbletea\", \"lat\": 47.66325}, {\"key\": \"bubbletea\", \"lat\": 47.66105}, {\"key\": \"bubbletea\", \"lat\": 47.661621}, {\"key\": \"bubbletea\", \"lat\": 47.66325}, {\"key\": \"bubbletea\", \"lat\": 47.6568748203069}, {\"key\": \"seafood\", \"lat\": 47.66015}, {\"key\": \"seafood\", \"lat\": 47.66464}, {\"key\": \"seafood\", \"lat\": 47.6616432}, {\"key\": \"veg\", \"lat\": 47.66838}, {\"key\": \"veg\", \"lat\": 47.664773}, {\"key\": \"veg\", \"lat\": 47.6675671}, {\"key\": \"veg\", \"lat\": 47.6686016}, {\"key\": \"vietnamese\", \"lat\": 47.65822}, {\"key\": \"vietnamese\", \"lat\": 47.65919}, {\"key\": \"vietnamese\", \"lat\": 47.6581344604492}, {\"key\": \"vietnamese\", \"lat\": 47.6594222814143}, {\"key\": \"vietnamese\", \"lat\": 47.6577}, {\"key\": \"vietnamese\", \"lat\": 47.65547}, {\"key\": \"vietnamese\", \"lat\": 47.6584999}, {\"key\": \"vietnamese\", \"lat\": 47.65878}, {\"key\": \"latin\", \"lat\": 47.6647592219734}, {\"key\": \"latin\", \"lat\": 47.65714}, {\"key\": \"latin\", \"lat\": 47.6659099}, {\"key\": \"latin\", \"lat\": 47.65923}, {\"key\": \"latin\", \"lat\": 47.65161}, {\"key\": \"latin\", \"lat\": 47.6643199}, {\"key\": \"latin\", \"lat\": 47.6595391}, {\"key\": \"latin\", \"lat\": 47.6614673237322}, {\"key\": \"japanese\", \"lat\": 47.66671}, {\"key\": \"japanese\", \"lat\": 47.664349}, {\"key\": \"japanese\", \"lat\": 47.6617467}, {\"key\": \"japanese\", \"lat\": 47.6599989831448}, {\"key\": \"japanese\", \"lat\": 47.6580970623725}, {\"key\": \"japanese\", \"lat\": 47.6610565185547}, {\"key\": \"japanese\", \"lat\": 47.657078}, {\"key\": \"japanese\", \"lat\": 47.65964}, {\"key\": \"japanese\", \"lat\": 47.6667608320713}, {\"key\": \"japanese\", \"lat\": 47.65799}, {\"key\": \"japanese\", \"lat\": 47.66359}, {\"key\": \"japanese\", \"lat\": 47.6577399}, {\"key\": \"japanese\", \"lat\": 47.6571884155273}, {\"key\": \"japanese\", \"lat\": 47.65902}, {\"key\": \"breakfast\", \"lat\": 47.6646650792784}, {\"key\": \"breakfast\", \"lat\": 47.6597958}, {\"key\": \"breakfast\", \"lat\": 47.657772}, {\"key\": \"breakfast\", \"lat\": 47.66295}, {\"key\": \"breakfast\", \"lat\": 47.65651}, {\"key\": \"breakfast\", \"lat\": 47.65851}, {\"key\": \"breakfast\", \"lat\": 47.6595172}, {\"key\": \"breakfast\", \"lat\": 47.6565299}, {\"key\": \"thai\", \"lat\": 47.66679}, {\"key\": \"thai\", \"lat\": 47.6581344604492}, {\"key\": \"thai\", \"lat\": 47.6675671}, {\"key\": \"thai\", \"lat\": 47.662455}, {\"key\": \"thai\", \"lat\": 47.6588020473719}, {\"key\": \"thai\", \"lat\": 47.6642113}, {\"key\": \"thai\", \"lat\": 47.65928}, {\"key\": \"thai\", \"lat\": 47.6587699}, {\"key\": \"thai\", \"lat\": 47.65547}, {\"key\": \"american\", \"lat\": 47.6680599}, {\"key\": \"american\", \"lat\": 47.657772}, {\"key\": \"american\", \"lat\": 47.6616432}, {\"key\": \"american\", \"lat\": 47.65651}, {\"key\": \"american\", \"lat\": 47.6616201}, {\"key\": \"american\", \"lat\": 47.6608123779297}, {\"key\": \"chinese\", \"lat\": 47.6651010477427}, {\"key\": \"chinese\", \"lat\": 47.66815}, {\"key\": \"chinese\", \"lat\": 47.6581344604492}, {\"key\": \"chinese\", \"lat\": 47.66144}, {\"key\": \"chinese\", \"lat\": 47.66389}, {\"key\": \"chinese\", \"lat\": 47.66236}, {\"key\": \"chinese\", \"lat\": 47.65714}, {\"key\": \"chinese\", \"lat\": 47.66105}, {\"key\": \"chinese\", \"lat\": 47.6568856156391}, {\"key\": \"chinese\", \"lat\": 47.662628}, {\"key\": \"chinese\", \"lat\": 47.6594399}, {\"key\": \"chinese\", \"lat\": 47.66174}, {\"key\": \"chinese\", \"lat\": 47.6571884155273}, {\"key\": \"chinese\", \"lat\": 47.6643}, {\"key\": \"mideastern\", \"lat\": 47.66244}, {\"key\": \"mideastern\", \"lat\": 47.66093}, {\"key\": \"mideastern\", \"lat\": 47.65805}, {\"key\": \"mideastern\", \"lat\": 47.65991}, {\"key\": \"mideastern\", \"lat\": 47.6590045}, {\"key\": \"mideastern\", \"lat\": 47.6647397425756}, {\"key\": \"mideastern\", \"lat\": 47.6691895}, {\"key\": \"mideastern\", \"lat\": 47.6587699}, {\"key\": \"mideastern\", \"lat\": 47.6623521}, {\"key\": \"mideastern\", \"lat\": 47.66295}, {\"key\": \"mideastern\", \"lat\": 47.65867}, {\"key\": \"mideastern\", \"lat\": 47.6679654176159}, {\"key\": \"pizza\", \"lat\": 47.65847}, {\"key\": \"pizza\", \"lat\": 47.662201}, {\"key\": \"pizza\", \"lat\": 47.6686016}, {\"key\": \"pizza\", \"lat\": 47.66671}, {\"key\": \"pizza\", \"lat\": 47.65784}, {\"key\": \"pizza\", \"lat\": 47.66729}, {\"key\": \"pizza\", \"lat\": 47.667652}, {\"key\": \"pizza\", \"lat\": 47.658947}, {\"key\": \"pizza\", \"lat\": 47.6558651}, {\"key\": \"drinks\", \"lat\": 47.6680599}, {\"key\": \"drinks\", \"lat\": 47.6617813110352}, {\"key\": \"drinks\", \"lat\": 47.66479}, {\"key\": \"drinks\", \"lat\": 47.65553}, {\"key\": \"drinks\", \"lat\": 47.65784}, {\"key\": \"drinks\", \"lat\": 47.65735}, {\"key\": \"drinks\", \"lat\": 47.6614427887238}, {\"key\": \"drinks\", \"lat\": 47.6614373897426}, {\"key\": \"drinks\", \"lat\": 47.6608123779297}, {\"key\": \"drinks\", \"lat\": 47.658947}, {\"key\": \"drinks\", \"lat\": 47.66171}, {\"key\": \"drinks\", \"lat\": 47.667652}, {\"key\": \"coffee\", \"lat\": 47.6597958}, {\"key\": \"coffee\", \"lat\": 47.6620911}, {\"key\": \"coffee\", \"lat\": 47.6698722839355}, {\"key\": \"coffee\", \"lat\": 47.6646650792784}, {\"key\": \"coffee\", \"lat\": 47.6617813110352}, {\"key\": \"coffee\", \"lat\": 47.657406}, {\"key\": \"coffee\", \"lat\": 47.6587736}, {\"key\": \"coffee\", \"lat\": 47.6638174140586}, {\"key\": \"coffee\", \"lat\": 47.66148}, {\"key\": \"coffee\", \"lat\": 47.66114}, {\"key\": \"coffee\", \"lat\": 47.661484}, {\"key\": \"coffee\", \"lat\": 47.66325}, {\"key\": \"coffee\", \"lat\": 47.658561989665}, {\"key\": \"coffee\", \"lat\": 47.664073559291}, {\"key\": \"coffee\", \"lat\": 47.65998}, {\"key\": \"coffee\", \"lat\": 47.6633732020855}, {\"key\": \"coffee\", \"lat\": 47.6610565185547}, {\"key\": \"coffee\", \"lat\": 47.66003}, {\"key\": \"coffee\", \"lat\": 47.65851}, {\"key\": \"coffee\", \"lat\": 47.6628435}, {\"key\": \"coffee\", \"lat\": 47.6533553}, {\"key\": \"coffee\", \"lat\": 47.6553802192211}, {\"key\": \"coffee\", \"lat\": 47.6595772057772}, {\"key\": \"coffee\", \"lat\": 47.65818}, {\"key\": \"coffee\", \"lat\": 47.6546670937183}, {\"key\": \"coffee\", \"lat\": 47.661621}, {\"key\": \"coffee\", \"lat\": 47.66279}, {\"key\": \"coffee\", \"lat\": 47.6563760338137}, {\"key\": \"coffee\", \"lat\": 47.6568332490467}]}}, {\"mode\": \"vega-lite\"});\n",
       "</script>"
      ],
      "text/plain": [
       "alt.FacetChart(...)"
      ]
     },
     "execution_count": 38,
     "metadata": {},
     "output_type": "execute_result"
    }
   ],
   "source": [
    "alt.Chart(d).transform_density(\n",
    "    'lat',\n",
    "    as_=['lat', 'density'],\n",
    "    groupby=['key'],\n",
    "    bandwidth=1e-3,\n",
    "    extent=[d[\"lat\"].min() - 1e-2, d[\"lat\"].max() + 1e-2],\n",
    ").mark_area().encode(\n",
    "    x=\"lat:Q\",\n",
    "    y='density:Q',\n",
    ").properties(\n",
    "    width=200,\n",
    "    height=100,\n",
    ").facet(\n",
    "    'key:N',\n",
    "    columns=5\n",
    ")"
   ]
  },
  {
   "cell_type": "markdown",
   "metadata": {},
   "source": [
    "Questions:\n",
    "\n",
    "- Are there certain types of restaurants that are very concentrated?\n",
    "\n",
    "Hawaiian, Vietnamese, and vegetarian restaurants have very high concentrations (we think hawaiian is such because there are very few hawaiian restaurants (only 3)). \n",
    "\n",
    "- Are there overarching types of food that have correlations with each other (like all asian restaurants, beverages, etc)?\n",
    "\n",
    "Japanese and Middle Eastern have very similar shapes and distributions. Breakfast and bakeries are also very similar, but seem inversely correlated with bubble tea places. However, overall, there is not a trend with overarching types, it seems."
   ]
  }
 ],
 "metadata": {
  "kernelspec": {
   "display_name": "base",
   "language": "python",
   "name": "python3"
  },
  "language_info": {
   "codemirror_mode": {
    "name": "ipython",
    "version": 3
   },
   "file_extension": ".py",
   "mimetype": "text/x-python",
   "name": "python",
   "nbconvert_exporter": "python",
   "pygments_lexer": "ipython3",
   "version": "3.12.4"
  }
 },
 "nbformat": 4,
 "nbformat_minor": 2
}
