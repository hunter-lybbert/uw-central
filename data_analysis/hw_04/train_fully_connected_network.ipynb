{
 "cells": [
  {
   "cell_type": "code",
   "execution_count": 1,
   "metadata": {
    "id": "p5dL4YeVorzV"
   },
   "outputs": [],
   "source": [
    "from typing import Any\n",
    "from tqdm import tqdm\n",
    "\n",
    "import torch\n",
    "from torch import nn\n",
    "from torch.nn import functional as F\n",
    "from torch.utils.data import DataLoader, Subset\n",
    "import torchvision\n",
    "\n",
    "import numpy as np\n",
    "import matplotlib.pyplot as plt\n",
    "from sklearn.model_selection import train_test_split"
   ]
  },
  {
   "cell_type": "code",
   "execution_count": 2,
   "metadata": {},
   "outputs": [
    {
     "data": {
      "text/plain": [
       "(True, False)"
      ]
     },
     "execution_count": 2,
     "metadata": {},
     "output_type": "execute_result"
    }
   ],
   "source": [
    "torch.backends.mps.is_available(), torch.cuda.is_available()"
   ]
  },
  {
   "cell_type": "code",
   "execution_count": 3,
   "metadata": {
    "id": "feGo1EKE4sRg"
   },
   "outputs": [],
   "source": [
    "DATA_DIR = 'data/'\n",
    "\n",
    "# Use the following code to load and normalize the dataset for training and testing\n",
    "# It will downlad the dataset into data subfolder (change to your data folder name)\n",
    "\n",
    "magic_number_1 = 0.1307\n",
    "magic_number_2 = 0.3081\n",
    "\n",
    "transform_for_data = torchvision.transforms.Compose(\n",
    "    [\n",
    "        torchvision.transforms.ToTensor(),\n",
    "        torchvision.transforms.Normalize(\n",
    "            (magic_number_1,),\n",
    "            (magic_number_2,)\n",
    "        )\n",
    "    ]\n",
    ")\n",
    "\n",
    "train_dataset = torchvision.datasets.FashionMNIST(\n",
    "    DATA_DIR,\n",
    "    train=True,\n",
    "    download=True,\n",
    "    transform=transform_for_data,\n",
    ")\n",
    "\n",
    "test_dataset = torchvision.datasets.FashionMNIST(\n",
    "    DATA_DIR,\n",
    "    train=False,\n",
    "    download=True,\n",
    "    transform=transform_for_data,\n",
    ")"
   ]
  },
  {
   "cell_type": "code",
   "execution_count": 4,
   "metadata": {},
   "outputs": [],
   "source": [
    "# Use the following code to create a validation set of 10%\n",
    "split_size = 0.1\n",
    "\n",
    "train_indices, val_indices, _, _ = train_test_split(\n",
    "    range(len(train_dataset)),\n",
    "    train_dataset.targets,\n",
    "    stratify=train_dataset.targets,\n",
    "    test_size=split_size,\n",
    ")"
   ]
  },
  {
   "cell_type": "code",
   "execution_count": 5,
   "metadata": {},
   "outputs": [
    {
     "name": "stdout",
     "output_type": "stream",
     "text": [
      "106\n",
      "12\n",
      "40\n"
     ]
    }
   ],
   "source": [
    "# Generate training and validation subsets based on indices\n",
    "train_split = Subset(train_dataset, train_indices)\n",
    "val_split = Subset(train_dataset, val_indices)\n",
    "\n",
    "# set batches sizes\n",
    "train_batch_size = 512 #Define train batch size\n",
    "test_batch_size  = 256 #Define test batch size (can be larger than train batch size)\n",
    "\n",
    "# Define dataloader objects that help to iterate over batches and samples for\n",
    "# training, validation and testing\n",
    "train_batches = DataLoader(train_split, batch_size=train_batch_size, shuffle=True)\n",
    "val_batches = DataLoader(val_split, batch_size=train_batch_size, shuffle=True)\n",
    "test_batches = DataLoader(test_dataset, batch_size=test_batch_size, shuffle=True)\n",
    "                                           \n",
    "num_train_batches=len(train_batches)\n",
    "num_val_batches=len(val_batches)\n",
    "num_test_batches=len(test_batches)\n",
    "\n",
    "print(num_train_batches)\n",
    "print(num_val_batches)\n",
    "print(num_test_batches)"
   ]
  },
  {
   "cell_type": "code",
   "execution_count": 6,
   "metadata": {},
   "outputs": [
    {
     "name": "stdout",
     "output_type": "stream",
     "text": [
      "0 0\n",
      "1 1\n",
      "2 2\n"
     ]
    }
   ],
   "source": [
    "for i, j in zip(range(3), range(4)):\n",
    "    print(i, j)"
   ]
  },
  {
   "cell_type": "code",
   "execution_count": 7,
   "metadata": {
    "id": "HrvoPg1f7Gxu"
   },
   "outputs": [],
   "source": [
    "#Define your (As Cool As It Gets) Fully Connected Neural Network \n",
    "class ACAIGFCN(nn.Module):\n",
    "    #Initialize model layers, add additional arguments to adjust\n",
    "    def __init__(self, input_dim: int, output_dim: int, hidden_layer_dims: list[int], activation_function: callable = F.relu, dropout: list[float] = [0.5]): \n",
    "        super(ACAIGFCN, self).__init__()\n",
    "\n",
    "        #Define the network layer(s) and activation function(s)\n",
    "        if not hidden_layer_dims:\n",
    "            raise ValueError(f\"No middle layers provided, expected at least one.\")\n",
    "        \n",
    "        if len(dropout) > len(hidden_layer_dims):\n",
    "            raise ValueError(f\"Expected less dropout layers than hidden layers, got {len(dropout)} dropout layers and {len(hidden_layer_dims)} hidden layers.\")\n",
    "        \n",
    "        self.dropout_rates = dropout\n",
    "        \n",
    "        layers = []\n",
    "        prev_dim = input_dim\n",
    "        for dim in hidden_layer_dims:\n",
    "            layers.append(nn.Linear(prev_dim, dim))\n",
    "            prev_dim = dim\n",
    "\n",
    "        layers.append(nn.Linear(prev_dim, output_dim))\n",
    "\n",
    "        self.layers = nn.ModuleList(layers)\n",
    "\n",
    "        if self.dropout_rates:\n",
    "            self.dropout_layers = nn.ModuleList([nn.Dropout(p) for p in dropout])\n",
    "\n",
    "        self.activation_function = activation_function\n",
    " \n",
    "    def forward(self, x):\n",
    "        #Define how your model propagates the input through the network\n",
    "        num_droput_layers = len(self.dropout_rates)\n",
    "        for j, layer in enumerate(self.layers[:-1]):\n",
    "            x = self.activation_function(layer(x))\n",
    "            if j < num_droput_layers - 1:\n",
    "                x = self.dropout_layers[j](x)  # This is the drop out layer\n",
    "        \n",
    "        final_layer = self.layers[-1]\n",
    "        return final_layer(x)"
   ]
  },
  {
   "cell_type": "code",
   "execution_count": 8,
   "metadata": {},
   "outputs": [],
   "source": [
    "def custom_accuracy_metric(y_hat, y_truth):\n",
    "    return (torch.argmax(y_hat, dim=1) == y_truth).type(torch.FloatTensor).mean()"
   ]
  },
  {
   "cell_type": "code",
   "execution_count": 9,
   "metadata": {},
   "outputs": [],
   "source": [
    "FASHION_MNIST_INPUT_DIM = 784\n",
    "FASHION_MNIST_OUTPUT_DIM = 10\n",
    "\n",
    "\n",
    "class ModelTrainingArtifact():\n",
    "    def __init__(\n",
    "        self,\n",
    "        optimizer: torch.optim.Optimizer,\n",
    "        objective: nn.Module,\n",
    "        num_epochs: int,\n",
    "        hidden_layer_dims: list[int],\n",
    "        dropout_rate_layers: list[float],\n",
    "        activation_function: callable,\n",
    "        optimizer_hyperparams: dict[str, Any],\n",
    "        accuracy_metric: callable = custom_accuracy_metric,\n",
    "        train_batches: DataLoader = train_batches,\n",
    "        val_batches: DataLoader = val_batches,\n",
    "        test_batches: DataLoader = test_batches,\n",
    "    ):\n",
    "        \"\"\"\"\"\"\n",
    "        self.model = ACAIGFCN(\n",
    "            input_dim=FASHION_MNIST_INPUT_DIM,\n",
    "            output_dim=FASHION_MNIST_OUTPUT_DIM,\n",
    "            hidden_layer_dims=hidden_layer_dims,\n",
    "            activation_function=activation_function,\n",
    "            dropout=dropout_rate_layers,\n",
    "        )\n",
    "        self.optimizer = optimizer(self.model.parameters(), **optimizer_hyperparams)\n",
    "        self.objective = objective\n",
    "        self.train_batches = train_batches\n",
    "        self.val_batches = val_batches\n",
    "        self.test_batches = test_batches\n",
    "        self.num_epochs = num_epochs\n",
    "        self.accuracy_metric: callable = accuracy_metric\n",
    "\n",
    "    def train(self):\n",
    "        \"\"\"\"\"\"\n",
    "        self.train_loss = []\n",
    "        self.validation_loss = []\n",
    "        self.train_accuracy = []\n",
    "        self.validation_accuracy = []\n",
    "\n",
    "        loop = tqdm(total=len(train_batches) * self.num_epochs, position=0)\n",
    "\n",
    "        # Iterate over epochs, batches with progress bar and train+ validate the ACAIGFCN\n",
    "        # Track the loss and validation accuracy\n",
    "        for epoch in range(self.num_epochs):\n",
    "\n",
    "            # ACAIGFCN Training \n",
    "            for train_features, train_labels in self.train_batches:\n",
    "                # Set model into training mode\n",
    "                self.model.train()\n",
    "                \n",
    "                # Reshape images into a vector\n",
    "                train_features = train_features.reshape(-1, 28*28)\n",
    "\n",
    "                self.optimizer.zero_grad()\n",
    "\n",
    "                y_hat = self.model(train_features)\n",
    "                loss = self.objective(y_hat, train_labels)\n",
    "\n",
    "                loss.backward()\n",
    "                self.optimizer.step()\n",
    "                \n",
    "                # loop.set_description(f\"Epoch {epoch+1}/{epochs}\")\n",
    "                # loop.update(1)\n",
    "\n",
    "                # Reset gradients, Calculate training loss on model \n",
    "                # Perfrom optimization, back propagation\n",
    "                train_accuracy = self.accuracy_metric(y_hat, train_labels)\n",
    "                self.train_accuracy.append(train_accuracy)\n",
    "        \n",
    "                # Record loss for the epoch\n",
    "                self.train_loss.append(loss.item())\n",
    "\n",
    "                loop.set_description('epoch:{} train loss:{:.4f} train accuracy:{:.4f}'.format(epoch, self.train_loss[-1], train_accuracy))\n",
    "                loop.update(1)\n",
    "\n",
    "            current_val_acc = []\n",
    "            current_val_loss = []\n",
    "            \n",
    "            # ACAIGFCN Validation\n",
    "            for val_features, val_labels in self.val_batches:\n",
    "                \n",
    "                # Telling PyTorch we aren't passing inputs to network for training purpose\n",
    "                with torch.no_grad(): \n",
    "                    self.model.eval()\n",
    "                    \n",
    "                    # Reshape validation images into a vector\n",
    "                    val_features = val_features.reshape(-1, 28*28)\n",
    "\n",
    "                    y_hat = self.model(val_features)\n",
    "                    val_loss = self.objective(y_hat, val_labels)\n",
    "                \n",
    "                    # Compute validation outputs (targets) \n",
    "                    # and compute accuracy\n",
    "                    val_accuracy = self.accuracy_metric(y_hat, val_labels)\n",
    "                    current_val_acc.append(val_accuracy)\n",
    "                    current_val_loss.append(val_loss.item())\n",
    "\n",
    "            self.validation_accuracy.append((len(self.train_accuracy), np.mean(current_val_acc)))\n",
    "            self.validation_loss.append((len(self.train_loss), np.mean(current_val_loss)))\n",
    "\n",
    "        loop.close()\n",
    "\n",
    "    def test(self):\n",
    "        \"\"\"\"\"\"\n",
    "        test_acc = []\n",
    "        # Telling PyTorch we aren't passing inputs to network for training purpose\n",
    "        with torch.no_grad():\n",
    "            \n",
    "            for test_features, test_labels in self.test_batches:\n",
    "\n",
    "                self.model.eval()\n",
    "                # Reshape test images into a vector\n",
    "                test_features = test_features.reshape(-1, 28*28)\n",
    "\n",
    "                # Compute validation outputs (targets) \n",
    "                y_hat = self.model(test_features)\n",
    "                test_acc.append(self.accuracy_metric(y_hat, test_labels))\n",
    "                # and compute accuracy \n",
    "            \n",
    "            # Compute total (mean) accuracy\n",
    "            # Report total (mean) accuracy, can also compute std based on batches\n",
    "\n",
    "        self.mean_test_accuracy = np.mean(test_acc)\n",
    "        self.std_test_accuracy = np.std(test_acc)\n",
    "\n",
    "        print(f\"Mean Accuracy Across Each Batch of the test set: {self.mean_test_accuracy:.4f} ± {self.std_test_accuracy:.5f}\")"
   ]
  },
  {
   "cell_type": "code",
   "execution_count": 10,
   "metadata": {},
   "outputs": [
    {
     "name": "stderr",
     "output_type": "stream",
     "text": [
      "epoch:49 train loss:0.3148 train accuracy:0.8917: 100%|██████████| 5300/5300 [02:41<00:00, 32.87it/s]\n"
     ]
    },
    {
     "name": "stdout",
     "output_type": "stream",
     "text": [
      "Mean Accuracy Across Each Batch of the test set: 0.8602 ± 0.02462\n"
     ]
    }
   ],
   "source": [
    "model_with_sgd0 = ModelTrainingArtifact(\n",
    "    optimizer=torch.optim.SGD,\n",
    "    objective=nn.CrossEntropyLoss(),\n",
    "    num_epochs=50,\n",
    "    hidden_layer_dims=[1024, 256, 16],\n",
    "    activation_function=F.relu,\n",
    "    dropout_rate_layers=[],  # No dropout\n",
    "    optimizer_hyperparams={'lr': 0.001, 'momentum': 0.9},\n",
    ")\n",
    "model_with_sgd0.train()\n",
    "model_with_sgd0.test()"
   ]
  },
  {
   "cell_type": "code",
   "execution_count": 11,
   "metadata": {},
   "outputs": [
    {
     "name": "stderr",
     "output_type": "stream",
     "text": [
      "epoch:29 train loss:0.8957 train accuracy:0.6875: 100%|██████████| 3180/3180 [01:51<00:00, 28.55it/s]\n"
     ]
    },
    {
     "name": "stdout",
     "output_type": "stream",
     "text": [
      "Mean Accuracy Across Each Batch of the test set: 0.6424 ± 0.02920\n"
     ]
    }
   ],
   "source": [
    "model_with_sgd1 = ModelTrainingArtifact(\n",
    "    optimizer=torch.optim.SGD,\n",
    "    objective=nn.CrossEntropyLoss(),\n",
    "    num_epochs=30,\n",
    "    hidden_layer_dims=[1024, 512, 256, 128, 64, 32, 16],\n",
    "    activation_function=F.relu,\n",
    "    dropout_rate_layers=[],  # No dropout\n",
    "    optimizer_hyperparams={'lr': 0.01, 'momentum': 0.25},\n",
    ")\n",
    "model_with_sgd1.train()\n",
    "model_with_sgd1.test()"
   ]
  },
  {
   "cell_type": "code",
   "execution_count": 12,
   "metadata": {},
   "outputs": [
    {
     "name": "stderr",
     "output_type": "stream",
     "text": [
      "epoch:49 train loss:1.6089 train accuracy:0.2625: 100%|██████████| 5300/5300 [02:58<00:00, 29.68it/s]\n"
     ]
    },
    {
     "name": "stdout",
     "output_type": "stream",
     "text": [
      "Mean Accuracy Across Each Batch of the test set: 0.2745 ± 0.02905\n"
     ]
    }
   ],
   "source": [
    "model_with_sgd2 = ModelTrainingArtifact(\n",
    "    optimizer=torch.optim.SGD,\n",
    "    objective=nn.CrossEntropyLoss(),\n",
    "    num_epochs=50,\n",
    "    hidden_layer_dims=[1024, 512, 256, 128, 64, 32, 16],\n",
    "    activation_function=F.relu,\n",
    "    dropout_rate_layers=[],  # No dropout\n",
    "    optimizer_hyperparams={'lr': 0.003, 'momentum': 0.1},\n",
    ")\n",
    "model_with_sgd2.train()\n",
    "model_with_sgd2.test()"
   ]
  },
  {
   "cell_type": "code",
   "execution_count": 13,
   "metadata": {},
   "outputs": [
    {
     "name": "stderr",
     "output_type": "stream",
     "text": [
      "epoch:49 train loss:0.1005 train accuracy:0.9500: 100%|██████████| 5300/5300 [02:56<00:00, 30.08it/s]\n"
     ]
    },
    {
     "name": "stdout",
     "output_type": "stream",
     "text": [
      "Mean Accuracy Across Each Batch of the test set: 0.8904 ± 0.02078\n"
     ]
    }
   ],
   "source": [
    "model_with_sgd3 = ModelTrainingArtifact(\n",
    "    optimizer=torch.optim.Adam,\n",
    "    objective=nn.CrossEntropyLoss(),\n",
    "    num_epochs=50,\n",
    "    hidden_layer_dims=[1024, 512, 128, 32],\n",
    "    activation_function=F.relu,\n",
    "    dropout_rate_layers=[],  # No dropout\n",
    "    optimizer_hyperparams={'lr': 0.003, 'betas': (0.85, 0.9)},\n",
    ")\n",
    "model_with_sgd3.train()\n",
    "model_with_sgd3.test()"
   ]
  },
  {
   "cell_type": "code",
   "execution_count": 14,
   "metadata": {},
   "outputs": [
    {
     "name": "stderr",
     "output_type": "stream",
     "text": [
      "epoch:24 train loss:0.0941 train accuracy:0.9542: 100%|██████████| 2650/2650 [01:32<00:00, 28.71it/s]\n"
     ]
    },
    {
     "name": "stdout",
     "output_type": "stream",
     "text": [
      "Mean Accuracy Across Each Batch of the test set: 0.8900 ± 0.02149\n"
     ]
    }
   ],
   "source": [
    "model_with_sgd4 = ModelTrainingArtifact(\n",
    "    optimizer=torch.optim.Adam,\n",
    "    objective=nn.CrossEntropyLoss(),\n",
    "    num_epochs=25,\n",
    "    hidden_layer_dims=[1024, 512, 128, 32],\n",
    "    activation_function=F.relu,\n",
    "    dropout_rate_layers=[],  # No dropout\n",
    "    optimizer_hyperparams={'lr': 0.001, 'betas': (0.9, 0.999)},\n",
    ")\n",
    "model_with_sgd4.train()\n",
    "model_with_sgd4.test()"
   ]
  },
  {
   "cell_type": "code",
   "execution_count": 15,
   "metadata": {},
   "outputs": [
    {
     "name": "stderr",
     "output_type": "stream",
     "text": [
      "epoch:24 train loss:0.0910 train accuracy:0.9708: 100%|██████████| 2650/2650 [01:29<00:00, 29.58it/s]\n"
     ]
    },
    {
     "name": "stdout",
     "output_type": "stream",
     "text": [
      "Mean Accuracy Across Each Batch of the test set: 0.8941 ± 0.01988\n"
     ]
    }
   ],
   "source": [
    "model_with_sgd5 = ModelTrainingArtifact(\n",
    "    optimizer=torch.optim.Adam,\n",
    "    objective=nn.CrossEntropyLoss(),\n",
    "    num_epochs=25,\n",
    "    hidden_layer_dims=[1024, 512, 128, 32],\n",
    "    activation_function=F.relu,\n",
    "    dropout_rate_layers=[],  # No dropout\n",
    "    optimizer_hyperparams={'lr': 0.003, 'betas': (0.9, 0.999)},\n",
    ")\n",
    "model_with_sgd5.train()\n",
    "model_with_sgd5.test()"
   ]
  },
  {
   "cell_type": "code",
   "execution_count": 16,
   "metadata": {},
   "outputs": [
    {
     "name": "stderr",
     "output_type": "stream",
     "text": [
      "epoch:24 train loss:0.1511 train accuracy:0.9333: 100%|██████████| 2650/2650 [01:36<00:00, 27.46it/s]\n"
     ]
    },
    {
     "name": "stdout",
     "output_type": "stream",
     "text": [
      "Mean Accuracy Across Each Batch of the test set: 0.8877 ± 0.01925\n"
     ]
    }
   ],
   "source": [
    "model_with_sgd6 = ModelTrainingArtifact(\n",
    "    optimizer=torch.optim.Adam,\n",
    "    objective=nn.CrossEntropyLoss(),\n",
    "    num_epochs=25,\n",
    "    hidden_layer_dims=[1024, 512, 256, 128, 64, 32],\n",
    "    activation_function=F.relu,\n",
    "    dropout_rate_layers=[],  # No dropout\n",
    "    optimizer_hyperparams={'lr': 0.003, 'betas': (0.9, 0.999)},\n",
    ")\n",
    "model_with_sgd6.train()\n",
    "model_with_sgd6.test()"
   ]
  },
  {
   "cell_type": "code",
   "execution_count": 17,
   "metadata": {},
   "outputs": [
    {
     "name": "stderr",
     "output_type": "stream",
     "text": [
      "epoch:19 train loss:0.1157 train accuracy:0.9625: 100%|██████████| 2120/2120 [01:06<00:00, 31.82it/s]\n"
     ]
    },
    {
     "name": "stdout",
     "output_type": "stream",
     "text": [
      "Mean Accuracy Across Each Batch of the test set: 0.8881 ± 0.01993\n"
     ]
    }
   ],
   "source": [
    "model_with_sgd7 = ModelTrainingArtifact(\n",
    "    optimizer=torch.optim.Adam,\n",
    "    objective=nn.CrossEntropyLoss(),\n",
    "    num_epochs=20,\n",
    "    hidden_layer_dims=[512, 256, 128, 64, 32],\n",
    "    activation_function=F.relu,\n",
    "    dropout_rate_layers=[],  # No dropout\n",
    "    optimizer_hyperparams={'lr': 0.003, 'betas': (0.9, 0.999)},\n",
    ")\n",
    "model_with_sgd7.train()\n",
    "model_with_sgd7.test()"
   ]
  },
  {
   "cell_type": "code",
   "execution_count": 19,
   "metadata": {},
   "outputs": [
    {
     "name": "stderr",
     "output_type": "stream",
     "text": [
      "epoch:49 train loss:0.1853 train accuracy:0.9375: 100%|██████████| 5300/5300 [03:11<00:00, 27.74it/s]\n"
     ]
    },
    {
     "name": "stdout",
     "output_type": "stream",
     "text": [
      "Mean Accuracy Across Each Batch of the test set: 0.8949 ± 0.01943\n"
     ]
    }
   ],
   "source": [
    "model_with_sgd8 = ModelTrainingArtifact(\n",
    "    optimizer=torch.optim.Adam,\n",
    "    objective=nn.CrossEntropyLoss(),\n",
    "    num_epochs=50,\n",
    "    hidden_layer_dims=[1024, 512, 128, 32],\n",
    "    dropout_rate_layers=[0.5, 0.2, 0.2, 0.1],  \n",
    "    activation_function=F.relu,\n",
    "    optimizer_hyperparams={'lr': 0.003, 'betas': (0.85, 0.9)},\n",
    ")\n",
    "model_with_sgd8.train()\n",
    "model_with_sgd8.test()"
   ]
  },
  {
   "cell_type": "code",
   "execution_count": 20,
   "metadata": {},
   "outputs": [
    {
     "name": "stderr",
     "output_type": "stream",
     "text": [
      "epoch:24 train loss:0.1719 train accuracy:0.9333: 100%|██████████| 2650/2650 [01:20<00:00, 32.72it/s]\n"
     ]
    },
    {
     "name": "stdout",
     "output_type": "stream",
     "text": [
      "Mean Accuracy Across Each Batch of the test set: 0.8929 ± 0.01959\n"
     ]
    }
   ],
   "source": [
    "model_with_sgd9 = ModelTrainingArtifact(\n",
    "    optimizer=torch.optim.Adam,\n",
    "    objective=nn.CrossEntropyLoss(),\n",
    "    num_epochs=25,\n",
    "    hidden_layer_dims=[600, 300],\n",
    "    dropout_rate_layers=[0.1, 0.1],  \n",
    "    activation_function=F.relu,\n",
    "    optimizer_hyperparams={'lr': 0.003, 'betas': (0.9, 0.999)},\n",
    ")\n",
    "model_with_sgd9.train()\n",
    "model_with_sgd9.test()"
   ]
  },
  {
   "cell_type": "code",
   "execution_count": 21,
   "metadata": {},
   "outputs": [
    {
     "name": "stderr",
     "output_type": "stream",
     "text": [
      "epoch:24 train loss:0.1864 train accuracy:0.9292: 100%|██████████| 2650/2650 [02:06<00:00, 20.95it/s]\n"
     ]
    },
    {
     "name": "stdout",
     "output_type": "stream",
     "text": [
      "Mean Accuracy Across Each Batch of the test set: 0.8899 ± 0.01586\n"
     ]
    }
   ],
   "source": [
    "model_with_sgd10 = ModelTrainingArtifact(\n",
    "    optimizer=torch.optim.Adam,\n",
    "    objective=nn.CrossEntropyLoss(),\n",
    "    num_epochs=25,\n",
    "    hidden_layer_dims=[1024, 1024, 512, 512, 256],\n",
    "    dropout_rate_layers=[0.1, 0.1, 0.1, 0.1],  \n",
    "    activation_function=F.relu,\n",
    "    optimizer_hyperparams={'lr': 0.003, 'betas': (0.9, 0.999)},\n",
    ")\n",
    "model_with_sgd10.train()\n",
    "model_with_sgd10.test()"
   ]
  },
  {
   "cell_type": "code",
   "execution_count": null,
   "metadata": {
    "id": "0F_DyktW8Bgw"
   },
   "outputs": [],
   "source": [
    "# # Initialize neural network model with input, output and hidden layer dimensions\n",
    "# model = ACAIGFCN(784, 10, [1024, 512, 256, 128, 64, 32, 16]) #... add more parameters\n",
    "                \n",
    "# # Define the learning rate and epochs number\n",
    "# learning_rate = 0.003\n",
    "# epochs = 25\n",
    "\n",
    "\n",
    "# train_loss_list = np.zeros((epochs,))\n",
    "# validation_accuracy_list = np.zeros((epochs,))\n",
    "\n",
    "# # Define loss function  and optimizer\n",
    "# loss_func = torch.nn.CrossEntropyLoss() # Use Cross Entropy loss from torch.nn \n",
    "# optimizer = torch.optim.Adam(model.parameters(), lr=learning_rate) # Use optimizers from torch.optim"
   ]
  },
  {
   "cell_type": "code",
   "execution_count": 22,
   "metadata": {},
   "outputs": [],
   "source": [
    "# # Run your training and validation loop and collect stats\n",
    "# train_loss = []\n",
    "# val_loss = []\n",
    "# train_acc = []\n",
    "# val_acc = []\n",
    "\n",
    "# # TODO: Is this a good way to calculate accuracy?\n",
    "# def acc(y_h, y_t):\n",
    "#     return (torch.softmax(y_h, 1).argmax(1) == y_t).float().mean()\n",
    "\n",
    "\n",
    "# loop = tqdm(total=len(train_batches) * epochs, position=0)\n",
    "\n",
    "# # Iterate over epochs, batches with progress bar and train+ validate the ACAIGFCN\n",
    "# # Track the loss and validation accuracy\n",
    "# for epoch in range(epochs):\n",
    "\n",
    "#     # ACAIGFCN Training \n",
    "#     for train_features, train_labels in train_batches:\n",
    "#         # Set model into training mode\n",
    "#         model.train()\n",
    "        \n",
    "#         # Reshape images into a vector\n",
    "#         train_features = train_features.reshape(-1, 28*28)\n",
    "\n",
    "#         optimizer.zero_grad()\n",
    "\n",
    "#         y_hat = model(train_features)\n",
    "#         loss = loss_func(y_hat, train_labels)\n",
    "\n",
    "#         loss.backward()\n",
    "#         optimizer.step()\n",
    "        \n",
    "#         # loop.set_description(f\"Epoch {epoch+1}/{epochs}\")\n",
    "#         # loop.update(1)\n",
    "\n",
    "#         # Reset gradients, Calculate training loss on model \n",
    "#         # Perfrom optimization, back propagation\n",
    "#         train_accuracy = acc(y_hat, train_labels)\n",
    "#         train_acc.append(train_accuracy)\n",
    " \n",
    "#         # Record loss for the epoch\n",
    "#         train_loss.append(loss.item())\n",
    "\n",
    "#         loop.set_description('epoch:{} train loss:{:.4f} train accuracy:{:.4f}'.format(epoch, train_loss[-1], train_accuracy))\n",
    "#         loop.update(1)\n",
    "\n",
    "#     current_val_acc = []\n",
    "#     current_val_loss = []\n",
    "    \n",
    "#     # ACAIGFCN Validation\n",
    "#     for val_features, val_labels in val_batches:\n",
    "        \n",
    "#         # Telling PyTorch we aren't passing inputs to network for training purpose\n",
    "#         with torch.no_grad(): \n",
    "#             model.eval()\n",
    "            \n",
    "#              # Reshape validation images into a vector\n",
    "#             val_features = val_features.reshape(-1, 28*28)\n",
    "\n",
    "#             y_hat = model(val_features)\n",
    "#             loss = loss_func(y_hat, val_labels)\n",
    "          \n",
    "#             # Compute validation outputs (targets) \n",
    "#             # and compute accuracy\n",
    "#             val_accuracy = acc(y_hat, val_labels)\n",
    "#             current_val_acc.append(val_accuracy)\n",
    "#             current_val_loss.append(loss.item())\n",
    "\n",
    "#     val_acc.append((len(train_acc), np.mean(current_val_acc)))\n",
    "#     val_loss.append((len(train_loss), np.mean(current_val_loss)))\n",
    "\n",
    "#     # loop.set_description(\n",
    "#     #     f\"epoch:{epoch} train loss:{train_loss[-1]:.4f} train accuracy:{train_accuracy:.4f} val loss:{val_loss[-1][-1]:.4f} val accuracy:{val_acc[-1][-1]:.4f}\"\n",
    "#     # )\n",
    "#     # loop.update(1)\n",
    "            \n",
    "#     # Record accuracy for the epoch; print training loss, validation accuracy\n",
    "#     # print(\"Epoch: \"+ str(epoch) +\"; Validation Accuracy:\" + str(val_acc/num_val_batches*100) + '%')\n",
    "\n",
    "# loop.close()"
   ]
  },
  {
   "cell_type": "code",
   "execution_count": 23,
   "metadata": {},
   "outputs": [
    {
     "data": {
      "image/png": "[encoded data removed]",
      "text/plain": [
       "<Figure size 640x480 with 1 Axes>"
      ]
     },
     "metadata": {},
     "output_type": "display_data"
    }
   ],
   "source": [
    "# Plot training loss and validation accuracy throughout the training epochs\n",
    "plt.plot(model_with_sgd10.train_loss, label='Training Loss')\n",
    "plt.plot(np.array(model_with_sgd10.validation_loss)[:,0], np.array(model_with_sgd10.validation_loss)[:,1], label='Validation Loss')\n",
    "plt.legend()\n",
    "plt.title('Training and Validation Loss, with tanh Activation')\n",
    "plt.show()"
   ]
  },
  {
   "cell_type": "code",
   "execution_count": 24,
   "metadata": {},
   "outputs": [
    {
     "data": {
      "image/png": "[encoded data removed]",
      "text/plain": [
       "<Figure size 640x480 with 1 Axes>"
      ]
     },
     "metadata": {},
     "output_type": "display_data"
    }
   ],
   "source": [
    "# Plot training loss and validation accuracy throughout the training epochs\n",
    "plt.plot(model_with_sgd10.train_accuracy, label='Training Accuracy')\n",
    "plt.plot(np.array(model_with_sgd10.validation_accuracy)[:,0], np.array(model_with_sgd10.validation_accuracy)[:,1], label='Validation Accuracy')\n",
    "plt.legend()\n",
    "plt.title('Training and Validation Accuracy, with tanh Activation')\n",
    "plt.show()"
   ]
  },
  {
   "cell_type": "code",
   "execution_count": 22,
   "metadata": {},
   "outputs": [
    {
     "data": {
      "image/png": "[encoded data removed]",
      "text/plain": [
       "<Figure size 640x480 with 1 Axes>"
      ]
     },
     "metadata": {},
     "output_type": "display_data"
    }
   ],
   "source": [
    "# Plot training loss and validation accuracy throughout the training epochs\n",
    "plt.plot(train_acc, label='Training Accuracy')\n",
    "plt.plot(np.array(val_acc)[:,0], np.array(val_acc)[:,1], label='Validation Accuracy')\n",
    "plt.legend()\n",
    "plt.show()"
   ]
  },
  {
   "cell_type": "code",
   "execution_count": 26,
   "metadata": {},
   "outputs": [
    {
     "name": "stdout",
     "output_type": "stream",
     "text": [
      "Mean Accuracy Across Each Batch of the test set: 0.8905 ± 0.02280\n"
     ]
    }
   ],
   "source": [
    "#Calculate accuracy on test set\n",
    "\n",
    "test_acc = []\n",
    "\n",
    "# Telling PyTorch we aren't passing inputs to network for training purpose\n",
    "with torch.no_grad():\n",
    "    \n",
    "    for test_features, test_labels in test_batches:\n",
    "\n",
    "        model.eval()\n",
    "        # Reshape test images into a vector\n",
    "        test_features = test_features.reshape(-1, 28*28)\n",
    "\n",
    "        # Compute validation outputs (targets) \n",
    "        y_hat = model(test_features)\n",
    "        test_acc.append(acc(y_hat, test_labels))\n",
    "        # and compute accuracy \n",
    "    \n",
    "    # Compute total (mean) accuracy\n",
    "    # Report total (mean) accuracy, can also compute std based on batches\n",
    "\n",
    "print(f\"Mean Accuracy Across Each Batch of the test set: {np.mean(test_acc):.4f} ± {np.std(test_acc):.5f}\")"
   ]
  },
  {
   "cell_type": "code",
   "execution_count": 16,
   "metadata": {},
   "outputs": [
    {
     "name": "stdout",
     "output_type": "stream",
     "text": [
      "Mean Accuracy Across Each Batch of the test set: 0.8416 ± 0.02486\n"
     ]
    }
   ],
   "source": [
    "#Calculate accuracy on test set\n",
    "\n",
    "test_acc = []\n",
    "\n",
    "# Telling PyTorch we aren't passing inputs to network for training purpose\n",
    "with torch.no_grad():\n",
    "    \n",
    "    for test_features, test_labels in test_batches:\n",
    "\n",
    "        model.eval()\n",
    "        # Reshape test images into a vector\n",
    "        test_features = test_features.reshape(-1, 28*28)\n",
    "\n",
    "        # Compute validation outputs (targets) \n",
    "        y_hat = model(test_features)\n",
    "        test_acc.append(acc(y_hat, test_labels))\n",
    "        # and compute accuracy \n",
    "    \n",
    "    # Compute total (mean) accuracy\n",
    "    # Report total (mean) accuracy, can also compute std based on batches\n",
    "\n",
    "print(f\"Mean Accuracy Across Each Batch of the test set: {np.mean(test_acc):.4f} ± {np.std(test_acc):.5f}\")"
   ]
  },
  {
   "cell_type": "code",
   "execution_count": 19,
   "metadata": {},
   "outputs": [],
   "source": [
    "#Sample code to visulaize the first sample in first 16 batches \n",
    "\n",
    "# batch_num = 0\n",
    "# for train_features, train_labels in train_batches:\n",
    "    \n",
    "#     if batch_num == 16:\n",
    "#         break    # break here\n",
    "    \n",
    "#     batch_num = batch_num +1\n",
    "#     print(f\"Feature batch shape: {train_features.size()}\")\n",
    "#     print(f\"Labels batch shape: {train_labels.size()}\")\n",
    "    \n",
    "#     img = train_features[0].squeeze()\n",
    "#     label = train_labels[0]\n",
    "#     plt.imshow(img, cmap=\"gray\")\n",
    "#     plt.show()\n",
    "#     print(f\"Label: {label}\")\n",
    "\n",
    "# # Sample code to plot N^2 images from the dataset\n",
    "# def plot_images(XX, N, title):\n",
    "#     fig, ax = plt.subplots(N, N, figsize=(8, 8))\n",
    "    \n",
    "#     for i in range(N):\n",
    "#       for j in range(N):\n",
    "#         ax[i,j].imshow(XX[(N)*i+j], cmap=\"Greys\")\n",
    "#         ax[i,j].axis(\"off\")\n",
    "#     fig.suptitle(title, fontsize=24)\n",
    "\n",
    "# plot_images(train_dataset.data[:64], 8, \"First 64 Training Images\" )    "
   ]
  },
  {
   "cell_type": "code",
   "execution_count": null,
   "metadata": {},
   "outputs": [],
   "source": []
  }
 ],
 "metadata": {
  "colab": {
   "collapsed_sections": [
    "EM6GQLv6j5uH"
   ],
   "name": "Lab 2- PyTorch Basics.ipynb",
   "provenance": []
  },
  "kernelspec": {
   "display_name": "uw-dev-env",
   "language": "python",
   "name": "python3"
  },
  "language_info": {
   "codemirror_mode": {
    "name": "ipython",
    "version": 3
   },
   "file_extension": ".py",
   "mimetype": "text/x-python",
   "name": "python",
   "nbconvert_exporter": "python",
   "pygments_lexer": "ipython3",
   "version": "3.11.8"
  }
 },
 "nbformat": 4,
 "nbformat_minor": 1
}
