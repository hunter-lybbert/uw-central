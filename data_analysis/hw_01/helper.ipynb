{
 "cells": [
  {
   "cell_type": "markdown",
   "metadata": {
    "id": "-4kXuzBqLvMG"
   },
   "source": [
    "The following code helps you visualize the submarine data and contains the crucial information about the data such as size of measurement domain, number of grid points and frequency modes etc. \n",
    "\n",
    "Our first task is to import the data into python (similarly MATLAB). Three files are available, \"subdata.npy\" is a numpy binary file most conveninet for Python users. \"subtata.mat\" is best if you plan to use MATLAB and \"subdata.csv\" is the same data in text format if you are having trouble with the other formats. In MATLAB you can simply use the load command. In Python, and in particular if you are using something like Colab you need some utilities to load the data. Here's a small snippet for loading data from your Google drive.   "
   ]
  },
  {
   "cell_type": "code",
   "execution_count": 1,
   "metadata": {
    "colab": {
     "base_uri": "https://localhost:8080/"
    },
    "id": "VIjdEWmuMBPE",
    "outputId": "a9602247-faca-41ec-c475-5bb2703ae1cb"
   },
   "outputs": [],
   "source": [
    "import numpy as np"
   ]
  },
  {
   "cell_type": "code",
   "execution_count": 2,
   "metadata": {
    "id": "BOe36HdNMt3m"
   },
   "outputs": [
    {
     "ename": "FileNotFoundError",
     "evalue": "[Errno 2] No such file or directory: '/content/drive/Your_Path_to_directory/subdata.npy'",
     "output_type": "error",
     "traceback": [
      "\u001b[0;31m---------------------------------------------------------------------------\u001b[0m",
      "\u001b[0;31mFileNotFoundError\u001b[0m                         Traceback (most recent call last)",
      "Input \u001b[0;32mIn [2]\u001b[0m, in \u001b[0;36m<cell line: 5>\u001b[0;34m()\u001b[0m\n\u001b[1;32m      1\u001b[0m \u001b[38;5;28;01mimport\u001b[39;00m \u001b[38;5;21;01mnumpy\u001b[39;00m \u001b[38;5;28;01mas\u001b[39;00m \u001b[38;5;21;01mnp\u001b[39;00m\n\u001b[1;32m      3\u001b[0m data_path \u001b[38;5;241m=\u001b[39m \u001b[38;5;124m'\u001b[39m\u001b[38;5;124m/content/drive/Your_Path_to_directory/subdata.npy\u001b[39m\u001b[38;5;124m'\u001b[39m\n\u001b[0;32m----> 5\u001b[0m d \u001b[38;5;241m=\u001b[39m \u001b[43mnp\u001b[49m\u001b[38;5;241;43m.\u001b[39;49m\u001b[43mload\u001b[49m\u001b[43m(\u001b[49m\u001b[43mdata_path\u001b[49m\u001b[43m)\u001b[49m\n",
      "File \u001b[0;32m~/opt/anaconda3/lib/python3.9/site-packages/numpy/lib/npyio.py:417\u001b[0m, in \u001b[0;36mload\u001b[0;34m(file, mmap_mode, allow_pickle, fix_imports, encoding)\u001b[0m\n\u001b[1;32m    415\u001b[0m     own_fid \u001b[38;5;241m=\u001b[39m \u001b[38;5;28;01mFalse\u001b[39;00m\n\u001b[1;32m    416\u001b[0m \u001b[38;5;28;01melse\u001b[39;00m:\n\u001b[0;32m--> 417\u001b[0m     fid \u001b[38;5;241m=\u001b[39m stack\u001b[38;5;241m.\u001b[39menter_context(\u001b[38;5;28;43mopen\u001b[39;49m\u001b[43m(\u001b[49m\u001b[43mos_fspath\u001b[49m\u001b[43m(\u001b[49m\u001b[43mfile\u001b[49m\u001b[43m)\u001b[49m\u001b[43m,\u001b[49m\u001b[43m \u001b[49m\u001b[38;5;124;43m\"\u001b[39;49m\u001b[38;5;124;43mrb\u001b[39;49m\u001b[38;5;124;43m\"\u001b[39;49m\u001b[43m)\u001b[49m)\n\u001b[1;32m    418\u001b[0m     own_fid \u001b[38;5;241m=\u001b[39m \u001b[38;5;28;01mTrue\u001b[39;00m\n\u001b[1;32m    420\u001b[0m \u001b[38;5;66;03m# Code to distinguish from NumPy binary files and pickles.\u001b[39;00m\n",
      "\u001b[0;31mFileNotFoundError\u001b[0m: [Errno 2] No such file or directory: '/content/drive/Your_Path_to_directory/subdata.npy'"
     ]
    }
   ],
   "source": [
    "import numpy as np\n",
    "\n",
    "data_path = '/'\n",
    "\n",
    "d = np.load(data_path) # huge matrix of size 262144 x 49 (columns contain flattened 3d matrix of size 64x64x64)"
   ]
  },
  {
   "cell_type": "code",
   "execution_count": 3,
   "metadata": {
    "colab": {
     "base_uri": "https://localhost:8080/",
     "height": 542
    },
    "id": "emT9BsqnM76-",
    "outputId": "197e3afd-866b-46d9-d417-99c0111f66b6"
   },
   "outputs": [
    {
     "ename": "NameError",
     "evalue": "name 'd' is not defined",
     "output_type": "error",
     "traceback": [
      "\u001b[0;31m---------------------------------------------------------------------------\u001b[0m",
      "\u001b[0;31mNameError\u001b[0m                                 Traceback (most recent call last)",
      "Input \u001b[0;32mIn [3]\u001b[0m, in \u001b[0;36m<cell line: 22>\u001b[0;34m()\u001b[0m\n\u001b[1;32m     20\u001b[0m \u001b[38;5;66;03m# plot iso surfaces for every third measurement\u001b[39;00m\n\u001b[1;32m     22\u001b[0m \u001b[38;5;28;01mfor\u001b[39;00m j \u001b[38;5;129;01min\u001b[39;00m \u001b[38;5;28mrange\u001b[39m(\u001b[38;5;241m0\u001b[39m,\u001b[38;5;241m49\u001b[39m,\u001b[38;5;241m3\u001b[39m):\n\u001b[0;32m---> 24\u001b[0m   signal \u001b[38;5;241m=\u001b[39m np\u001b[38;5;241m.\u001b[39mreshape(\u001b[43md\u001b[49m[:, j], (N_grid, N_grid, N_grid))\n\u001b[1;32m     25\u001b[0m   normal_sig_abs \u001b[38;5;241m=\u001b[39m np\u001b[38;5;241m.\u001b[39mabs(signal)\u001b[38;5;241m/\u001b[39mnp\u001b[38;5;241m.\u001b[39mabs(signal)\u001b[38;5;241m.\u001b[39mmax()\n\u001b[1;32m     27\u001b[0m   \u001b[38;5;66;03m# generate data for isosurface of the 3D data \u001b[39;00m\n",
      "\u001b[0;31mNameError\u001b[0m: name 'd' is not defined"
     ]
    }
   ],
   "source": [
    "# import libraries for plotting isosurfaces\n",
    "import plotly\n",
    "import plotly.graph_objs as go\n",
    "# utility for clearing output of cell as loop runs in notebook\n",
    "from IPython.display import clear_output\n",
    "\n",
    "# plot the data in time \n",
    "\n",
    "# NOTE: L we defined in class is 2Lh here, i.e. the domain here is [-Lh,Lh].\n",
    "Lh = 10; # length of spatial domain (cube of side L = 2*10). \n",
    "N_grid = 64; # number of grid points/Fourier modes in each direction\n",
    "xx = np.linspace(-Lh, Lh, N_grid+1) #spatial grid in x dir\n",
    "x = xx[0:N_grid]\n",
    "y = x # same grid in y,z direction\n",
    "z = x\n",
    "\n",
    "K_grid = (2*np.pi/(2*Lh))*np.linspace(-N_grid/2, N_grid/2 -1, N_grid) # frequency grid for one coordinate\n",
    "\n",
    "xv, yv, zv = np.meshgrid( x, y, z) # generate 3D meshgrid for plotting\n",
    "\n",
    "# plot iso surfaces for every third measurement\n",
    "\n",
    "for j in range(0,49,3):\n",
    "\n",
    "  signal = np.reshape(d[:, j], (N_grid, N_grid, N_grid))\n",
    "  normal_sig_abs = np.abs(signal)/np.abs(signal).max()\n",
    "\n",
    "  # generate data for isosurface of the 3D data \n",
    "  fig_data = go.Isosurface( x = xv.flatten(), y = yv.flatten(), z = zv.flatten(),\n",
    "                           value = normal_sig_abs.flatten(), isomin=0.6, isomax=1)\n",
    "\n",
    "  # generate plots\n",
    "  clear_output(wait=True) # need this to discard previous figs\n",
    "  fig = go.Figure( data = fig_data )\n",
    "  fig.show()\n"
   ]
  },
  {
   "cell_type": "code",
   "execution_count": null,
   "metadata": {},
   "outputs": [],
   "source": []
  }
 ],
 "metadata": {
  "colab": {
   "collapsed_sections": [],
   "name": "HW1-Helper.ipynb",
   "provenance": []
  },
  "kernelspec": {
   "display_name": "uw-dev-env",
   "language": "python",
   "name": "python3"
  },
  "language_info": {
   "codemirror_mode": {
    "name": "ipython",
    "version": 3
   },
   "file_extension": ".py",
   "mimetype": "text/x-python",
   "name": "python",
   "nbconvert_exporter": "python",
   "pygments_lexer": "ipython3",
   "version": "3.11.8"
  }
 },
 "nbformat": 4,
 "nbformat_minor": 1
}
