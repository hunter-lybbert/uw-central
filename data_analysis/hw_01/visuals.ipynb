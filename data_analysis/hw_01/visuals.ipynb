{
 "cells": [
  {
   "cell_type": "code",
   "execution_count": 7,
   "metadata": {},
   "outputs": [],
   "source": [
    "import matplotlib.pyplot as plt\n",
    "from svgpathtools import svg2paths\n",
    "\n",
    "paths, attributes = svg2paths('marker_svg/submarine3.svg')  # Replace 'your_image.svg' with your file\n",
    "path = paths[0]  # Assuming your SVG has only one path"
   ]
  },
  {
   "cell_type": "code",
   "execution_count": null,
   "metadata": {},
   "outputs": [],
   "source": []
  },
  {
   "cell_type": "code",
   "execution_count": 8,
   "metadata": {},
   "outputs": [
    {
     "ename": "ValueError",
     "evalue": "Unrecognized marker style Path(CubicBezier(start=(459.1+332.3j), control1=(435.6+332.3j), control2=(416.5+313.2j), end=(416.5+289.7j)),\n     Line(start=(416.5+289.7j), end=(416.5+262.09999999999997j)),\n     Line(start=(416.5+262.09999999999997j), end=(259.3+262.09999999999997j)),\n     Line(start=(259.3+262.09999999999997j), end=(259.3+247.09999999999997j)),\n     Line(start=(259.3+247.09999999999997j), end=(395+247.09999999999997j)),\n     Line(start=(395+247.09999999999997j), end=(382+202.2j)),\n     Line(start=(382+202.2j), end=(195.7+202.2j)),\n     Line(start=(195.7+202.2j), end=(191.39999999999998+217.1j)),\n     Line(start=(191.39999999999998+217.1j), end=(323.29999999999995+217.1j)),\n     Line(start=(323.29999999999995+217.1j), end=(323.29999999999995+232.1j)),\n     Line(start=(323.29999999999995+232.1j), end=(187.1+232.1j)),\n     Line(start=(187.1+232.1j), end=(182.79999999999998+247j)),\n     Line(start=(182.79999999999998+247j), end=(214.29999999999998+247j)),\n     Line(start=(214.29999999999998+247j), end=(214.29999999999998+262j)),\n     Line(start=(214.29999999999998+262j), end=(135.29999999999998+262j)),\n     CubicBezier(start=(135.29999999999998+262j), control1=(122.69999999999999+262j), control2=(110.99999999999999+267.4j), end=(102.79999999999998+276.9j)),\n     Line(start=(102.79999999999998+276.9j), end=(102.79999999999998+282.4j)),\n     Line(start=(102.79999999999998+282.4j), end=(147.7+282.4j)),\n     CubicBezier(start=(147.7+282.4j), control1=(160.1+282.4j), control2=(170.2+292.5j), end=(170.2+304.9j)),\n     CubicBezier(start=(170.2+304.9j), control1=(170.2+317.29999999999995j), control2=(160.1+327.4j), end=(147.7+327.4j)),\n     Line(start=(147.7+327.4j), end=(102.79999999999998+327.4j)),\n     Line(start=(102.79999999999998+327.4j), end=(102.79999999999998+332.9j)),\n     CubicBezier(start=(102.79999999999998+332.9j), control1=(110.99999999999999+342.4j), control2=(122.69999999999999+347.79999999999995j), end=(135.29999999999998+347.79999999999995j)),\n     Line(start=(135.29999999999998+347.79999999999995j), end=(442.9+347.79999999999995j)),\n     CubicBezier(start=(442.9+347.79999999999995j), control1=(456.2+347.79999999999995j), control2=(468+341.69999999999993j), end=(475.9+332.29999999999995j)),\n     Line(start=(475.9+332.29999999999995j), end=(459.1+332.29999999999995j)),\n     Line(start=(459.1+332.29999999999995j), end=(459.1+332.3j)),\n     CubicBezier(start=(220.7+317.3j), control1=(213.89999999999998+317.3j), control2=(208.39999999999998+311.8j), end=(208.39999999999998+305j)),\n     CubicBezier(start=(208.39999999999998+305j), control1=(208.39999999999998+298.2j), control2=(213.89999999999998+292.7j), end=(220.7+292.7j)),\n     CubicBezier(start=(220.7+292.7j), control1=(227.5+292.7j), control2=(233+298.2j), end=(233+305j)),\n     CubicBezier(start=(233+305j), control1=(233+311.8j), control2=(227.5+317.3j), end=(220.7+317.3j)),\n     CubicBezier(start=(298.5+317.3j), control1=(291.7+317.3j), control2=(286.2+311.8j), end=(286.2+305j)),\n     CubicBezier(start=(286.2+305j), control1=(286.2+298.2j), control2=(291.7+292.7j), end=(298.5+292.7j)),\n     CubicBezier(start=(298.5+292.7j), control1=(305.3+292.7j), control2=(310.8+298.2j), end=(310.8+305j)),\n     CubicBezier(start=(310.8+305j), control1=(310.9+311.8j), control2=(305.4+317.3j), end=(298.5+317.3j)),\n     CubicBezier(start=(376.4+317.3j), control1=(369.59999999999997+317.3j), control2=(364.09999999999997+311.8j), end=(364.09999999999997+305j)),\n     CubicBezier(start=(364.09999999999997+305j), control1=(364.09999999999997+298.2j), control2=(369.59999999999997+292.7j), end=(376.4+292.7j)),\n     CubicBezier(start=(376.4+292.7j), control1=(383.2+292.7j), control2=(388.7+298.2j), end=(388.7+305j)),\n     CubicBezier(start=(388.7+305j), control1=(388.8+311.8j), control2=(383.2+317.3j), end=(376.4+317.3j)))",
     "output_type": "error",
     "traceback": [
      "\u001b[0;31m---------------------------------------------------------------------------\u001b[0m",
      "\u001b[0;31mValueError\u001b[0m                                Traceback (most recent call last)",
      "File \u001b[0;32m~/.pyenv/versions/uw-dev-env/lib/python3.11/site-packages/matplotlib/markers.py:326\u001b[0m, in \u001b[0;36mMarkerStyle._set_marker\u001b[0;34m(self, marker)\u001b[0m\n\u001b[1;32m    325\u001b[0m \u001b[38;5;28;01mtry\u001b[39;00m:\n\u001b[0;32m--> 326\u001b[0m     \u001b[43mPath\u001b[49m\u001b[43m(\u001b[49m\u001b[43mmarker\u001b[49m\u001b[43m)\u001b[49m\n\u001b[1;32m    327\u001b[0m     \u001b[38;5;28mself\u001b[39m\u001b[38;5;241m.\u001b[39m_marker_function \u001b[38;5;241m=\u001b[39m \u001b[38;5;28mself\u001b[39m\u001b[38;5;241m.\u001b[39m_set_vertices\n",
      "File \u001b[0;32m~/.pyenv/versions/uw-dev-env/lib/python3.11/site-packages/matplotlib/path.py:129\u001b[0m, in \u001b[0;36mPath.__init__\u001b[0;34m(self, vertices, codes, _interpolation_steps, closed, readonly)\u001b[0m\n\u001b[1;32m    101\u001b[0m \u001b[38;5;250m\u001b[39m\u001b[38;5;124;03m\"\"\"\u001b[39;00m\n\u001b[1;32m    102\u001b[0m \u001b[38;5;124;03mCreate a new path with the given vertices and codes.\u001b[39;00m\n\u001b[1;32m    103\u001b[0m \n\u001b[0;32m   (...)\u001b[0m\n\u001b[1;32m    127\u001b[0m \u001b[38;5;124;03m    and codes as read-only arrays.\u001b[39;00m\n\u001b[1;32m    128\u001b[0m \u001b[38;5;124;03m\"\"\"\u001b[39;00m\n\u001b[0;32m--> 129\u001b[0m vertices \u001b[38;5;241m=\u001b[39m \u001b[43m_to_unmasked_float_array\u001b[49m\u001b[43m(\u001b[49m\u001b[43mvertices\u001b[49m\u001b[43m)\u001b[49m\n\u001b[1;32m    130\u001b[0m _api\u001b[38;5;241m.\u001b[39mcheck_shape((\u001b[38;5;28;01mNone\u001b[39;00m, \u001b[38;5;241m2\u001b[39m), vertices\u001b[38;5;241m=\u001b[39mvertices)\n",
      "File \u001b[0;32m~/.pyenv/versions/uw-dev-env/lib/python3.11/site-packages/matplotlib/cbook.py:1398\u001b[0m, in \u001b[0;36m_to_unmasked_float_array\u001b[0;34m(x)\u001b[0m\n\u001b[1;32m   1397\u001b[0m \u001b[38;5;28;01melse\u001b[39;00m:\n\u001b[0;32m-> 1398\u001b[0m     \u001b[38;5;28;01mreturn\u001b[39;00m np\u001b[38;5;241m.\u001b[39masarray(x, \u001b[38;5;28mfloat\u001b[39m)\n",
      "\u001b[0;31mValueError\u001b[0m: setting an array element with a sequence. The requested array has an inhomogeneous shape after 1 dimensions. The detected shape was (39,) + inhomogeneous part.",
      "\nThe above exception was the direct cause of the following exception:\n",
      "\u001b[0;31mValueError\u001b[0m                                Traceback (most recent call last)",
      "Cell \u001b[0;32mIn[8], line 3\u001b[0m\n\u001b[1;32m      1\u001b[0m \u001b[38;5;28;01mfrom\u001b[39;00m \u001b[38;5;21;01mmatplotlib\u001b[39;00m\u001b[38;5;21;01m.\u001b[39;00m\u001b[38;5;21;01mmarkers\u001b[39;00m \u001b[38;5;28;01mimport\u001b[39;00m MarkerStyle\n\u001b[0;32m----> 3\u001b[0m marker \u001b[38;5;241m=\u001b[39m \u001b[43mMarkerStyle\u001b[49m\u001b[43m(\u001b[49m\u001b[43mpath\u001b[49m\u001b[43m)\u001b[49m\n",
      "File \u001b[0;32m~/.pyenv/versions/uw-dev-env/lib/python3.11/site-packages/matplotlib/markers.py:248\u001b[0m, in \u001b[0;36mMarkerStyle.__init__\u001b[0;34m(self, marker, fillstyle, transform, capstyle, joinstyle)\u001b[0m\n\u001b[1;32m    246\u001b[0m \u001b[38;5;28mself\u001b[39m\u001b[38;5;241m.\u001b[39m_user_joinstyle \u001b[38;5;241m=\u001b[39m JoinStyle(joinstyle) \u001b[38;5;28;01mif\u001b[39;00m joinstyle \u001b[38;5;129;01mis\u001b[39;00m \u001b[38;5;129;01mnot\u001b[39;00m \u001b[38;5;28;01mNone\u001b[39;00m \u001b[38;5;28;01melse\u001b[39;00m \u001b[38;5;28;01mNone\u001b[39;00m\n\u001b[1;32m    247\u001b[0m \u001b[38;5;28mself\u001b[39m\u001b[38;5;241m.\u001b[39m_set_fillstyle(fillstyle)\n\u001b[0;32m--> 248\u001b[0m \u001b[38;5;28;43mself\u001b[39;49m\u001b[38;5;241;43m.\u001b[39;49m\u001b[43m_set_marker\u001b[49m\u001b[43m(\u001b[49m\u001b[43mmarker\u001b[49m\u001b[43m)\u001b[49m\n",
      "File \u001b[0;32m~/.pyenv/versions/uw-dev-env/lib/python3.11/site-packages/matplotlib/markers.py:329\u001b[0m, in \u001b[0;36mMarkerStyle._set_marker\u001b[0;34m(self, marker)\u001b[0m\n\u001b[1;32m    327\u001b[0m         \u001b[38;5;28mself\u001b[39m\u001b[38;5;241m.\u001b[39m_marker_function \u001b[38;5;241m=\u001b[39m \u001b[38;5;28mself\u001b[39m\u001b[38;5;241m.\u001b[39m_set_vertices\n\u001b[1;32m    328\u001b[0m     \u001b[38;5;28;01mexcept\u001b[39;00m \u001b[38;5;167;01mValueError\u001b[39;00m \u001b[38;5;28;01mas\u001b[39;00m err:\n\u001b[0;32m--> 329\u001b[0m         \u001b[38;5;28;01mraise\u001b[39;00m \u001b[38;5;167;01mValueError\u001b[39;00m(\n\u001b[1;32m    330\u001b[0m             \u001b[38;5;124mf\u001b[39m\u001b[38;5;124m'\u001b[39m\u001b[38;5;124mUnrecognized marker style \u001b[39m\u001b[38;5;132;01m{\u001b[39;00mmarker\u001b[38;5;132;01m!r}\u001b[39;00m\u001b[38;5;124m'\u001b[39m) \u001b[38;5;28;01mfrom\u001b[39;00m \u001b[38;5;21;01merr\u001b[39;00m\n\u001b[1;32m    332\u001b[0m \u001b[38;5;28;01mif\u001b[39;00m \u001b[38;5;129;01mnot\u001b[39;00m \u001b[38;5;28misinstance\u001b[39m(marker, MarkerStyle):\n\u001b[1;32m    333\u001b[0m     \u001b[38;5;28mself\u001b[39m\u001b[38;5;241m.\u001b[39m_marker \u001b[38;5;241m=\u001b[39m marker\n",
      "\u001b[0;31mValueError\u001b[0m: Unrecognized marker style Path(CubicBezier(start=(459.1+332.3j), control1=(435.6+332.3j), control2=(416.5+313.2j), end=(416.5+289.7j)),\n     Line(start=(416.5+289.7j), end=(416.5+262.09999999999997j)),\n     Line(start=(416.5+262.09999999999997j), end=(259.3+262.09999999999997j)),\n     Line(start=(259.3+262.09999999999997j), end=(259.3+247.09999999999997j)),\n     Line(start=(259.3+247.09999999999997j), end=(395+247.09999999999997j)),\n     Line(start=(395+247.09999999999997j), end=(382+202.2j)),\n     Line(start=(382+202.2j), end=(195.7+202.2j)),\n     Line(start=(195.7+202.2j), end=(191.39999999999998+217.1j)),\n     Line(start=(191.39999999999998+217.1j), end=(323.29999999999995+217.1j)),\n     Line(start=(323.29999999999995+217.1j), end=(323.29999999999995+232.1j)),\n     Line(start=(323.29999999999995+232.1j), end=(187.1+232.1j)),\n     Line(start=(187.1+232.1j), end=(182.79999999999998+247j)),\n     Line(start=(182.79999999999998+247j), end=(214.29999999999998+247j)),\n     Line(start=(214.29999999999998+247j), end=(214.29999999999998+262j)),\n     Line(start=(214.29999999999998+262j), end=(135.29999999999998+262j)),\n     CubicBezier(start=(135.29999999999998+262j), control1=(122.69999999999999+262j), control2=(110.99999999999999+267.4j), end=(102.79999999999998+276.9j)),\n     Line(start=(102.79999999999998+276.9j), end=(102.79999999999998+282.4j)),\n     Line(start=(102.79999999999998+282.4j), end=(147.7+282.4j)),\n     CubicBezier(start=(147.7+282.4j), control1=(160.1+282.4j), control2=(170.2+292.5j), end=(170.2+304.9j)),\n     CubicBezier(start=(170.2+304.9j), control1=(170.2+317.29999999999995j), control2=(160.1+327.4j), end=(147.7+327.4j)),\n     Line(start=(147.7+327.4j), end=(102.79999999999998+327.4j)),\n     Line(start=(102.79999999999998+327.4j), end=(102.79999999999998+332.9j)),\n     CubicBezier(start=(102.79999999999998+332.9j), control1=(110.99999999999999+342.4j), control2=(122.69999999999999+347.79999999999995j), end=(135.29999999999998+347.79999999999995j)),\n     Line(start=(135.29999999999998+347.79999999999995j), end=(442.9+347.79999999999995j)),\n     CubicBezier(start=(442.9+347.79999999999995j), control1=(456.2+347.79999999999995j), control2=(468+341.69999999999993j), end=(475.9+332.29999999999995j)),\n     Line(start=(475.9+332.29999999999995j), end=(459.1+332.29999999999995j)),\n     Line(start=(459.1+332.29999999999995j), end=(459.1+332.3j)),\n     CubicBezier(start=(220.7+317.3j), control1=(213.89999999999998+317.3j), control2=(208.39999999999998+311.8j), end=(208.39999999999998+305j)),\n     CubicBezier(start=(208.39999999999998+305j), control1=(208.39999999999998+298.2j), control2=(213.89999999999998+292.7j), end=(220.7+292.7j)),\n     CubicBezier(start=(220.7+292.7j), control1=(227.5+292.7j), control2=(233+298.2j), end=(233+305j)),\n     CubicBezier(start=(233+305j), control1=(233+311.8j), control2=(227.5+317.3j), end=(220.7+317.3j)),\n     CubicBezier(start=(298.5+317.3j), control1=(291.7+317.3j), control2=(286.2+311.8j), end=(286.2+305j)),\n     CubicBezier(start=(286.2+305j), control1=(286.2+298.2j), control2=(291.7+292.7j), end=(298.5+292.7j)),\n     CubicBezier(start=(298.5+292.7j), control1=(305.3+292.7j), control2=(310.8+298.2j), end=(310.8+305j)),\n     CubicBezier(start=(310.8+305j), control1=(310.9+311.8j), control2=(305.4+317.3j), end=(298.5+317.3j)),\n     CubicBezier(start=(376.4+317.3j), control1=(369.59999999999997+317.3j), control2=(364.09999999999997+311.8j), end=(364.09999999999997+305j)),\n     CubicBezier(start=(364.09999999999997+305j), control1=(364.09999999999997+298.2j), control2=(369.59999999999997+292.7j), end=(376.4+292.7j)),\n     CubicBezier(start=(376.4+292.7j), control1=(383.2+292.7j), control2=(388.7+298.2j), end=(388.7+305j)),\n     CubicBezier(start=(388.7+305j), control1=(388.8+311.8j), control2=(383.2+317.3j), end=(376.4+317.3j)))"
     ]
    }
   ],
   "source": [
    "from matplotlib.markers import MarkerStyle\n",
    "\n",
    "marker = MarkerStyle(path)"
   ]
  },
  {
   "cell_type": "code",
   "execution_count": null,
   "metadata": {},
   "outputs": [],
   "source": []
  }
 ],
 "metadata": {
  "kernelspec": {
   "display_name": "uw-dev-env",
   "language": "python",
   "name": "python3"
  },
  "language_info": {
   "codemirror_mode": {
    "name": "ipython",
    "version": 3
   },
   "file_extension": ".py",
   "mimetype": "text/x-python",
   "name": "python",
   "nbconvert_exporter": "python",
   "pygments_lexer": "ipython3",
   "version": "3.11.8"
  }
 },
 "nbformat": 4,
 "nbformat_minor": 2
}
