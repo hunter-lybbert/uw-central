{
 "cells": [
  {
   "cell_type": "code",
   "execution_count": 1,
   "metadata": {},
   "outputs": [],
   "source": [
    "import os\n",
    "import sys\n",
    "from pathlib import Path\n",
    "\n",
    "sys.path.insert(0, str(Path(os.getcwd()).parent.parent))\n",
    "\n",
    "import numpy as np\n",
    "import matplotlib.pyplot as plt\n",
    "\n",
    "import torch\n",
    "from torch import nn\n",
    "from torch.nn import functional as F\n",
    "\n",
    "from src.data_analysis.model_training import FCNArtifact, CNNArtifact"
   ]
  },
  {
   "cell_type": "code",
   "execution_count": 2,
   "metadata": {},
   "outputs": [],
   "source": [
    "# This function helps count the number of parameters in a model\n",
    "def num_params(model):\n",
    "  return np.sum([np.prod(i.shape) for i in model.parameters()]) # if len(i.shape) > 1])"
   ]
  },
  {
   "cell_type": "code",
   "execution_count": 3,
   "metadata": {},
   "outputs": [
    {
     "name": "stdout",
     "output_type": "stream",
     "text": [
      "109770\n"
     ]
    }
   ],
   "source": [
    "model_100k = FCNArtifact(\n",
    "    optimizer=torch.optim.Adam,\n",
    "    objective=nn.CrossEntropyLoss(),\n",
    "    num_epochs=50,\n",
    "    hidden_layer_dims=[128, 64],\n",
    "    weight_init_method='kaiming_uniform',\n",
    "    batch_norm=True,\n",
    "    activation_function=F.relu,\n",
    "    dropout_rate_layers=[.5, .5],  # No dropout\n",
    "    optimizer_hyperparams={'lr': 0.001, 'betas': (0.9, 0.999)},\n",
    "    dataset_name='fashion',\n",
    ")\n",
    "print(num_params(model_100k.model).item())"
   ]
  },
  {
   "cell_type": "code",
   "execution_count": 4,
   "metadata": {},
   "outputs": [
    {
     "name": "stdout",
     "output_type": "stream",
     "text": [
      "202974\n"
     ]
    }
   ],
   "source": [
    "model_200k = FCNArtifact(\n",
    "    optimizer=torch.optim.Adam,\n",
    "    objective=nn.CrossEntropyLoss(),\n",
    "    num_epochs=50,\n",
    "    hidden_layer_dims=[220, 128],\n",
    "    weight_init_method='kaiming_uniform',\n",
    "    batch_norm=True,\n",
    "    activation_function=F.relu,\n",
    "    dropout_rate_layers=[.5, .5],  # No dropout\n",
    "    optimizer_hyperparams={'lr': 0.001, 'betas': (0.9, 0.999)},\n",
    "    dataset_name='fashion',\n",
    ")\n",
    "print(num_params(model_200k.model).item())"
   ]
  },
  {
   "cell_type": "code",
   "execution_count": 5,
   "metadata": {},
   "outputs": [
    {
     "name": "stdout",
     "output_type": "stream",
     "text": [
      "52842\n"
     ]
    }
   ],
   "source": [
    "model_50k = FCNArtifact(\n",
    "    optimizer=torch.optim.Adam,\n",
    "    objective=nn.CrossEntropyLoss(),\n",
    "    num_epochs=50,\n",
    "    hidden_layer_dims=[64, 32],\n",
    "    weight_init_method='kaiming_uniform',\n",
    "    batch_norm=True,\n",
    "    activation_function=F.relu,\n",
    "    dropout_rate_layers=[.5, .5],  # No dropout\n",
    "    optimizer_hyperparams={'lr': 0.001, 'betas': (0.9, 0.999)},\n",
    "    dataset_name='fashion',\n",
    ")\n",
    "print(num_params(model_50k.model).item())"
   ]
  },
  {
   "cell_type": "code",
   "execution_count": 6,
   "metadata": {},
   "outputs": [
    {
     "name": "stderr",
     "output_type": "stream",
     "text": [
      "epoch:49 train loss:0.2560 train accuracy:0.9083: 100%|██████████| 5300/5300 [02:30<00:00, 35.14it/s]\n"
     ]
    },
    {
     "name": "stdout",
     "output_type": "stream",
     "text": [
      "Mean Accuracy Across Each Batch of the test set: 0.8802 ± 0.01578\n"
     ]
    },
    {
     "name": "stderr",
     "output_type": "stream",
     "text": [
      "epoch:49 train loss:0.2583 train accuracy:0.9125: 100%|██████████| 5300/5300 [02:32<00:00, 34.68it/s]\n"
     ]
    },
    {
     "name": "stdout",
     "output_type": "stream",
     "text": [
      "Mean Accuracy Across Each Batch of the test set: 0.8889 ± 0.02109\n"
     ]
    },
    {
     "name": "stderr",
     "output_type": "stream",
     "text": [
      "epoch:49 train loss:0.1479 train accuracy:0.9250: 100%|██████████| 5300/5300 [02:32<00:00, 34.69it/s]\n"
     ]
    },
    {
     "name": "stdout",
     "output_type": "stream",
     "text": [
      "Mean Accuracy Across Each Batch of the test set: 0.8965 ± 0.01884\n"
     ]
    }
   ],
   "source": [
    "model_50k.runner(record_experiment=True, record_experiment_kwargs={\"to_compare_with_cnn\": True})\n",
    "model_100k.runner(record_experiment=True, record_experiment_kwargs={\"to_compare_with_cnn\": True})\n",
    "model_200k.runner(record_experiment=True, record_experiment_kwargs={\"to_compare_with_cnn\": True})"
   ]
  },
  {
   "cell_type": "code",
   "execution_count": 6,
   "metadata": {},
   "outputs": [],
   "source": [
    "# TODO: Determine where and what you want to record in the model experiments this time!"
   ]
  },
  {
   "cell_type": "markdown",
   "metadata": {},
   "source": [
    "## Train CNN's"
   ]
  },
  {
   "cell_type": "code",
   "execution_count": 5,
   "metadata": {},
   "outputs": [],
   "source": [
    "num_epochs_list = [50, 75]\n",
    "learning_rates = [0.0001, 0.0003, 0.0005, 0.0009, 0.001]\n",
    "\n",
    "def run_all_experiments():\n",
    "    for num_epochs in num_epochs_list:\n",
    "        for lr in learning_rates:\n",
    "            optimizer_hyperparams = {'lr': lr, 'betas': (0.9, 0.999)}\n",
    "            model = CNNArtifact(\n",
    "                optimizer=torch.optim.Adam,\n",
    "                objective=nn.CrossEntropyLoss(),\n",
    "                num_epochs=num_epochs,\n",
    "                weight_init_method=\"xavier_uniform\",\n",
    "                batch_norm=True,\n",
    "                optimizer_hyperparams=optimizer_hyperparams,\n",
    "                dataset_name='fashion',\n",
    "            )\n",
    "            model.runner(record_experiment=True)\n"
   ]
  },
  {
   "cell_type": "code",
   "execution_count": 6,
   "metadata": {},
   "outputs": [
    {
     "name": "stderr",
     "output_type": "stream",
     "text": [
      "epoch:49 train loss:0.1190 train accuracy:0.9542: 100%|██████████| 5300/5300 [06:39<00:00, 13.25it/s]\n"
     ]
    },
    {
     "name": "stdout",
     "output_type": "stream",
     "text": [
      "Mean Accuracy Across Each Batch of the test set: 0.9176 ± 0.02218\n"
     ]
    },
    {
     "name": "stderr",
     "output_type": "stream",
     "text": [
      "epoch:49 train loss:0.0739 train accuracy:0.9750: 100%|██████████| 5300/5300 [06:39<00:00, 13.28it/s]\n"
     ]
    },
    {
     "name": "stdout",
     "output_type": "stream",
     "text": [
      "Mean Accuracy Across Each Batch of the test set: 0.9183 ± 0.01717\n"
     ]
    },
    {
     "name": "stderr",
     "output_type": "stream",
     "text": [
      "epoch:49 train loss:0.0781 train accuracy:0.9667: 100%|██████████| 5300/5300 [06:56<00:00, 12.72it/s]\n"
     ]
    },
    {
     "name": "stdout",
     "output_type": "stream",
     "text": [
      "Mean Accuracy Across Each Batch of the test set: 0.9218 ± 0.01802\n"
     ]
    },
    {
     "name": "stderr",
     "output_type": "stream",
     "text": [
      "epoch:49 train loss:0.0300 train accuracy:0.9875: 100%|██████████| 5300/5300 [06:28<00:00, 13.65it/s]\n"
     ]
    },
    {
     "name": "stdout",
     "output_type": "stream",
     "text": [
      "Mean Accuracy Across Each Batch of the test set: 0.9229 ± 0.02101\n"
     ]
    },
    {
     "name": "stderr",
     "output_type": "stream",
     "text": [
      "epoch:49 train loss:0.0467 train accuracy:0.9792: 100%|██████████| 5300/5300 [06:15<00:00, 14.11it/s]\n"
     ]
    },
    {
     "name": "stdout",
     "output_type": "stream",
     "text": [
      "Mean Accuracy Across Each Batch of the test set: 0.9236 ± 0.01666\n"
     ]
    },
    {
     "name": "stderr",
     "output_type": "stream",
     "text": [
      "epoch:74 train loss:0.0872 train accuracy:0.9667: 100%|██████████| 7950/7950 [09:13<00:00, 14.36it/s]\n"
     ]
    },
    {
     "name": "stdout",
     "output_type": "stream",
     "text": [
      "Mean Accuracy Across Each Batch of the test set: 0.9200 ± 0.01671\n"
     ]
    },
    {
     "name": "stderr",
     "output_type": "stream",
     "text": [
      "epoch:74 train loss:0.0248 train accuracy:0.9875: 100%|██████████| 7950/7950 [09:10<00:00, 14.44it/s]\n"
     ]
    },
    {
     "name": "stdout",
     "output_type": "stream",
     "text": [
      "Mean Accuracy Across Each Batch of the test set: 0.9196 ± 0.01659\n"
     ]
    },
    {
     "name": "stderr",
     "output_type": "stream",
     "text": [
      "epoch:74 train loss:0.0506 train accuracy:0.9833: 100%|██████████| 7950/7950 [09:06<00:00, 14.55it/s]\n"
     ]
    },
    {
     "name": "stdout",
     "output_type": "stream",
     "text": [
      "Mean Accuracy Across Each Batch of the test set: 0.9219 ± 0.01947\n"
     ]
    },
    {
     "name": "stderr",
     "output_type": "stream",
     "text": [
      "epoch:74 train loss:0.0528 train accuracy:0.9750: 100%|██████████| 7950/7950 [09:08<00:00, 14.49it/s]\n"
     ]
    },
    {
     "name": "stdout",
     "output_type": "stream",
     "text": [
      "Mean Accuracy Across Each Batch of the test set: 0.9202 ± 0.01921\n"
     ]
    },
    {
     "name": "stderr",
     "output_type": "stream",
     "text": [
      "epoch:74 train loss:0.0618 train accuracy:0.9708: 100%|██████████| 7950/7950 [09:07<00:00, 14.53it/s]\n"
     ]
    },
    {
     "name": "stdout",
     "output_type": "stream",
     "text": [
      "Mean Accuracy Across Each Batch of the test set: 0.9238 ± 0.01965\n"
     ]
    }
   ],
   "source": [
    "run_all_experiments()"
   ]
  },
  {
   "cell_type": "code",
   "execution_count": null,
   "metadata": {},
   "outputs": [
    {
     "name": "stdout",
     "output_type": "stream",
     "text": [
      "9980\n"
     ]
    }
   ],
   "source": [
    "cnn_10k = CNNArtifact(\n",
    "    optimizer=torch.optim.Adam,\n",
    "    objective=nn.CrossEntropyLoss(),\n",
    "    num_epochs=50,\n",
    "    weight_init_method='xavier_uniform',\n",
    "    conv_out_channels_list=[6, 10, 16],\n",
    "    optimizer_hyperparams={'lr': 0.001, 'betas': (0.9, 0.999)},\n",
    "    dataset_name='fashion',\n",
    ")\n",
    "print(num_params(cnn_10k.model).item())"
   ]
  },
  {
   "cell_type": "code",
   "execution_count": 34,
   "metadata": {},
   "outputs": [
    {
     "name": "stdout",
     "output_type": "stream",
     "text": [
      "20071\n"
     ]
    }
   ],
   "source": [
    "cnn_20k = CNNArtifact(\n",
    "    optimizer=torch.optim.Adam,\n",
    "    objective=nn.CrossEntropyLoss(),\n",
    "    num_epochs=50,\n",
    "    weight_init_method='xavier_uniform',\n",
    "    conv_out_channels_list=[8, 15, 30],\n",
    "    optimizer_hyperparams={'lr': 0.001, 'betas': (0.9, 0.999)},\n",
    "    dataset_name='fashion',\n",
    ")\n",
    "print(num_params(cnn_20k.model).item())"
   ]
  },
  {
   "cell_type": "code",
   "execution_count": 37,
   "metadata": {},
   "outputs": [
    {
     "name": "stdout",
     "output_type": "stream",
     "text": [
      "50392\n"
     ]
    }
   ],
   "source": [
    "cnn_50k = CNNArtifact(\n",
    "    optimizer=torch.optim.Adam,\n",
    "    objective=nn.CrossEntropyLoss(),\n",
    "    num_epochs=50,\n",
    "    weight_init_method='xavier_uniform',\n",
    "    conv_out_channels_list=[16, 30, 60],\n",
    "    optimizer_hyperparams={'lr': 0.001, 'betas': (0.9, 0.999)},\n",
    "    dataset_name='fashion',\n",
    ")\n",
    "print(num_params(cnn_50k.model).item())"
   ]
  },
  {
   "cell_type": "code",
   "execution_count": 38,
   "metadata": {},
   "outputs": [
    {
     "name": "stderr",
     "output_type": "stream",
     "text": [
      "epoch:49 train loss:0.3208 train accuracy:0.8708: 100%|██████████| 5300/5300 [04:02<00:00, 21.82it/s]\n"
     ]
    },
    {
     "name": "stdout",
     "output_type": "stream",
     "text": [
      "Mean Accuracy Across Each Batch of the test set: 0.9002 ± 0.02288\n"
     ]
    },
    {
     "name": "stderr",
     "output_type": "stream",
     "text": [
      "epoch:49 train loss:0.1665 train accuracy:0.9375: 100%|██████████| 5300/5300 [04:15<00:00, 20.73it/s]\n"
     ]
    },
    {
     "name": "stdout",
     "output_type": "stream",
     "text": [
      "Mean Accuracy Across Each Batch of the test set: 0.9091 ± 0.01510\n"
     ]
    },
    {
     "name": "stderr",
     "output_type": "stream",
     "text": [
      "epoch:49 train loss:0.1111 train accuracy:0.9625: 100%|██████████| 5300/5300 [05:19<00:00, 16.59it/s]\n"
     ]
    },
    {
     "name": "stdout",
     "output_type": "stream",
     "text": [
      "Mean Accuracy Across Each Batch of the test set: 0.9152 ± 0.01882\n"
     ]
    }
   ],
   "source": [
    "cnn_10k.runner(record_experiment=True)\n",
    "cnn_20k.runner(record_experiment=True)\n",
    "cnn_50k.runner(record_experiment=True)"
   ]
  },
  {
   "cell_type": "code",
   "execution_count": null,
   "metadata": {},
   "outputs": [],
   "source": [
    "cnn_50k = CNNArtifact(\n",
    "    optimizer=torch.optim.Adam,\n",
    "    objective=nn.CrossEntropyLoss(),\n",
    "    num_epochs=40,\n",
    "    weight_init_method='kaiming_uniform',\n",
    "    batch_norm=True,\n",
    "    optimizer_hyperparams={'lr': 0.001, 'betas': (0.9, 0.999)},\n",
    "    dataset_name='fashion',\n",
    ")\n",
    "print(num_params(cnn_50k.model).item())"
   ]
  },
  {
   "cell_type": "code",
   "execution_count": 4,
   "metadata": {},
   "outputs": [
    {
     "name": "stdout",
     "output_type": "stream",
     "text": [
      "54890\n"
     ]
    }
   ],
   "source": [
    "cnn_50k = CNNArtifact(\n",
    "    optimizer=torch.optim.Adam,\n",
    "    objective=nn.CrossEntropyLoss(),\n",
    "    num_epochs=40,\n",
    "    weight_init_method='kaiming_uniform',\n",
    "    batch_norm=True,\n",
    "    optimizer_hyperparams={'lr': 0.001, 'betas': (0.9, 0.999)},\n",
    "    dataset_name='fashion',\n",
    ")\n",
    "print(num_params(cnn_50k.model).item())"
   ]
  },
  {
   "cell_type": "code",
   "execution_count": 5,
   "metadata": {},
   "outputs": [
    {
     "name": "stderr",
     "output_type": "stream",
     "text": [
      "  0%|          | 0/4240 [00:00<?, ?it/s]"
     ]
    },
    {
     "name": "stderr",
     "output_type": "stream",
     "text": [
      "epoch:39 train loss:0.2551 train accuracy:0.9125: 100%|██████████| 4240/4240 [03:39<00:00, 19.30it/s]\n"
     ]
    },
    {
     "name": "stdout",
     "output_type": "stream",
     "text": [
      "Mean Accuracy Across Each Batch of the test set: 0.9204 ± 0.02211\n"
     ]
    }
   ],
   "source": [
    "cnn_50k.runner(record_experiment=True)"
   ]
  },
  {
   "cell_type": "code",
   "execution_count": null,
   "metadata": {},
   "outputs": [],
   "source": []
  }
 ],
 "metadata": {
  "kernelspec": {
   "display_name": "uw-dev-env",
   "language": "python",
   "name": "python3"
  },
  "language_info": {
   "codemirror_mode": {
    "name": "ipython",
    "version": 3
   },
   "file_extension": ".py",
   "mimetype": "text/x-python",
   "name": "python",
   "nbconvert_exporter": "python",
   "pygments_lexer": "ipython3",
   "version": "3.11.8"
  }
 },
 "nbformat": 4,
 "nbformat_minor": 2
}
