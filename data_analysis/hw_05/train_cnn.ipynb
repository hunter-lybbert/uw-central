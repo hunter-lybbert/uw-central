{
 "cells": [
  {
   "cell_type": "code",
   "execution_count": 1,
   "metadata": {},
   "outputs": [],
   "source": [
    "import os\n",
    "from pathlib import Path\n",
    "import sys\n",
    "\n",
    "sys.path.insert(0, str(Path(os.getcwd()).parent.parent))\n",
    "\n",
    "import torch\n",
    "from torch import nn\n",
    "from torch.nn import functional as F\n",
    "\n",
    "import numpy as np\n",
    "import matplotlib.pyplot as plt\n",
    "\n",
    "from src.data_analysis.model_training import FCNArtifact, CNNArtifact"
   ]
  },
  {
   "cell_type": "code",
   "execution_count": 3,
   "metadata": {},
   "outputs": [
    {
     "name": "stdout",
     "output_type": "stream",
     "text": [
      "109770\n"
     ]
    },
    {
     "name": "stderr",
     "output_type": "stream",
     "text": [
      "epoch:0 train loss:0.4778 train accuracy:0.8750: 100%|██████████| 106/106 [00:03<00:00, 33.74it/s]\n"
     ]
    },
    {
     "name": "stdout",
     "output_type": "stream",
     "text": [
      "Mean Accuracy Across Each Batch of the test set: 0.9182 ± 0.02217\n"
     ]
    }
   ],
   "source": [
    "# This function helps count the number of parameters in a model\n",
    "def num_params(model):\n",
    "  return np.sum([np.prod(i.shape) for i in model.parameters()]) # if len(i.shape) > 1])\n",
    "\n",
    "\n",
    "model_100k = FCNArtifact(\n",
    "    optimizer=torch.optim.Adam,\n",
    "    objective=nn.CrossEntropyLoss(),\n",
    "    num_epochs=1,\n",
    "    hidden_layer_dims=[128, 64],\n",
    "    weight_init_method='kaiming_uniform',\n",
    "    batch_norm=True,\n",
    "    activation_function=F.relu,\n",
    "    dropout_rate_layers=[.5, .5],  # No dropout\n",
    "    optimizer_hyperparams={'lr': 0.001, 'betas': (0.9, 0.999)},\n",
    "    dataset_name='digits',\n",
    "    experiments_directory='test_exp'\n",
    ")\n",
    "print(num_params(model_100k.model).item())\n",
    "model_100k.runner(record_experiment=True)"
   ]
  },
  {
   "cell_type": "code",
   "execution_count": null,
   "metadata": {},
   "outputs": [
    {
     "name": "stdout",
     "output_type": "stream",
     "text": [
      "202974\n"
     ]
    },
    {
     "name": "stderr",
     "output_type": "stream",
     "text": [
      "epoch:2 train loss:0.3807 train accuracy:0.8542: 100%|██████████| 318/318 [00:09<00:00, 34.08it/s]]\n"
     ]
    },
    {
     "name": "stdout",
     "output_type": "stream",
     "text": [
      "Mean Accuracy Across Each Batch of the test set: 0.8625 ± 0.02709\n"
     ]
    }
   ],
   "source": [
    "model_200k = FCNArtifact(\n",
    "    optimizer=torch.optim.Adam,\n",
    "    objective=nn.CrossEntropyLoss(),\n",
    "    num_epochs=3,\n",
    "    hidden_layer_dims=[220, 128],\n",
    "    weight_init_method='kaiming_uniform',\n",
    "    batch_norm=True,\n",
    "    activation_function=F.relu,\n",
    "    dropout_rate_layers=[.5, .5],  # No dropout\n",
    "    optimizer_hyperparams={'lr': 0.001, 'betas': (0.9, 0.999)},\n",
    "    dataset_name='fashion',\n",
    ")\n",
    "print(num_params(model_200k.model).item())\n",
    "\n",
    "model_200k.runner(record_experiment=False)"
   ]
  },
  {
   "cell_type": "code",
   "execution_count": null,
   "metadata": {},
   "outputs": [
    {
     "name": "stdout",
     "output_type": "stream",
     "text": [
      "52842\n"
     ]
    },
    {
     "name": "stderr",
     "output_type": "stream",
     "text": [
      "epoch:2 train loss:0.4925 train accuracy:0.8250: 100%|██████████| 318/318 [00:09<00:00, 34.23it/s]\n"
     ]
    },
    {
     "name": "stdout",
     "output_type": "stream",
     "text": [
      "Mean Accuracy Across Each Batch of the test set: 0.8347 ± 0.02587\n"
     ]
    }
   ],
   "source": [
    "model_50k = FCNArtifact(\n",
    "    optimizer=torch.optim.Adam,\n",
    "    objective=nn.CrossEntropyLoss(),\n",
    "    num_epochs=3,\n",
    "    hidden_layer_dims=[64, 32],\n",
    "    weight_init_method='kaiming_uniform',\n",
    "    batch_norm=True,\n",
    "    activation_function=F.relu,\n",
    "    dropout_rate_layers=[.5, .5],  # No dropout\n",
    "    optimizer_hyperparams={'lr': 0.001, 'betas': (0.9, 0.999)},\n",
    "    dataset_name='fashion',\n",
    ")\n",
    "print(num_params(model_50k.model).item())\n",
    "\n",
    "model_50k.runner(record_experiment=False)"
   ]
  },
  {
   "cell_type": "code",
   "execution_count": 6,
   "metadata": {},
   "outputs": [],
   "source": [
    "# TODO: Determine where and what you want to record in the model experiments this time!"
   ]
  },
  {
   "cell_type": "code",
   "execution_count": null,
   "metadata": {},
   "outputs": [],
   "source": []
  }
 ],
 "metadata": {
  "kernelspec": {
   "display_name": "uw-dev-env",
   "language": "python",
   "name": "python3"
  },
  "language_info": {
   "codemirror_mode": {
    "name": "ipython",
    "version": 3
   },
   "file_extension": ".py",
   "mimetype": "text/x-python",
   "name": "python",
   "nbconvert_exporter": "python",
   "pygments_lexer": "ipython3",
   "version": "3.11.8"
  }
 },
 "nbformat": 4,
 "nbformat_minor": 2
}
