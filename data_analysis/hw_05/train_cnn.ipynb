{
 "cells": [
  {
   "cell_type": "code",
   "execution_count": 1,
   "metadata": {},
   "outputs": [],
   "source": [
    "import os\n",
    "from pathlib import Path\n",
    "import sys\n",
    "\n",
    "sys.path.insert(0, str(Path(os.getcwd()).parent.parent))"
   ]
  },
  {
   "cell_type": "code",
   "execution_count": 2,
   "metadata": {},
   "outputs": [],
   "source": [
    "import numpy as np\n",
    "import matplotlib.pyplot as plt\n",
    "\n",
    "import torch\n",
    "from torch import nn\n",
    "from torch.nn import functional as F\n",
    "\n",
    "from src.data_analysis.model_training import FCNArtifact, CNNArtifact"
   ]
  },
  {
   "cell_type": "code",
   "execution_count": 3,
   "metadata": {},
   "outputs": [],
   "source": [
    "# This function helps count the number of parameters in a model\n",
    "def num_params(model):\n",
    "  return np.sum([np.prod(i.shape) for i in model.parameters()]) # if len(i.shape) > 1])"
   ]
  },
  {
   "cell_type": "code",
   "execution_count": null,
   "metadata": {},
   "outputs": [],
   "source": [
    "model_100k = FCNArtifact(\n",
    "    optimizer=torch.optim.Adam,\n",
    "    objective=nn.CrossEntropyLoss(),\n",
    "    num_epochs=40,\n",
    "    hidden_layer_dims=[128, 64],\n",
    "    weight_init_method='kaiming_uniform',\n",
    "    batch_norm=True,\n",
    "    activation_function=F.relu,\n",
    "    dropout_rate_layers=[.5, .5],  # No dropout\n",
    "    optimizer_hyperparams={'lr': 0.001, 'betas': (0.9, 0.999)},\n",
    "    dataset_name='fashion',\n",
    ")\n",
    "print(num_params(model_100k.model).item())"
   ]
  },
  {
   "cell_type": "code",
   "execution_count": 10,
   "metadata": {},
   "outputs": [
    {
     "name": "stderr",
     "output_type": "stream",
     "text": [
      "epoch:39 train loss:0.1925 train accuracy:0.9250: 100%|██████████| 4240/4240 [02:04<00:00, 33.92it/s]\n"
     ]
    },
    {
     "name": "stdout",
     "output_type": "stream",
     "text": [
      "Mean Accuracy Across Each Batch of the test set: 0.8849 ± 0.01620\n"
     ]
    }
   ],
   "source": [
    "model_100k.runner(record_experiment=True, record_experiment_kwargs={\"to_compare_with_cnn\": True})"
   ]
  },
  {
   "cell_type": "code",
   "execution_count": 5,
   "metadata": {},
   "outputs": [
    {
     "name": "stdout",
     "output_type": "stream",
     "text": [
      "202974\n"
     ]
    }
   ],
   "source": [
    "model_200k = FCNArtifact(\n",
    "    optimizer=torch.optim.Adam,\n",
    "    objective=nn.CrossEntropyLoss(),\n",
    "    num_epochs=40,\n",
    "    hidden_layer_dims=[220, 128],\n",
    "    weight_init_method='kaiming_uniform',\n",
    "    batch_norm=True,\n",
    "    activation_function=F.relu,\n",
    "    dropout_rate_layers=[.5, .5],  # No dropout\n",
    "    optimizer_hyperparams={'lr': 0.001, 'betas': (0.9, 0.999)},\n",
    "    dataset_name='fashion',\n",
    ")\n",
    "print(num_params(model_200k.model).item())"
   ]
  },
  {
   "cell_type": "code",
   "execution_count": 6,
   "metadata": {},
   "outputs": [
    {
     "name": "stderr",
     "output_type": "stream",
     "text": [
      "epoch:39 train loss:0.2587 train accuracy:0.9125: 100%|██████████| 4240/4240 [02:01<00:00, 35.02it/s]\n"
     ]
    },
    {
     "name": "stdout",
     "output_type": "stream",
     "text": [
      "Mean Accuracy Across Each Batch of the test set: 0.8955 ± 0.01999\n"
     ]
    }
   ],
   "source": [
    "model_200k.runner(record_experiment=True, record_experiment_kwargs={\"to_compare_with_cnn\": True})"
   ]
  },
  {
   "cell_type": "code",
   "execution_count": 7,
   "metadata": {},
   "outputs": [
    {
     "name": "stdout",
     "output_type": "stream",
     "text": [
      "52842\n"
     ]
    }
   ],
   "source": [
    "model_50k = FCNArtifact(\n",
    "    optimizer=torch.optim.Adam,\n",
    "    objective=nn.CrossEntropyLoss(),\n",
    "    num_epochs=40,\n",
    "    hidden_layer_dims=[64, 32],\n",
    "    weight_init_method='kaiming_uniform',\n",
    "    batch_norm=True,\n",
    "    activation_function=F.relu,\n",
    "    dropout_rate_layers=[.5, .5],  # No dropout\n",
    "    optimizer_hyperparams={'lr': 0.001, 'betas': (0.9, 0.999)},\n",
    "    dataset_name='fashion',\n",
    ")\n",
    "print(num_params(model_50k.model).item())"
   ]
  },
  {
   "cell_type": "code",
   "execution_count": 8,
   "metadata": {},
   "outputs": [
    {
     "name": "stderr",
     "output_type": "stream",
     "text": [
      "epoch:39 train loss:0.3670 train accuracy:0.8708: 100%|██████████| 4240/4240 [02:02<00:00, 34.59it/s]\n"
     ]
    },
    {
     "name": "stdout",
     "output_type": "stream",
     "text": [
      "Mean Accuracy Across Each Batch of the test set: 0.8741 ± 0.02396\n"
     ]
    }
   ],
   "source": [
    "model_50k.runner(record_experiment=True, record_experiment_kwargs={\"to_compare_with_cnn\": True})"
   ]
  },
  {
   "cell_type": "code",
   "execution_count": 6,
   "metadata": {},
   "outputs": [],
   "source": [
    "# TODO: Determine where and what you want to record in the model experiments this time!"
   ]
  },
  {
   "cell_type": "code",
   "execution_count": 6,
   "metadata": {},
   "outputs": [],
   "source": [
    "weight_init_method_list = ['kaiming_uniform', 'random_normal', 'xavier_uniform']\n",
    "learning_rates = [0.0001, 0.001, 0.01, 0.1]\n",
    "optimizer_list = [torch.optim.SGD, torch.optim.Adam, torch.optim.RMSprop]\n",
    "momentums = [0.9, 0.95, 0.99]\n",
    "\n",
    "def run_all_experiments():\n",
    "    for num_epochs in [30]:\n",
    "        for weight_init_method in weight_init_method_list:\n",
    "            for lr in learning_rates:\n",
    "                for optimizer in optimizer_list:\n",
    "                    if optimizer == torch.optim.SGD:\n",
    "                        optimizer_hyperparams = {'lr': lr, 'momentum': np.random.choice(momentums)}\n",
    "                    elif optimizer == torch.optim.Adam:\n",
    "                        optimizer_hyperparams = {'lr': lr, 'betas': tuple(np.random.choice(momentums, 2))}\n",
    "                    elif optimizer == torch.optim.RMSprop:\n",
    "                        optimizer_hyperparams = {'lr': lr, 'alpha': np.random.choice(momentums)}\n",
    "                    model = CNNArtifact(\n",
    "                        optimizer=optimizer,\n",
    "                        objective=nn.CrossEntropyLoss(),\n",
    "                        num_epochs=num_epochs,\n",
    "                        weight_init_method=weight_init_method,\n",
    "                        batch_norm=True,\n",
    "                        optimizer_hyperparams=optimizer_hyperparams,\n",
    "                        dataset_name='fashion',\n",
    "                    )\n",
    "                    model.runner(record_experiment=True)\n"
   ]
  },
  {
   "cell_type": "code",
   "execution_count": 7,
   "metadata": {},
   "outputs": [
    {
     "name": "stderr",
     "output_type": "stream",
     "text": [
      "epoch:29 train loss:0.3700 train accuracy:0.8792: 100%|██████████| 3180/3180 [02:47<00:00, 19.00it/s]\n"
     ]
    },
    {
     "name": "stdout",
     "output_type": "stream",
     "text": [
      "Mean Accuracy Across Each Batch of the test set: 0.8641 ± 0.01862\n"
     ]
    },
    {
     "name": "stderr",
     "output_type": "stream",
     "text": [
      "epoch:29 train loss:0.2388 train accuracy:0.9125: 100%|██████████| 3180/3180 [02:42<00:00, 19.57it/s]\n"
     ]
    },
    {
     "name": "stdout",
     "output_type": "stream",
     "text": [
      "Mean Accuracy Across Each Batch of the test set: 0.9021 ± 0.02198\n"
     ]
    },
    {
     "name": "stderr",
     "output_type": "stream",
     "text": [
      "epoch:29 train loss:0.2841 train accuracy:0.9208: 100%|██████████| 3180/3180 [02:42<00:00, 19.57it/s]\n"
     ]
    },
    {
     "name": "stdout",
     "output_type": "stream",
     "text": [
      "Mean Accuracy Across Each Batch of the test set: 0.9077 ± 0.01698\n"
     ]
    },
    {
     "name": "stderr",
     "output_type": "stream",
     "text": [
      "epoch:29 train loss:0.1933 train accuracy:0.9333: 100%|██████████| 3180/3180 [02:39<00:00, 19.88it/s]\n"
     ]
    },
    {
     "name": "stdout",
     "output_type": "stream",
     "text": [
      "Mean Accuracy Across Each Batch of the test set: 0.9076 ± 0.01675\n"
     ]
    },
    {
     "name": "stderr",
     "output_type": "stream",
     "text": [
      "epoch:29 train loss:0.1707 train accuracy:0.9375: 100%|██████████| 3180/3180 [02:42<00:00, 19.53it/s]\n"
     ]
    },
    {
     "name": "stdout",
     "output_type": "stream",
     "text": [
      "Mean Accuracy Across Each Batch of the test set: 0.9128 ± 0.03840\n"
     ]
    },
    {
     "name": "stderr",
     "output_type": "stream",
     "text": [
      "epoch:29 train loss:0.1487 train accuracy:0.9333: 100%|██████████| 3180/3180 [02:47<00:00, 19.02it/s]\n"
     ]
    },
    {
     "name": "stdout",
     "output_type": "stream",
     "text": [
      "Mean Accuracy Across Each Batch of the test set: 0.9146 ± 0.02094\n"
     ]
    },
    {
     "name": "stderr",
     "output_type": "stream",
     "text": [
      "epoch:29 train loss:0.1858 train accuracy:0.9333: 100%|██████████| 3180/3180 [02:54<00:00, 18.21it/s]\n"
     ]
    },
    {
     "name": "stdout",
     "output_type": "stream",
     "text": [
      "Mean Accuracy Across Each Batch of the test set: 0.9141 ± 0.01784\n"
     ]
    },
    {
     "name": "stderr",
     "output_type": "stream",
     "text": [
      "epoch:29 train loss:2.2999 train accuracy:0.3167: 100%|██████████| 3180/3180 [02:47<00:00, 19.03it/s]      \n"
     ]
    },
    {
     "name": "stdout",
     "output_type": "stream",
     "text": [
      "Mean Accuracy Across Each Batch of the test set: 0.0991 ± 0.01972\n"
     ]
    },
    {
     "name": "stderr",
     "output_type": "stream",
     "text": [
      "epoch:29 train loss:0.1441 train accuracy:0.9458: 100%|██████████| 3180/3180 [02:49<00:00, 18.77it/s]\n"
     ]
    },
    {
     "name": "stdout",
     "output_type": "stream",
     "text": [
      "Mean Accuracy Across Each Batch of the test set: 0.9186 ± 0.02250\n"
     ]
    },
    {
     "name": "stderr",
     "output_type": "stream",
     "text": [
      "epoch:29 train loss:0.8043 train accuracy:0.7208: 100%|██████████| 3180/3180 [02:45<00:00, 19.17it/s]\n"
     ]
    },
    {
     "name": "stdout",
     "output_type": "stream",
     "text": [
      "Mean Accuracy Across Each Batch of the test set: 0.8348 ± 0.02300\n"
     ]
    },
    {
     "name": "stderr",
     "output_type": "stream",
     "text": [
      "epoch:29 train loss:61866317517095436288.0000 train accuracy:0.0958: 100%|██████████| 3180/3180 [02:50<00:00, 18.63it/s]\n"
     ]
    },
    {
     "name": "stdout",
     "output_type": "stream",
     "text": [
      "Mean Accuracy Across Each Batch of the test set: 0.0991 ± 0.02061\n"
     ]
    },
    {
     "name": "stderr",
     "output_type": "stream",
     "text": [
      "epoch:29 train loss:0.4545 train accuracy:0.8500: 100%|██████████| 3180/3180 [02:47<00:00, 18.95it/s]\n"
     ]
    },
    {
     "name": "stdout",
     "output_type": "stream",
     "text": [
      "Mean Accuracy Across Each Batch of the test set: 0.8647 ± 0.03514\n"
     ]
    },
    {
     "name": "stderr",
     "output_type": "stream",
     "text": [
      "epoch:29 train loss:1.1858 train accuracy:0.8583: 100%|██████████| 3180/3180 [02:46<00:00, 19.09it/s]\n"
     ]
    },
    {
     "name": "stdout",
     "output_type": "stream",
     "text": [
      "Mean Accuracy Across Each Batch of the test set: 0.8940 ± 0.01878\n"
     ]
    },
    {
     "name": "stderr",
     "output_type": "stream",
     "text": [
      "epoch:29 train loss:1.1412 train accuracy:0.8958: 100%|██████████| 3180/3180 [02:48<00:00, 18.89it/s]\n"
     ]
    },
    {
     "name": "stdout",
     "output_type": "stream",
     "text": [
      "Mean Accuracy Across Each Batch of the test set: 0.8769 ± 0.01943\n"
     ]
    },
    {
     "name": "stderr",
     "output_type": "stream",
     "text": [
      "epoch:29 train loss:1.8655 train accuracy:0.8458: 100%|██████████| 3180/3180 [02:49<00:00, 18.78it/s]\n"
     ]
    },
    {
     "name": "stdout",
     "output_type": "stream",
     "text": [
      "Mean Accuracy Across Each Batch of the test set: 0.8654 ± 0.02419\n"
     ]
    },
    {
     "name": "stderr",
     "output_type": "stream",
     "text": [
      "epoch:29 train loss:0.2956 train accuracy:0.8958: 100%|██████████| 3180/3180 [02:45<00:00, 19.25it/s]\n"
     ]
    },
    {
     "name": "stdout",
     "output_type": "stream",
     "text": [
      "Mean Accuracy Across Each Batch of the test set: 0.8837 ± 0.02233\n"
     ]
    },
    {
     "name": "stderr",
     "output_type": "stream",
     "text": [
      "epoch:29 train loss:0.2159 train accuracy:0.9042: 100%|██████████| 3180/3180 [02:43<00:00, 19.40it/s]\n"
     ]
    },
    {
     "name": "stdout",
     "output_type": "stream",
     "text": [
      "Mean Accuracy Across Each Batch of the test set: 0.9096 ± 0.01752\n"
     ]
    },
    {
     "name": "stderr",
     "output_type": "stream",
     "text": [
      "epoch:29 train loss:0.1715 train accuracy:0.9500: 100%|██████████| 3180/3180 [02:43<00:00, 19.48it/s]\n"
     ]
    },
    {
     "name": "stdout",
     "output_type": "stream",
     "text": [
      "Mean Accuracy Across Each Batch of the test set: 0.9035 ± 0.01795\n"
     ]
    },
    {
     "name": "stderr",
     "output_type": "stream",
     "text": [
      "epoch:29 train loss:0.9820 train accuracy:0.6750: 100%|██████████| 3180/3180 [02:41<00:00, 19.70it/s]\n"
     ]
    },
    {
     "name": "stdout",
     "output_type": "stream",
     "text": [
      "Mean Accuracy Across Each Batch of the test set: 0.7883 ± 0.02718\n"
     ]
    },
    {
     "name": "stderr",
     "output_type": "stream",
     "text": [
      "epoch:29 train loss:0.2447 train accuracy:0.9167: 100%|██████████| 3180/3180 [02:45<00:00, 19.20it/s]\n"
     ]
    },
    {
     "name": "stdout",
     "output_type": "stream",
     "text": [
      "Mean Accuracy Across Each Batch of the test set: 0.9065 ± 0.01981\n"
     ]
    },
    {
     "name": "stderr",
     "output_type": "stream",
     "text": [
      "epoch:29 train loss:0.2232 train accuracy:0.9333: 100%|██████████| 3180/3180 [02:44<00:00, 19.33it/s]\n"
     ]
    },
    {
     "name": "stdout",
     "output_type": "stream",
     "text": [
      "Mean Accuracy Across Each Batch of the test set: 0.9062 ± 0.03188\n"
     ]
    },
    {
     "name": "stderr",
     "output_type": "stream",
     "text": [
      "epoch:29 train loss:2.2919 train accuracy:0.0958: 100%|██████████| 3180/3180 [02:46<00:00, 19.10it/s]\n"
     ]
    },
    {
     "name": "stdout",
     "output_type": "stream",
     "text": [
      "Mean Accuracy Across Each Batch of the test set: 0.1172 ± 0.02078\n"
     ]
    },
    {
     "name": "stderr",
     "output_type": "stream",
     "text": [
      "epoch:29 train loss:0.5618 train accuracy:0.8208: 100%|██████████| 3180/3180 [02:44<00:00, 19.32it/s]\n"
     ]
    },
    {
     "name": "stdout",
     "output_type": "stream",
     "text": [
      "Mean Accuracy Across Each Batch of the test set: 0.8737 ± 0.01898\n"
     ]
    },
    {
     "name": "stderr",
     "output_type": "stream",
     "text": [
      "epoch:29 train loss:2.3055 train accuracy:0.1000: 100%|██████████| 3180/3180 [02:46<00:00, 19.10it/s]\n"
     ]
    },
    {
     "name": "stdout",
     "output_type": "stream",
     "text": [
      "Mean Accuracy Across Each Batch of the test set: 0.1035 ± 0.02799\n"
     ]
    },
    {
     "name": "stderr",
     "output_type": "stream",
     "text": [
      "epoch:29 train loss:0.4436 train accuracy:0.8375: 100%|██████████| 3180/3180 [02:44<00:00, 19.27it/s]\n"
     ]
    },
    {
     "name": "stdout",
     "output_type": "stream",
     "text": [
      "Mean Accuracy Across Each Batch of the test set: 0.8518 ± 0.02148\n"
     ]
    },
    {
     "name": "stderr",
     "output_type": "stream",
     "text": [
      "epoch:29 train loss:0.2077 train accuracy:0.9125: 100%|██████████| 3180/3180 [02:45<00:00, 19.20it/s]\n"
     ]
    },
    {
     "name": "stdout",
     "output_type": "stream",
     "text": [
      "Mean Accuracy Across Each Batch of the test set: 0.9022 ± 0.01690\n"
     ]
    },
    {
     "name": "stderr",
     "output_type": "stream",
     "text": [
      "epoch:29 train loss:0.1952 train accuracy:0.9208: 100%|██████████| 3180/3180 [02:47<00:00, 18.98it/s]\n"
     ]
    },
    {
     "name": "stdout",
     "output_type": "stream",
     "text": [
      "Mean Accuracy Across Each Batch of the test set: 0.9017 ± 0.02331\n"
     ]
    },
    {
     "name": "stderr",
     "output_type": "stream",
     "text": [
      "epoch:29 train loss:0.2922 train accuracy:0.8917: 100%|██████████| 3180/3180 [02:47<00:00, 19.01it/s]\n"
     ]
    },
    {
     "name": "stdout",
     "output_type": "stream",
     "text": [
      "Mean Accuracy Across Each Batch of the test set: 0.9033 ± 0.03028\n"
     ]
    },
    {
     "name": "stderr",
     "output_type": "stream",
     "text": [
      "epoch:29 train loss:0.1134 train accuracy:0.9542: 100%|██████████| 3180/3180 [02:46<00:00, 19.12it/s]\n"
     ]
    },
    {
     "name": "stdout",
     "output_type": "stream",
     "text": [
      "Mean Accuracy Across Each Batch of the test set: 0.9180 ± 0.01456\n"
     ]
    },
    {
     "name": "stderr",
     "output_type": "stream",
     "text": [
      "epoch:29 train loss:0.0995 train accuracy:0.9583: 100%|██████████| 3180/3180 [02:44<00:00, 19.28it/s]\n"
     ]
    },
    {
     "name": "stdout",
     "output_type": "stream",
     "text": [
      "Mean Accuracy Across Each Batch of the test set: 0.9131 ± 0.01875\n"
     ]
    },
    {
     "name": "stderr",
     "output_type": "stream",
     "text": [
      "epoch:29 train loss:0.1298 train accuracy:0.9458: 100%|██████████| 3180/3180 [02:43<00:00, 19.50it/s]\n"
     ]
    },
    {
     "name": "stdout",
     "output_type": "stream",
     "text": [
      "Mean Accuracy Across Each Batch of the test set: 0.9108 ± 0.02339\n"
     ]
    },
    {
     "name": "stderr",
     "output_type": "stream",
     "text": [
      "epoch:29 train loss:0.1381 train accuracy:0.9542: 100%|██████████| 3180/3180 [02:41<00:00, 19.71it/s]\n"
     ]
    },
    {
     "name": "stdout",
     "output_type": "stream",
     "text": [
      "Mean Accuracy Across Each Batch of the test set: 0.9175 ± 0.01780\n"
     ]
    },
    {
     "name": "stderr",
     "output_type": "stream",
     "text": [
      "epoch:29 train loss:0.1801 train accuracy:0.9292: 100%|██████████| 3180/3180 [02:41<00:00, 19.66it/s]\n"
     ]
    },
    {
     "name": "stdout",
     "output_type": "stream",
     "text": [
      "Mean Accuracy Across Each Batch of the test set: 0.9139 ± 0.01610\n"
     ]
    },
    {
     "name": "stderr",
     "output_type": "stream",
     "text": [
      "epoch:29 train loss:0.3589 train accuracy:0.8708: 100%|██████████| 3180/3180 [02:40<00:00, 19.79it/s]\n"
     ]
    },
    {
     "name": "stdout",
     "output_type": "stream",
     "text": [
      "Mean Accuracy Across Each Batch of the test set: 0.9076 ± 0.01770\n"
     ]
    },
    {
     "name": "stderr",
     "output_type": "stream",
     "text": [
      "epoch:29 train loss:0.3253 train accuracy:0.8583: 100%|██████████| 3180/3180 [02:43<00:00, 19.50it/s]\n"
     ]
    },
    {
     "name": "stdout",
     "output_type": "stream",
     "text": [
      "Mean Accuracy Across Each Batch of the test set: 0.8925 ± 0.02022\n"
     ]
    },
    {
     "name": "stderr",
     "output_type": "stream",
     "text": [
      "epoch:29 train loss:0.9245 train accuracy:0.7833: 100%|██████████| 3180/3180 [02:41<00:00, 19.64it/s]\n"
     ]
    },
    {
     "name": "stdout",
     "output_type": "stream",
     "text": [
      "Mean Accuracy Across Each Batch of the test set: 0.8290 ± 0.01987\n"
     ]
    }
   ],
   "source": [
    "run_all_experiments()"
   ]
  },
  {
   "cell_type": "code",
   "execution_count": null,
   "metadata": {},
   "outputs": [],
   "source": [
    "cnn_50k = CNNArtifact(\n",
    "    optimizer=torch.optim.Adam,\n",
    "    objective=nn.CrossEntropyLoss(),\n",
    "    num_epochs=40,\n",
    "    weight_init_method='kaiming_uniform',\n",
    "    batch_norm=True,\n",
    "    optimizer_hyperparams={'lr': 0.001, 'betas': (0.9, 0.999)},\n",
    "    dataset_name='fashion',\n",
    ")\n",
    "print(num_params(cnn_50k.model).item())"
   ]
  },
  {
   "cell_type": "code",
   "execution_count": 4,
   "metadata": {},
   "outputs": [
    {
     "name": "stdout",
     "output_type": "stream",
     "text": [
      "54890\n"
     ]
    }
   ],
   "source": [
    "cnn_50k = CNNArtifact(\n",
    "    optimizer=torch.optim.Adam,\n",
    "    objective=nn.CrossEntropyLoss(),\n",
    "    num_epochs=40,\n",
    "    weight_init_method='kaiming_uniform',\n",
    "    batch_norm=True,\n",
    "    optimizer_hyperparams={'lr': 0.001, 'betas': (0.9, 0.999)},\n",
    "    dataset_name='fashion',\n",
    ")\n",
    "print(num_params(cnn_50k.model).item())"
   ]
  },
  {
   "cell_type": "code",
   "execution_count": 5,
   "metadata": {},
   "outputs": [
    {
     "name": "stderr",
     "output_type": "stream",
     "text": [
      "  0%|          | 0/4240 [00:00<?, ?it/s]"
     ]
    },
    {
     "name": "stderr",
     "output_type": "stream",
     "text": [
      "epoch:39 train loss:0.2551 train accuracy:0.9125: 100%|██████████| 4240/4240 [03:39<00:00, 19.30it/s]\n"
     ]
    },
    {
     "name": "stdout",
     "output_type": "stream",
     "text": [
      "Mean Accuracy Across Each Batch of the test set: 0.9204 ± 0.02211\n"
     ]
    }
   ],
   "source": [
    "cnn_50k.runner(record_experiment=True)"
   ]
  },
  {
   "cell_type": "code",
   "execution_count": null,
   "metadata": {},
   "outputs": [],
   "source": []
  }
 ],
 "metadata": {
  "kernelspec": {
   "display_name": "uw-dev-env",
   "language": "python",
   "name": "python3"
  },
  "language_info": {
   "codemirror_mode": {
    "name": "ipython",
    "version": 3
   },
   "file_extension": ".py",
   "mimetype": "text/x-python",
   "name": "python",
   "nbconvert_exporter": "python",
   "pygments_lexer": "ipython3",
   "version": "3.11.8"
  }
 },
 "nbformat": 4,
 "nbformat_minor": 2
}
