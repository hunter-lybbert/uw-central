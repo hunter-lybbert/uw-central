{
 "cells": [
  {
   "cell_type": "code",
   "execution_count": 1,
   "metadata": {},
   "outputs": [],
   "source": [
    "import numpy as np"
   ]
  },
  {
   "cell_type": "code",
   "execution_count": 2,
   "metadata": {},
   "outputs": [],
   "source": [
    "hw_weight_502 = 0.7\n",
    "exam_weight_502 = 0.3\n",
    "\n",
    "def calculate_score_502(hw_scores: np.array , exam_scores: np.array) -> np.array:\n",
    "    hw_scores.sort()\n",
    "    hw_scores = hw_scores[1:]\n",
    "    final_grade = hw_weight_502 * np.mean(hw_scores) + exam_weight_502 * exam_scores\n",
    "    return final_grade\n",
    "\n",
    "def convert_score_to_min_gpa_502(score: float) -> float:\n",
    "    diff_score = score - 70\n",
    "    if diff_score > 20:\n",
    "        return 1.5 + diff_score*(1/12)\n",
    "    return 1.5 + diff_score*.1\n",
    "    "
   ]
  },
  {
   "cell_type": "code",
   "execution_count": 3,
   "metadata": {},
   "outputs": [],
   "source": [
    "assert convert_score_to_min_gpa_502(100) == 4.0\n",
    "assert convert_score_to_min_gpa_502(90) == 3.5\n",
    "assert convert_score_to_min_gpa_502(80) == 2.5\n",
    "assert convert_score_to_min_gpa_502(70) == 1.5"
   ]
  },
  {
   "cell_type": "code",
   "execution_count": 4,
   "metadata": {},
   "outputs": [],
   "source": [
    "total_hw = [100, 95, 100, 60, 100, 100, 100, 95]\n",
    "exam_score = 62"
   ]
  },
  {
   "cell_type": "code",
   "execution_count": 5,
   "metadata": {},
   "outputs": [
    {
     "name": "stdout",
     "output_type": "stream",
     "text": [
      "87.6 3.26\n"
     ]
    }
   ],
   "source": [
    "grade_502 = calculate_score_502(np.array(total_hw), exam_score)\n",
    "gpa_502 = convert_score_to_min_gpa_502(grade_502)\n",
    "print(grade_502, gpa_502)"
   ]
  },
  {
   "cell_type": "code",
   "execution_count": 6,
   "metadata": {},
   "outputs": [
    {
     "data": {
      "text/plain": [
       "np.float64(3.362790697674419)"
      ]
     },
     "execution_count": 6,
     "metadata": {},
     "output_type": "execute_result"
    }
   ],
   "source": [
    "CURRENT_GPAS = np.array([4.0, 3.6, 3.0, 4.0, 4.0, 3.3])\n",
    "CURRENT_CREDITS = np.array([5, 5, 5, 5, 5, 5])\n",
    "\n",
    "def calculate_overall_gpa(new_gpas: np.array, new_credits: np.array) -> float:\n",
    "    cur_with_new_gpas = np.concatenate((CURRENT_GPAS, new_gpas))\n",
    "    cur_with_new_credits = np.concatenate((CURRENT_CREDITS, new_credits))\n",
    "\n",
    "    weighted_sum = (cur_with_new_gpas * cur_with_new_credits).sum()\n",
    "    return weighted_sum / np.sum(cur_with_new_credits)\n",
    "\n",
    "calculate_overall_gpa(np.array([2.7, 2.7, 2.7]), np.array([5, 4, 4]))"
   ]
  },
  {
   "cell_type": "code",
   "execution_count": 7,
   "metadata": {},
   "outputs": [],
   "source": [
    "def what_if_calculator(\n",
    "    exam_502: float,\n",
    "    gpa_582: float,\n",
    "    gpa_geospatial: float,\n",
    ") -> float:\n",
    "    \"\"\"\n",
    "    This function calculates the overall GPA if the student gets the following scores in the future:\n",
    "\n",
    "    hw_06_502: float, score for homework 6 in 502\n",
    "    hw_07_502: float, score for homework 7 in 502\n",
    "    hw_08_502: float, score for homework 8 in 502\n",
    "    exam_502: float, score for exam in 502\n",
    "    gpa_582: float, GPA in 582\n",
    "    gpa_geospatial: float, GPA in geospatial\n",
    "\n",
    "    :return: None\n",
    "    \"\"\"\n",
    "    hw_scores_502 = [100, 95, 100, 60, 100, 100, 100, 95]\n",
    "    grade_502 = calculate_score_502(np.array(hw_scores_502), exam_502)\n",
    "    gpa_502 = convert_score_to_min_gpa_502(grade_502)\n",
    "    return grade_502, gpa_502, calculate_overall_gpa(np.array([gpa_502, gpa_582, gpa_geospatial]), np.array([5, 5, 5]))"
   ]
  },
  {
   "cell_type": "code",
   "execution_count": 11,
   "metadata": {},
   "outputs": [
    {
     "name": "stdout",
     "output_type": "stream",
     "text": [
      "Grade in 502: 87.600\n",
      "GPA in 502: 3.260\n",
      "Overall GPA: 3.643\n"
     ]
    }
   ],
   "source": [
    "average_curr_scores = np.array(total_hw).mean().astype(int)\n",
    "\n",
    "res = what_if_calculator(\n",
    "    exam_502=62,\n",
    "    gpa_582=4.0,\n",
    "    gpa_geospatial=4.0,\n",
    ")\n",
    "print(f\"Grade in 502: {res[0]:.3f}\\nGPA in 502: {res[1]:.3f}\\nOverall GPA: {res[2]:.3f}\")"
   ]
  },
  {
   "cell_type": "code",
   "execution_count": null,
   "metadata": {},
   "outputs": [],
   "source": []
  }
 ],
 "metadata": {
  "kernelspec": {
   "display_name": "uw-dev-env",
   "language": "python",
   "name": "python3"
  },
  "language_info": {
   "codemirror_mode": {
    "name": "ipython",
    "version": 3
   },
   "file_extension": ".py",
   "mimetype": "text/x-python",
   "name": "python",
   "nbconvert_exporter": "python",
   "pygments_lexer": "ipython3",
   "version": "3.11.8"
  }
 },
 "nbformat": 4,
 "nbformat_minor": 2
}
