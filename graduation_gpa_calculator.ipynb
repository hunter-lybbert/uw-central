{
 "cells": [
  {
   "cell_type": "code",
   "execution_count": 15,
   "metadata": {},
   "outputs": [],
   "source": [
    "import numpy as np"
   ]
  },
  {
   "cell_type": "code",
   "execution_count": 16,
   "metadata": {},
   "outputs": [],
   "source": [
    "hw_weight_503 = 0.5\n",
    "midterm_weight_503 = 0.2\n",
    "final_exam_weight_503 = 0.3\n",
    "\n",
    "def calculate_score_503(hw_scores: np.array, midterm_exam_score: float, final_exam_score) -> np.array:\n",
    "    hw_scores.sort()\n",
    "    hw_scores = hw_scores[1:]\n",
    "    final_grade = (\n",
    "        hw_weight_503 * np.mean(hw_scores)\n",
    "        + midterm_weight_503 * midterm_exam_score\n",
    "        + final_exam_weight_503 * final_exam_score\n",
    "    )\n",
    "    return final_grade\n",
    "\n",
    "def convert_score_to_min_gpa_502(score: float) -> float:\n",
    "    diff_score = score - 70\n",
    "    if diff_score > 20:\n",
    "        return 1.5 + diff_score*(1/12)\n",
    "    return 1.5 + diff_score*.1\n",
    "    "
   ]
  },
  {
   "cell_type": "code",
   "execution_count": 17,
   "metadata": {},
   "outputs": [],
   "source": [
    "assert convert_score_to_min_gpa_502(100) == 4.0\n",
    "assert convert_score_to_min_gpa_502(90) == 3.5\n",
    "assert convert_score_to_min_gpa_502(80) == 2.5\n",
    "assert convert_score_to_min_gpa_502(70) == 1.5"
   ]
  },
  {
   "cell_type": "code",
   "execution_count": 29,
   "metadata": {},
   "outputs": [],
   "source": [
    "actual_scores = [70, 99, 100, 11]\n",
    "what_if_scores = [85, 100, 80]\n",
    "total_hw = actual_scores + what_if_scores\n",
    "midterm_exam_score = 65\n",
    "final_exam_score = 75"
   ]
  },
  {
   "cell_type": "code",
   "execution_count": 30,
   "metadata": {},
   "outputs": [
    {
     "name": "stdout",
     "output_type": "stream",
     "text": [
      "80.0 2.5\n"
     ]
    }
   ],
   "source": [
    "grade_503 = calculate_score_503(np.array(total_hw), midterm_exam_score, final_exam_score)\n",
    "gpa_503 = convert_score_to_min_gpa_502(grade_503)\n",
    "print(grade_503, gpa_503)"
   ]
  },
  {
   "cell_type": "code",
   "execution_count": 6,
   "metadata": {},
   "outputs": [
    {
     "data": {
      "text/plain": [
       "np.float64(3.362790697674419)"
      ]
     },
     "execution_count": 6,
     "metadata": {},
     "output_type": "execute_result"
    }
   ],
   "source": [
    "CURRENT_GPAS = np.array([4.0, 3.6, 3.0, 4.0, 4.0, 3.3])\n",
    "CURRENT_CREDITS = np.array([5, 5, 5, 5, 5, 5])\n",
    "\n",
    "def calculate_overall_gpa(new_gpas: np.array, new_credits: np.array) -> float:\n",
    "    cur_with_new_gpas = np.concatenate((CURRENT_GPAS, new_gpas))\n",
    "    cur_with_new_credits = np.concatenate((CURRENT_CREDITS, new_credits))\n",
    "\n",
    "    weighted_sum = (cur_with_new_gpas * cur_with_new_credits).sum()\n",
    "    return weighted_sum / np.sum(cur_with_new_credits)\n",
    "\n",
    "calculate_overall_gpa(np.array([2.7, 2.7, 2.7]), np.array([5, 4, 4]))"
   ]
  },
  {
   "cell_type": "code",
   "execution_count": null,
   "metadata": {},
   "outputs": [],
   "source": []
  },
  {
   "cell_type": "code",
   "execution_count": 7,
   "metadata": {},
   "outputs": [],
   "source": [
    "def what_if_calculator(\n",
    "    exam_502: float,\n",
    "    gpa_582: float,\n",
    "    gpa_geospatial: float,\n",
    ") -> float:\n",
    "    \"\"\"\n",
    "    This function calculates the overall GPA if the student gets the following scores in the future:\n",
    "\n",
    "    hw_06_502: float, score for homework 6 in 502\n",
    "    hw_07_502: float, score for homework 7 in 502\n",
    "    hw_08_502: float, score for homework 8 in 502\n",
    "    exam_502: float, score for exam in 502\n",
    "    gpa_582: float, GPA in 582\n",
    "    gpa_geospatial: float, GPA in geospatial\n",
    "\n",
    "    :return: None\n",
    "    \"\"\"\n",
    "    hw_scores_502 = [100, 95, 100, 60, 100, 100, 100, 95]\n",
    "    grade_502 = calculate_score_502(np.array(hw_scores_502), exam_502)\n",
    "    gpa_502 = convert_score_to_min_gpa_502(grade_502)\n",
    "    return grade_502, gpa_502, calculate_overall_gpa(np.array([gpa_502, gpa_582, gpa_geospatial]), np.array([5, 5, 5]))"
   ]
  },
  {
   "cell_type": "code",
   "execution_count": 11,
   "metadata": {},
   "outputs": [
    {
     "name": "stdout",
     "output_type": "stream",
     "text": [
      "Grade in 502: 87.600\n",
      "GPA in 502: 3.260\n",
      "Overall GPA: 3.643\n"
     ]
    }
   ],
   "source": [
    "average_curr_scores = np.array(total_hw).mean().astype(int)\n",
    "\n",
    "res = what_if_calculator(\n",
    "    exam_502=62,\n",
    "    gpa_582=4.0,\n",
    "    gpa_geospatial=4.0,\n",
    ")\n",
    "print(f\"Grade in 502: {res[0]:.3f}\\nGPA in 502: {res[1]:.3f}\\nOverall GPA: {res[2]:.3f}\")"
   ]
  },
  {
   "cell_type": "code",
   "execution_count": null,
   "metadata": {},
   "outputs": [],
   "source": []
  }
 ],
 "metadata": {
  "kernelspec": {
   "display_name": "uw-dev-env",
   "language": "python",
   "name": "python3"
  },
  "language_info": {
   "codemirror_mode": {
    "name": "ipython",
    "version": 3
   },
   "file_extension": ".py",
   "mimetype": "text/x-python",
   "name": "python",
   "nbconvert_exporter": "python",
   "pygments_lexer": "ipython3",
   "version": "3.11.8"
  }
 },
 "nbformat": 4,
 "nbformat_minor": 2
}
